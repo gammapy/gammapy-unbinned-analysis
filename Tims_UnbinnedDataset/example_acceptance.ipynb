{
 "cells": [
  {
   "cell_type": "code",
   "execution_count": 1,
   "metadata": {},
   "outputs": [
    {
     "name": "stdout",
     "output_type": "stream",
     "text": [
      "0.20.1\n"
     ]
    }
   ],
   "source": [
    "import gammapy\n",
    "print(gammapy.__version__)\n",
    "\n",
    "import matplotlib.pyplot as plt\n",
    "import numpy as np\n",
    "import astropy.units as u\n",
    "from astropy.coordinates import SkyCoord\n",
    "from gammapy.data import DataStore, Observation\n",
    "from gammapy.datasets import MapDataset\n",
    "from gammapy.maps import MapAxis, WcsGeom, Map\n",
    "from gammapy.makers import MapDatasetMaker\n",
    "from gammapy.irf import EDispKernel\n",
    "from gammapy.makers.utils import make_psf_map\n",
    "from gammapy.modeling.models import (\n",
    "    Model,\n",
    "    Models,\n",
    "    SkyModel,\n",
    "    PowerLawSpectralModel,\n",
    "    PowerLawNormSpectralModel,\n",
    "    PointSpatialModel,\n",
    "    TemplateSpatialModel,\n",
    "    ExpDecayTemporalModel,\n",
    "    LightCurveTemplateTemporalModel,\n",
    "    FoVBackgroundModel,\n",
    "    GaussianSpatialModel,\n",
    "    LogParabolaSpectralModel,\n",
    "    DatasetModels\n",
    ")"
   ]
  },
  {
   "cell_type": "code",
   "execution_count": 2,
   "metadata": {},
   "outputs": [],
   "source": [
    "data_store = DataStore.from_dir(\"$GAMMAPY_DATA/hess-dl3-dr1\")\n",
    "obs_id = [23523] # just one observation \n",
    "obs1 = data_store.get_observations(obs_id)[0]"
   ]
  },
  {
   "cell_type": "code",
   "execution_count": 3,
   "metadata": {},
   "outputs": [],
   "source": [
    "crab_pos = SkyCoord(184.557, -5.784, unit='deg', frame='galactic') \n",
    "obs_pos=obs1.pointing_radec\n",
    "ebins = np.geomspace(0.5,100,40) # a fine binning in true energy\n",
    "energy_axis = MapAxis.from_edges(\n",
    "    ebins, unit=\"TeV\", name=\"energy\", interp=\"log\"  \n",
    ")\n",
    "energy_axis_true = MapAxis.from_edges(\n",
    "    ebins, unit=\"TeV\", name=\"energy_true\", interp=\"log\"  \n",
    ")\n",
    "migra_axis = MapAxis.from_bounds(\n",
    "    0.2, 5, nbin=160, node_type=\"edges\", name=\"migra\"\n",
    ")\n",
    "geom = WcsGeom.create(\n",
    "    skydir=obs_pos,\n",
    "    binsz=0.01,\n",
    "    width=(3.5, 3.5),\n",
    "    frame=\"icrs\",\n",
    "    proj=\"CAR\",\n",
    "    axes=[energy_axis],\n",
    ")"
   ]
  },
  {
   "cell_type": "code",
   "execution_count": 4,
   "metadata": {},
   "outputs": [
    {
     "name": "stdout",
     "output_type": "stream",
     "text": [
      "CPU times: user 3.24 s, sys: 750 ms, total: 3.99 s\n",
      "Wall time: 4.02 s\n"
     ]
    }
   ],
   "source": [
    "%%time\n",
    "maker = MapDatasetMaker(selection=[\"counts\", 'exposure','edisp', 'background', 'psf'])\n",
    "reference = MapDataset.create(geom=geom, energy_axis_true=energy_axis_true, migra_axis=migra_axis)\n",
    "\n",
    "dataset = maker.run(reference, obs1)"
   ]
  },
  {
   "cell_type": "code",
   "execution_count": 5,
   "metadata": {},
   "outputs": [],
   "source": [
    "model_gauss = SkyModel(\n",
    "    spatial_model=GaussianSpatialModel(lon_0=\"184.557 deg\", lat_0=\"-5.784 deg\", sigma='0.016 deg', frame = 'galactic'),\n",
    "    spectral_model=LogParabolaSpectralModel(amplitude='3.5e-11 cm-2 s-1 TeV-1', \n",
    "                                          reference='1 TeV', \n",
    "                                          alpha=1.8, \n",
    "                                          beta=0.4\n",
    "                                         ),\n",
    "    name='crab_model_gauss'\n",
    "    )\n",
    "\n",
    "model_gauss.spectral_model.amplitude.value /= 10. # 10 times weaker signal than the Crab\n",
    "\n",
    "dataset.exposure.quantity = 1. * dataset.exposure.unit # for comparison neglect exposure here\n",
    "dataset.models=[model_gauss]"
   ]
  },
  {
   "cell_type": "code",
   "execution_count": 6,
   "metadata": {},
   "outputs": [],
   "source": [
    "# define a mask safe which cuts from the model in space and energy\n",
    "mask_safe = dataset.counts.copy()\n",
    "mask_safe.data = True\n",
    "coords_ms = mask_safe.geom.get_coord(sparse=True)\n",
    "sep = coords_ms.skycoord.separation(obs_pos)\n",
    "mask_safe.data *= sep < .6 * u.deg\n",
    "e_mask=mask_safe.geom.energy_mask(1*u.TeV, 30*u.TeV)\n",
    "mask_safe.data *= e_mask\n",
    "dataset.mask_safe = mask_safe"
   ]
  },
  {
   "cell_type": "code",
   "execution_count": 7,
   "metadata": {},
   "outputs": [
    {
     "data": {
      "text/plain": [
       "<matplotlib.collections.PathCollection at 0x7fb820f13e80>"
      ]
     },
     "execution_count": 7,
     "metadata": {},
     "output_type": "execute_result"
    },
    {
     "data": {
      "image/png": "[encoded data removed]",
      "text/plain": [
       "<Figure size 432x288 with 1 Axes>"
      ]
     },
     "metadata": {
      "needs_background": "light"
     },
     "output_type": "display_data"
    }
   ],
   "source": [
    "dataset.mask_safe.sum_over_axes().plot()\n",
    "ax=plt.gca()\n",
    "plt.scatter(model_gauss.position.icrs.ra, model_gauss.position.icrs.dec, transform=ax.get_transform('world'))"
   ]
  },
  {
   "cell_type": "code",
   "execution_count": 8,
   "metadata": {},
   "outputs": [],
   "source": [
    "# define geometry with different binning compared to mask_safe\n",
    "ebins_model = np.geomspace(0.5,100,40) \n",
    "energy_axis_model = MapAxis.from_edges(\n",
    "    ebins_model, unit=\"TeV\", name=\"energy_true\", interp=\"log\"  \n",
    ")\n",
    "geom_model = WcsGeom.create(\n",
    "    skydir=crab_pos,\n",
    "    binsz=0.01,\n",
    "    width=(0.5, 0.5),\n",
    "    frame=\"icrs\",\n",
    "    proj=\"CAR\",\n",
    "    axes=[energy_axis_model],\n",
    ")\n",
    "geom_model_mask = geom_model.to_image().to_cube([mask_safe.geom.axes['energy']])\n",
    "coords_model = geom_model_mask.get_coord()  # or take the coords directly if coords are passed\n",
    "mask_model = Map.from_geom(geom=geom_model_mask.as_energy_true, \n",
    "                           data=mask_safe.interp_by_coord(coords_model))"
   ]
  },
  {
   "cell_type": "code",
   "execution_count": 9,
   "metadata": {},
   "outputs": [
    {
     "data": {
      "text/plain": [
       "<matplotlib.collections.PathCollection at 0x7fb820d3ba60>"
      ]
     },
     "execution_count": 9,
     "metadata": {},
     "output_type": "execute_result"
    },
    {
     "data": {
      "image/png": "[encoded data removed]",
      "text/plain": [
       "<Figure size 432x288 with 1 Axes>"
      ]
     },
     "metadata": {
      "needs_background": "light"
     },
     "output_type": "display_data"
    }
   ],
   "source": [
    "# look at the interpolated mask\n",
    "# pixels on the edge of mask_safe will get fractional values\n",
    "mask_model.sum_over_axes().plot()\n",
    "ax=plt.gca()\n",
    "plt.scatter(model_gauss.position.icrs.ra, model_gauss.position.icrs.dec, transform=ax.get_transform('world'))"
   ]
  },
  {
   "cell_type": "code",
   "execution_count": 10,
   "metadata": {},
   "outputs": [
    {
     "data": {
      "image/png": "[encoded data removed]",
      "text/plain": [
       "<Figure size 432x288 with 1 Axes>"
      ]
     },
     "metadata": {
      "needs_background": "light"
     },
     "output_type": "display_data"
    }
   ],
   "source": [
    "# the same happens in energy if we choose different energy binning\n",
    "# but the edisp will also handle this so we stick to the same energy binning for now\n",
    "mask_model.get_spectrum(region=crab_pos).plot()\n",
    "mask_safe.get_spectrum(region=crab_pos).plot(alpha=0.5)\n",
    "plt.yscale(\"linear\")"
   ]
  },
  {
   "cell_type": "markdown",
   "metadata": {},
   "source": [
    "## closer look at the psf values"
   ]
  },
  {
   "cell_type": "code",
   "execution_count": 97,
   "metadata": {},
   "outputs": [],
   "source": [
    "psf= obs1.psf\n",
    "pointing=obs_pos\n",
    "model_pos = model_gauss.position\n",
    "geom_psf = mask_safe.geom.to_image().cutout(model_pos, mask_safe.geom.pixel_scales*3)\n",
    "geom_psf = geom_psf.to_cube([psf.axes['rad'], geom_model.axes['energy_true']])\n",
    "psfmap = make_psf_map(psf, pointing, geom_psf)\n",
    "# now get the kernel at the model position\n",
    "psf_kernel = psfmap.get_psf_kernel(geom_model, position=model_pos)"
   ]
  },
  {
   "cell_type": "code",
   "execution_count": 98,
   "metadata": {},
   "outputs": [
    {
     "name": "stdout",
     "output_type": "stream",
     "text": [
      "0.5118174843714088\n",
      "0.5006313141641109\n"
     ]
    }
   ],
   "source": [
    "pos_fake = model_pos.directional_offset_by(-100*u.deg, 0.015*u.deg)\n",
    "psf_kernel2 = psfmap.get_psf_kernel(geom_model, position=pos_fake)\n",
    "\n",
    "print(pos_fake.separation(pointing).deg)\n",
    "print(model_pos.separation(pointing).deg)"
   ]
  },
  {
   "cell_type": "code",
   "execution_count": 99,
   "metadata": {},
   "outputs": [
    {
     "data": {
      "text/plain": [
       "[<matplotlib.lines.Line2D at 0x7f292311b100>]"
      ]
     },
     "execution_count": 99,
     "metadata": {},
     "output_type": "execute_result"
    },
    {
     "data": {
      "image/png": "[encoded data removed]",
      "text/plain": [
       "<Figure size 432x288 with 1 Axes>"
      ]
     },
     "metadata": {
      "needs_background": "light"
     },
     "output_type": "display_data"
    }
   ],
   "source": [
    "coords_psf=geom_psf.get_coord(sparse=True)\n",
    "plt.plot(coords_psf['lon'].flatten(), coords_psf['lat'].flatten(), 'o')\n",
    "plt.plot(model_pos.icrs.ra.deg, model_pos.icrs.dec.deg, 'o')\n",
    "plt.plot(pos_fake.icrs.ra.deg, pos_fake.icrs.dec.deg, 'o')"
   ]
  },
  {
   "cell_type": "code",
   "execution_count": 100,
   "metadata": {},
   "outputs": [
    {
     "data": {
      "text/plain": [
       "array([False, False,  True,  True,  True, False, False,  True,  True,\n",
       "        True, False, False, False, False, False, False, False, False,\n",
       "       False, False,  True,  True,  True,  True, False, False, False,\n",
       "       False,  True,  True,  True, False,  True, False, False, False,\n",
       "       False, False, False])"
      ]
     },
     "execution_count": 100,
     "metadata": {},
     "output_type": "execute_result"
    }
   ],
   "source": [
    "np.all(np.isclose(psf_kernel.data, psf_kernel2.data, rtol=1e-1, atol=0),axis=(1,2))"
   ]
  },
  {
   "cell_type": "code",
   "execution_count": 101,
   "metadata": {},
   "outputs": [
    {
     "data": {
      "text/plain": [
       "(array([1.76000e+02, 7.41800e+03, 6.81865e+05, 2.26000e+02, 5.60000e+01,\n",
       "        3.20000e+01, 2.50000e+01, 1.70000e+01, 9.00000e+00, 1.20000e+01,\n",
       "        4.00000e+00, 9.00000e+00, 4.00000e+00, 8.00000e+00, 0.00000e+00,\n",
       "        5.00000e+00, 0.00000e+00, 4.00000e+00, 0.00000e+00, 1.00000e+00]),\n",
       " array([-2.66414169e-05, -1.38414804e-05, -1.04154381e-06,  1.17583927e-05,\n",
       "         2.45583293e-05,  3.73582659e-05,  5.01582024e-05,  6.29581390e-05,\n",
       "         7.57580755e-05,  8.85580121e-05,  1.01357949e-04,  1.14157885e-04,\n",
       "         1.26957822e-04,  1.39757758e-04,  1.52557695e-04,  1.65357631e-04,\n",
       "         1.78157568e-04,  1.90957505e-04,  2.03757441e-04,  2.16557378e-04,\n",
       "         2.29357314e-04]),\n",
       " <BarContainer object of 20 artists>)"
      ]
     },
     "execution_count": 101,
     "metadata": {},
     "output_type": "execute_result"
    },
    {
     "data": {
      "image/png": "[encoded data removed]",
      "text/plain": [
       "<Figure size 432x288 with 1 Axes>"
      ]
     },
     "metadata": {
      "needs_background": "light"
     },
     "output_type": "display_data"
    }
   ],
   "source": [
    "diff = (psf_kernel.data - psf_kernel2.data)#/psf_kernel.data\n",
    "# diff[np.abs(diff)>1]=0\n",
    "plt.hist(np.nan_to_num(diff.flatten()), bins=20, log=True)"
   ]
  },
  {
   "cell_type": "markdown",
   "metadata": {},
   "source": [
    "### however the psfs look very similar"
   ]
  },
  {
   "cell_type": "code",
   "execution_count": 102,
   "metadata": {},
   "outputs": [],
   "source": [
    "dataset.npred()\n",
    "ev=dataset.evaluators['crab_model_gauss']"
   ]
  },
  {
   "cell_type": "code",
   "execution_count": 103,
   "metadata": {},
   "outputs": [
    {
     "data": {
      "application/vnd.jupyter.widget-view+json": {
       "model_id": "bb0518a62c5f415a8dc801d54d58f877",
       "version_major": 2,
       "version_minor": 0
      },
      "text/plain": [
       "interactive(children=(SelectionSlider(continuous_update=False, description='Select energy_true:', layout=Layou…"
      ]
     },
     "metadata": {},
     "output_type": "display_data"
    }
   ],
   "source": [
    "ev.psf.psf_kernel_map.plot_interactive(add_cbar=True)"
   ]
  },
  {
   "cell_type": "code",
   "execution_count": 104,
   "metadata": {},
   "outputs": [
    {
     "data": {
      "application/vnd.jupyter.widget-view+json": {
       "model_id": "038282da88334511b62f302751b321f4",
       "version_major": 2,
       "version_minor": 0
      },
      "text/plain": [
       "interactive(children=(SelectionSlider(continuous_update=False, description='Select energy_true:', layout=Layou…"
      ]
     },
     "metadata": {},
     "output_type": "display_data"
    }
   ],
   "source": [
    "psf_kernel.psf_kernel_map.plot_interactive(add_cbar=True)"
   ]
  },
  {
   "cell_type": "code",
   "execution_count": 105,
   "metadata": {},
   "outputs": [
    {
     "data": {
      "application/vnd.jupyter.widget-view+json": {
       "model_id": "1490620675d74c84bae565c6b09015d7",
       "version_major": 2,
       "version_minor": 0
      },
      "text/plain": [
       "interactive(children=(SelectionSlider(continuous_update=False, description='Select energy_true:', layout=Layou…"
      ]
     },
     "metadata": {},
     "output_type": "display_data"
    }
   ],
   "source": [
    "psf_kernel2.psf_kernel_map.plot_interactive(add_cbar=True)"
   ]
  },
  {
   "cell_type": "markdown",
   "metadata": {},
   "source": [
    "## test the function"
   ]
  },
  {
   "cell_type": "code",
   "execution_count": 10,
   "metadata": {},
   "outputs": [],
   "source": [
    "def make_acceptance(mask_safe, edisp, psf, model_pos, pointing, geom_model):\n",
    "    \"\"\"It will be model specific. \n",
    "    offset = offset of model_pos and pointing (same as is used for binned)\n",
    "    geom_model = geom on which the model is evaluated, maybe we want to pass coords instead\n",
    "    a new mask needs to be interpolated from the mask safe on the geom\n",
    "    \"\"\"\n",
    "    offset = model_pos.separation(pointing)\n",
    "    ## get the new mask_safe based on the geometry on which the model is evaluated\n",
    "    geom_model_mask = geom_model.to_image().to_cube([mask_safe.geom.axes['energy']])\n",
    "    coords_model = geom_model_mask.get_coord()  # or take the coords directly if coords are passed\n",
    "    # the mask_safe in model geometry\n",
    "    mask_model = Map.from_geom(geom=geom_model_mask.as_energy_true, \n",
    "                               data=mask_safe.interp_by_coord(coords_model))\n",
    "    \n",
    "    ## create edisp \n",
    "    # because we want to convolve a reco map we do a trick and create a transposed EdispKernel\n",
    "    edisp_kernel = edisp.to_edisp_kernel(offset, \n",
    "                                         energy_true=geom_model.axes['energy_true'].edges , \n",
    "                                         energy=mask_safe.geom.axes['energy'].edges)\n",
    "    # change the axes\n",
    "    ax_reco = geom_model.axes['energy_true'].copy()\n",
    "    ax_true = mask_safe.geom.axes['energy'].copy()\n",
    "    ax_reco._name=\"energy\"\n",
    "    ax_true._name='energy_true'\n",
    "    edisp_kernelT = EDispKernel(axes=[ax_true, ax_reco], data = edisp_kernel.data.T)\n",
    "    \n",
    "    ## create the psf\n",
    "    # first a PSFMap with 3x3 pixels around the model_position\n",
    "    geom_psf = mask_safe.geom.to_image().cutout(model_pos, mask_safe.geom.pixel_scales*3)\n",
    "    geom_psf = geom_psf.to_cube([psf.axes['rad'], geom_model.axes['energy_true']])\n",
    "    psfmap = make_psf_map(psf, pointing, geom_psf)\n",
    "    # now get the kernel at the model position\n",
    "    psf_kernel = psfmap.get_psf_kernel(geom_model, position=model_pos)\n",
    "\n",
    "    acceptance=mask_model.apply_edisp(edisp_kernelT)  # order of edisp and psf doesn't matter much\n",
    "    return acceptance.convolve(psf_kernel) # but edisp does ereco --> etrue and psf is in etrue"
   ]
  },
  {
   "cell_type": "code",
   "execution_count": 11,
   "metadata": {},
   "outputs": [
    {
     "name": "stdout",
     "output_type": "stream",
     "text": [
      "CPU times: user 5.31 s, sys: 1.78 s, total: 7.09 s\n",
      "Wall time: 7.11 s\n"
     ]
    }
   ],
   "source": [
    "%%time\n",
    "# When using the geom_model for the model evaluation\n",
    "acceptance=make_acceptance(mask_safe, obs1.edisp, obs1.psf, model_gauss.position, obs_pos, geom_model)"
   ]
  },
  {
   "cell_type": "code",
   "execution_count": 12,
   "metadata": {},
   "outputs": [],
   "source": [
    "# %%time\n",
    "# When using the mask_safe.geom for the model evaluation\n",
    "acceptance=make_acceptance(mask_safe, obs1.edisp, obs1.psf, model_gauss.position, obs_pos, mask_safe.geom.as_energy_true)"
   ]
  },
  {
   "cell_type": "code",
   "execution_count": 13,
   "metadata": {},
   "outputs": [
    {
     "data": {
      "application/vnd.jupyter.widget-view+json": {
       "model_id": "1a64016cd8e7481da4665b925c837629",
       "version_major": 2,
       "version_minor": 0
      },
      "text/plain": [
       "interactive(children=(SelectionSlider(continuous_update=False, description='Select energy:', layout=Layout(wid…"
      ]
     },
     "metadata": {},
     "output_type": "display_data"
    }
   ],
   "source": [
    "# the acceptance is the interpolated mask_safe smoothed with the irfs\n",
    "acceptance.plot_interactive(add_cbar=True)"
   ]
  },
  {
   "cell_type": "code",
   "execution_count": 86,
   "metadata": {},
   "outputs": [
    {
     "name": "stdout",
     "output_type": "stream",
     "text": [
      "2.3977646581555372e-08\n",
      "5.733697816914333e-08\n"
     ]
    }
   ],
   "source": [
    "# get both the total npred in true coordinates and the amount that falls into the reco mask_safe\n",
    "npred_true=model_gauss.integrate_geom(geom_model)\n",
    "npred_sum = np.sum(npred_true.quantity.to_value(\"s-1 m-2\") * acceptance.data)\n",
    "print(npred_sum)\n",
    "print(npred_true.quantity.to_value(\"s-1 m-2\").sum())"
   ]
  },
  {
   "cell_type": "code",
   "execution_count": 87,
   "metadata": {},
   "outputs": [
    {
     "name": "stdout",
     "output_type": "stream",
     "text": [
      "2.397609347982785e-08\n",
      "5.702710049135778e-08\n"
     ]
    }
   ],
   "source": [
    "# compare to the total npred in reco coordinates and the amount that falls into the reco mask_safe\n",
    "npred_ds = dataset.npred()  # also contains background\n",
    "npred_ds.data = 0.\n",
    "npred_source=dataset.evaluators['crab_model_gauss'].compute_npred()\n",
    "npred_ds.stack(npred_source) # we need the full map geometry to apply the safe mask\n",
    "print(npred_ds.data[mask_safe.data].sum())\n",
    "print(npred_ds.data.sum())"
   ]
  },
  {
   "cell_type": "code",
   "execution_count": 88,
   "metadata": {},
   "outputs": [
    {
     "data": {
      "text/plain": [
       "5.7336977544395905e-08"
      ]
     },
     "execution_count": 88,
     "metadata": {},
     "output_type": "execute_result"
    }
   ],
   "source": [
    "ev=dataset.evaluators['crab_model_gauss']\n",
    "ev.apply_exposure(ev.compute_flux_psf_convolved()).data.sum()"
   ]
  },
  {
   "cell_type": "code",
   "execution_count": 106,
   "metadata": {},
   "outputs": [],
   "source": [
    "# npred_true=model_gauss.integrate_geom(ev.exposure.geom)\n",
    "# npred_sum = np.sum(npred_true.quantity.to_value(\"s-1 m-2\") * acceptance.data)\n",
    "# print(npred_sum)\n",
    "# print(npred_true.quantity.to_value(\"s-1 m-2\").sum())"
   ]
  },
  {
   "cell_type": "code",
   "execution_count": 89,
   "metadata": {},
   "outputs": [],
   "source": [
    "ratio_binned=[]\n",
    "ratio_unbinned=[]\n",
    "ratio_both=[]\n",
    "alphas=np.linspace(0.5,3.5,10)\n",
    "for alpha in alphas:\n",
    "    model_gauss.spectral_model.alpha.value = alpha\n",
    "    \n",
    "#     npred_true=model_gauss.integrate_geom(mask_safe.geom.as_energy_true)\n",
    "    npred_true=model_gauss.integrate_geom(geom_model)\n",
    "    npred_sum = np.sum(npred_true.quantity.to_value(\"s-1 m-2\") * acceptance.data)\n",
    "    usm=npred_sum\n",
    "    us=npred_true.quantity.to_value(\"s-1 m-2\").sum()\n",
    "    ratio_unbinned.append(usm/us)\n",
    "    \n",
    "    npred_ds = dataset.npred()  # also contains background\n",
    "    npred_ds.data = 0.\n",
    "    npred_source=dataset.evaluators['crab_model_gauss'].compute_npred()\n",
    "    npred_ds.stack(npred_source) # we need the full map geometry to apply the safe mask\n",
    "    sbm=npred_ds.data[mask_safe.data].sum()\n",
    "    sb=npred_ds.data.sum()\n",
    "    ratio_binned.append(sbm/sb)\n",
    "    \n",
    "    ratio_both.append(usm/sbm)"
   ]
  },
  {
   "cell_type": "code",
   "execution_count": 94,
   "metadata": {},
   "outputs": [
    {
     "data": {
      "text/plain": [
       "Text(0.5, 0, 'spectral index')"
      ]
     },
     "execution_count": 94,
     "metadata": {},
     "output_type": "execute_result"
    },
    {
     "data": {
      "image/png": "[encoded data removed]",
      "text/plain": [
       "<Figure size 432x288 with 1 Axes>"
      ]
     },
     "metadata": {
      "needs_background": "light"
     },
     "output_type": "display_data"
    }
   ],
   "source": [
    "# with mask_safe.geom for the model\n",
    "plt.plot(alphas, ratio_binned, label='npred in mask / total (binned)')\n",
    "plt.plot(alphas, ratio_unbinned, label='npred in mask / total (unbinned)')\n",
    "plt.plot(alphas, (np.array(ratio_both)-1)*1000, label='unbinned / binned (in mask)[%]')\n",
    "plt.plot(alphas, (np.array(ratio_binned)-ratio_unbinned)*10, label='diff x10')\n",
    "plt.legend()\n",
    "plt.ylabel('ratio')\n",
    "plt.xlabel('spectral index')"
   ]
  },
  {
   "cell_type": "code",
   "execution_count": 43,
   "metadata": {},
   "outputs": [
    {
     "data": {
      "text/plain": [
       "Text(0.5, 0, 'spectral index')"
      ]
     },
     "execution_count": 43,
     "metadata": {},
     "output_type": "execute_result"
    },
    {
     "data": {
      "image/png": "[encoded data removed]",
      "text/plain": [
       "<Figure size 432x288 with 1 Axes>"
      ]
     },
     "metadata": {
      "needs_background": "light"
     },
     "output_type": "display_data"
    }
   ],
   "source": [
    "# with geom_model\n",
    "plt.plot(alphas, ratio_binned, label='npred in mask / total (binned)')\n",
    "plt.plot(alphas, ratio_unbinned, label='npred in mask / total (unbinned)')\n",
    "plt.plot(alphas, (np.array(ratio_both)-1)*-10, label='unbinned / binned (in mask)[10%]')\n",
    "plt.plot(alphas, (np.array(ratio_binned)-ratio_unbinned)*10, label='diff x10')\n",
    "plt.legend()\n",
    "plt.ylabel('ratio')\n",
    "plt.xlabel('spectral index')"
   ]
  },
  {
   "cell_type": "markdown",
   "metadata": {},
   "source": [
    "# Conclusion\n",
    "We see nearly perfect agreement (<0.4%) if the model_geometry is the same as the mask_safe geometry. Otherwise the acceptance gives ~ 6% less of the counts compared to the application of mask_safe.\n",
    "\n",
    "We improve a little to 5.5% when using the same energy axis.\n",
    "A similar amount when choosing the same pixels and also when both are equal\n",
    "\n",
    "We improve up to 3% when the geometries are alligned, i.e. also using obs_pos as center and the same pixel size"
   ]
  },
  {
   "cell_type": "markdown",
   "metadata": {},
   "source": [
    "TODO: Check if Edisp is the reason for bad performance with different energy axes by enabling and disabling the edisp  \n",
    "    -> the edisp has only a very minor influence on the difference\n",
    " \n",
    "But the psf has a large influence. By disabling the psf we get almost perfect agreement.  \n",
    "Also if the source in not near the mask's edge the influence of the PSF is small.  \n",
    "The exact position of the interpolation of the `PSFMap` to the `PSFKernel` seems to have a rather large influence on the exact values of the kernel."
   ]
  },
  {
   "cell_type": "code",
   "execution_count": null,
   "metadata": {},
   "outputs": [],
   "source": []
  }
 ],
 "metadata": {
  "kernelspec": {
   "display_name": "Python [conda env:gammapy-0.20]",
   "language": "python",
   "name": "conda-env-gammapy-0.20-py"
  },
  "language_info": {
   "codemirror_mode": {
    "name": "ipython",
    "version": 3
   },
   "file_extension": ".py",
   "mimetype": "text/x-python",
   "name": "python",
   "nbconvert_exporter": "python",
   "pygments_lexer": "ipython3",
   "version": "3.9.12"
  }
 },
 "nbformat": 4,
 "nbformat_minor": 2
}
