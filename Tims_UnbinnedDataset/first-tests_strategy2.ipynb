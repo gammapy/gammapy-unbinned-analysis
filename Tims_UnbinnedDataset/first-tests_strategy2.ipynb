{
 "cells": [
  {
   "cell_type": "code",
   "execution_count": 1,
   "metadata": {},
   "outputs": [
    {
     "name": "stdout",
     "output_type": "stream",
     "text": [
      "0.19\n"
     ]
    }
   ],
   "source": [
    "import gammapy\n",
    "print(gammapy.__version__)"
   ]
  },
  {
   "cell_type": "code",
   "execution_count": 2,
   "metadata": {},
   "outputs": [],
   "source": [
    "import matplotlib.pyplot as plt\n",
    "from pathlib import Path\n",
    "import numpy as np\n",
    "import astropy.units as u\n",
    "from astropy.io import fits\n",
    "from astropy.table import Table\n",
    "from astropy.time import Time\n",
    "from astropy.coordinates import SkyCoord, Angle\n",
    "from regions import CircleSkyRegion\n",
    "from gammapy.data import DataStore, Observation\n",
    "from gammapy.datasets import MapDataset, MapDatasetEventSampler\n",
    "from gammapy.estimators import LightCurveEstimator\n",
    "from gammapy.maps import MapAxis, WcsGeom, Map, MapAxes, WcsNDMap\n",
    "from gammapy.irf import load_cta_irfs\n",
    "from gammapy.makers import MapDatasetMaker, FoVBackgroundMaker, SafeMaskMaker\n",
    "from gammapy.modeling import Fit\n",
    "from gammapy.modeling.models import (\n",
    "    Model,\n",
    "    Models,\n",
    "    SkyModel,\n",
    "    PowerLawSpectralModel,\n",
    "    PowerLawNormSpectralModel,\n",
    "    PointSpatialModel,\n",
    "    TemplateSpatialModel,\n",
    "    ExpDecayTemporalModel,\n",
    "    LightCurveTemplateTemporalModel,\n",
    "    FoVBackgroundModel,\n",
    "    GaussianSpatialModel,\n",
    "    LogParabolaSpectralModel\n",
    ")"
   ]
  },
  {
   "cell_type": "code",
   "execution_count": 3,
   "metadata": {},
   "outputs": [],
   "source": [
    "from gammapy.utils.interpolation import (\n",
    "    ScaledRegularGridInterpolator,\n",
    "    interpolation_scale,\n",
    ")\n",
    "from astropy.utils import lazyproperty\n",
    "from gammapy.irf.core import IRF  # possibly inherite from IRF\n",
    "class EdispInv():\n",
    "    \"\"\"\n",
    "    Class to give the PDF for an event with e_reco = E to come from a true energy E'\n",
    "    \"\"\"\n",
    "    default_interp_kwargs = dict(\n",
    "        bounds_error=False,\n",
    "        fill_value=0.0,\n",
    "    )\n",
    "    def __init__(self, edisp2d, emin, emax, e_steps=120, interp_kwargs=None):\n",
    "        \"\"\"\n",
    "        edisp2d: gammapy.irf.EnergyDispersion2D\n",
    "        energy_reco: MapAxis with reconstructed energies\n",
    "        \"\"\"\n",
    "        self._edisp2d = edisp2d\n",
    "        self.energy_reco = np.geomspace(emin, emax, e_steps) # fine sampled e_reco edges\n",
    "        self.e_reco =MapAxis.from_edges(self.energy_reco, name=\"energy\", interp=\"log\")\n",
    "        # keep original axes to loose no information through interpolation\n",
    "        self.offset=self._edisp2d.axes[\"offset\"]\n",
    "        self.migra=self._edisp2d.axes[\"migra\"]\n",
    "        self.e_true=self._edisp2d.axes[\"energy_true\"]\n",
    "        self.axes = MapAxes([self.offset, self.e_true, self.e_reco])\n",
    "        kernels = []\n",
    "        pdfs = []\n",
    "        for off in self.offset.center:\n",
    "            kernel=self._edisp2d.to_edisp_kernel(offset=off, \n",
    "                                                 energy=self.energy_reco)\n",
    "            data = kernel.data # probabilities normed along e_reco (axis=1)\n",
    "            # renorm along e_true\n",
    "            with np.errstate(invalid='ignore'):\n",
    "                data /= data.sum(axis=0)\n",
    "                \n",
    "            data = np.nan_to_num(data)\n",
    "            pdf = data / np.diff(self.e_true.edges)[:,np.newaxis]\n",
    "            kernels.append(data)\n",
    "            pdfs.append(pdf)\n",
    "            \n",
    "#         self.data = NDDataArray(axes=axes, data=np.array(kernels))\n",
    "#         self.data_pdf = NDDataArray(axes=axes, data=np.array(pdfs))\n",
    "        \n",
    "        self.kernels=np.array(kernels)\n",
    "        self.pdfs = np.array(pdfs)/self.e_true.unit\n",
    "        \n",
    "        if interp_kwargs is None:\n",
    "            interp_kwargs = self.default_interp_kwargs.copy()\n",
    "        self.interp_kwargs = interp_kwargs\n",
    "    @lazyproperty   \n",
    "    def _interpolate(self):\n",
    "        kwargs = self.interp_kwargs.copy()\n",
    "        # Allow extrap[olation with in bins\n",
    "        kwargs[\"fill_value\"] = None\n",
    "        points = [a.center for a in self.axes]\n",
    "        points_scale = tuple([a.interp for a in self.axes])\n",
    "        return ScaledRegularGridInterpolator(\n",
    "            points,\n",
    "            self.pdfs,\n",
    "            points_scale=points_scale,\n",
    "            **kwargs,\n",
    "        )\n",
    "    @staticmethod\n",
    "    def _mask_out_bounds(invalid):\n",
    "        return np.any(invalid, axis=0)\n",
    "    \n",
    "    def evaluate(self, method=None, **kwargs):\n",
    "        \"\"\"Evaluate IRF\n",
    "        Parameters\n",
    "        ----------\n",
    "        **kwargs : dict\n",
    "            Coordinates at which to evaluate the IRF\n",
    "        method : str {'linear', 'nearest'}, optional\n",
    "            Interpolation method\n",
    "        Returns\n",
    "        -------\n",
    "        array : `~astropy.units.Quantity`\n",
    "            Interpolated values\n",
    "        \"\"\"\n",
    "        # TODO: change to coord dict?\n",
    "        non_valid_axis = set(kwargs).difference(self.axes.names)\n",
    "        if non_valid_axis:\n",
    "            raise ValueError(\n",
    "                f\"Not a valid coordinate axis {non_valid_axis}\"\n",
    "                f\" Choose from: {self.axes.names}\"\n",
    "            )\n",
    "\n",
    "        coords_default = self.axes.get_coord()\n",
    "\n",
    "        for key, value in kwargs.items():\n",
    "            coord = kwargs.get(key, value)\n",
    "            if coord is not None:\n",
    "                coords_default[key] = u.Quantity(coord, copy=False)\n",
    "        data = self._interpolate(coords_default.values(), method=method)\n",
    "\n",
    "        if self.interp_kwargs[\"fill_value\"] is not None:\n",
    "            idxs = self.axes.coord_to_idx(coords_default, clip=False)\n",
    "            invalid = np.broadcast_arrays(*[idx == -1 for idx in idxs])\n",
    "            mask = self._mask_out_bounds(invalid)\n",
    "            if not data.shape:\n",
    "                mask = mask.squeeze()\n",
    "            data[mask] = self.interp_kwargs[\"fill_value\"]\n",
    "            data[~np.isfinite(data)] = self.interp_kwargs[\"fill_value\"]\n",
    "        return data\n",
    "    \n",
    "    def plot_pdf_vs_Etrue(self, ax=None, e_reco=None, offset=None, **kwargs):\n",
    "        \n",
    "        ax = plt.gca() if ax is None else ax\n",
    "\n",
    "        if offset is None:\n",
    "            offset = [Angle(1, \"deg\")]\n",
    "            \n",
    "        if e_reco is None:\n",
    "            e_reco = [1]*u.TeV\n",
    "\n",
    "        energy_true = self.axes[\"energy_true\"]\n",
    "\n",
    "        \n",
    "        \n",
    "        for o in offset:\n",
    "            for e in e_reco:\n",
    "                z = self.evaluate(\n",
    "                    offset=o,\n",
    "                    energy_true=energy_true.center,\n",
    "                    energy=e,\n",
    "                )\n",
    "                ax.semilogx(energy_true.center, z,label=f'{e} - {o}', **kwargs)\n",
    "            \n",
    "        ax.legend()\n",
    "        ax.set_xlabel(f'Energy True [{energy_true.unit}]')\n",
    "        ax.set_ylabel('Probability density')\n",
    "        return ax"
   ]
  },
  {
   "cell_type": "code",
   "execution_count": 4,
   "metadata": {},
   "outputs": [
    {
     "name": "stderr",
     "output_type": "stream",
     "text": [
      "No HDU found matching: OBS_ID = 23523, HDU_TYPE = rad_max, HDU_CLASS = None\n"
     ]
    }
   ],
   "source": [
    "### Generate a data set\n",
    "data_store = DataStore.from_dir(\"$GAMMAPY_DATA/hess-dl3-dr1\")\n",
    "obs_id = [23523] # just one observation \n",
    "obs1 = data_store.get_observations(obs_id)[0]"
   ]
  },
  {
   "cell_type": "code",
   "execution_count": 5,
   "metadata": {},
   "outputs": [],
   "source": [
    "crab_pos = SkyCoord(184.557, -5.784, unit='deg', frame='galactic') \n",
    "ebins = np.logspace(-1,2,49)\n",
    "# e_edges = ebins.copy()[np.where(ebins>=min_energy)[0][0]-3:]\n",
    "# e_edges[-1] = 84.\n",
    "energy_axis = MapAxis.from_edges(\n",
    "    ebins[::2], unit=\"TeV\", name=\"energy\", interp=\"log\"  \n",
    ")\n",
    "energy_axis_true = MapAxis.from_edges(\n",
    "    ebins, unit=\"TeV\", name=\"energy_true\", interp=\"log\"  \n",
    ")\n",
    "geom = WcsGeom.create(\n",
    "    skydir=crab_pos,\n",
    "    binsz=0.02,\n",
    "    width=(3.5, 3.5),\n",
    "    frame=\"icrs\",\n",
    "    proj=\"CAR\",\n",
    "    axes=[energy_axis],\n",
    ")\n",
    "\n",
    "circle = CircleSkyRegion(\n",
    "    center=crab_pos, radius=0.3 * u.deg\n",
    ")\n",
    "data = geom.region_mask(regions=[circle], inside=False)\n",
    "exclusion_mask = ~geom.region_mask(regions=[circle])\n",
    "maker_fov = FoVBackgroundMaker(method=\"fit\", exclusion_mask=exclusion_mask)"
   ]
  },
  {
   "cell_type": "code",
   "execution_count": 6,
   "metadata": {},
   "outputs": [
    {
     "name": "stdout",
     "output_type": "stream",
     "text": [
      "Background norm obs 23523: 0.83     (tilt=-0.12)\n",
      "CPU times: user 4.91 s, sys: 437 ms, total: 5.34 s\n",
      "Wall time: 6.22 s\n"
     ]
    }
   ],
   "source": [
    "%%time\n",
    "maker = MapDatasetMaker(background_oversampling=2)\n",
    "maker_safe_mask = SafeMaskMaker(methods=['offset-max', 'aeff-default'], offset_max='1.5 deg')\n",
    "reference = MapDataset.create(geom=geom, energy_axis_true=energy_axis_true)  \n",
    "\n",
    "dataset = maker.run(reference, obs1)\n",
    "dataset = maker_safe_mask.run(dataset, obs1)\n",
    "\n",
    "assert np.isfinite(dataset.background.data[dataset.mask_safe.data]).all()\n",
    "dataset.background.data[~dataset.mask_safe.data] = 0.0\n",
    "\n",
    "bkg_model = FoVBackgroundModel(dataset_name=dataset.name)\n",
    "dataset.models=bkg_model\n",
    "dataset.background_model.spectral_model.tilt.frozen = False\n",
    "dataset = maker_fov.run(dataset)\n",
    "print(\n",
    "    f\"Background norm obs {obs1.obs_id}: {dataset.background_model.spectral_model.norm.value:.2f} \\\n",
    "    (tilt={dataset.background_model.spectral_model.tilt.value:.2f})\"\n",
    ")"
   ]
  },
  {
   "cell_type": "code",
   "execution_count": 7,
   "metadata": {},
   "outputs": [
    {
     "data": {
      "text/html": [
       "<div><i>Table length=7613</i>\n",
       "<table id=\"table140283389467136\" class=\"table-striped table-bordered table-condensed\">\n",
       "<thead><tr><th>EVENT_ID</th><th>TIME</th><th>RA</th><th>DEC</th><th>ENERGY</th></tr></thead>\n",
       "<thead><tr><th></th><th>s</th><th>deg</th><th>deg</th><th>TeV</th></tr></thead>\n",
       "<thead><tr><th>int64</th><th>float64</th><th>float32</th><th>float32</th><th>float32</th></tr></thead>\n",
       "<tr><td>5407363825684</td><td>123890826.66805482</td><td>84.97964</td><td>23.89347</td><td>10.352011</td></tr>\n",
       "<tr><td>5407363825695</td><td>123890826.69749284</td><td>84.54751</td><td>21.004095</td><td>4.0246882</td></tr>\n",
       "<tr><td>5407363825831</td><td>123890827.23673964</td><td>85.39696</td><td>19.41868</td><td>2.2048872</td></tr>\n",
       "<tr><td>5407363825970</td><td>123890827.79615426</td><td>81.93147</td><td>20.79867</td><td>0.69548655</td></tr>\n",
       "<tr><td>5407363826067</td><td>123890828.26131463</td><td>85.98302</td><td>21.053099</td><td>0.86911184</td></tr>\n",
       "<tr><td>5407363826095</td><td>123890828.41393518</td><td>86.97305</td><td>21.837437</td><td>4.1240892</td></tr>\n",
       "<tr><td>5407363826128</td><td>123890828.52555823</td><td>83.40073</td><td>19.771587</td><td>1.6680022</td></tr>\n",
       "<tr><td>5407363826168</td><td>123890828.6829524</td><td>82.25036</td><td>19.22003</td><td>4.7649446</td></tr>\n",
       "<tr><td>5407363826383</td><td>123890829.53362775</td><td>83.18322</td><td>22.008213</td><td>0.7920148</td></tr>\n",
       "<tr><td>5407363826414</td><td>123890829.61423635</td><td>84.70039</td><td>20.08733</td><td>2.1429496</td></tr>\n",
       "<tr><td>5407363826446</td><td>123890829.75004911</td><td>82.30209</td><td>20.510132</td><td>0.702869</td></tr>\n",
       "<tr><td>5407363826528</td><td>123890830.12077785</td><td>82.992775</td><td>21.780273</td><td>27.350904</td></tr>\n",
       "<tr><td>5407363826567</td><td>123890830.25761104</td><td>82.28364</td><td>21.345219</td><td>1.1545221</td></tr>\n",
       "<tr><td>5407363826656</td><td>123890830.61403751</td><td>83.58668</td><td>20.127363</td><td>0.6688179</td></tr>\n",
       "<tr><td>5407363826676</td><td>123890830.67634344</td><td>83.76723</td><td>21.600004</td><td>0.5301236</td></tr>\n",
       "<tr><td>5407363826706</td><td>123890830.7927072</td><td>82.27851</td><td>22.370634</td><td>3.6702023</td></tr>\n",
       "<tr><td>5407363826853</td><td>123890831.30471349</td><td>81.82896</td><td>20.343122</td><td>1.4597307</td></tr>\n",
       "<tr><td>5407363826947</td><td>123890831.74808931</td><td>82.081894</td><td>20.383997</td><td>0.6980623</td></tr>\n",
       "<tr><td>5407363827010</td><td>123890832.00823331</td><td>81.607895</td><td>22.087378</td><td>0.8461842</td></tr>\n",
       "<tr><td>...</td><td>...</td><td>...</td><td>...</td><td>...</td></tr>\n",
       "<tr><td>7194070221795</td><td>123892509.79981422</td><td>84.94855</td><td>21.236029</td><td>4.011447</td></tr>\n",
       "<tr><td>7198365524552</td><td>123892509.81967068</td><td>82.259964</td><td>16.113157</td><td>38.259308</td></tr>\n",
       "<tr><td>7198365188098</td><td>123892509.82055283</td><td>83.527405</td><td>21.111254</td><td>0.6374921</td></tr>\n",
       "<tr><td>7198365188181</td><td>123892510.13182902</td><td>83.58828</td><td>23.462141</td><td>9.680695</td></tr>\n",
       "<tr><td>7198365188207</td><td>123892510.24479365</td><td>84.97216</td><td>19.973597</td><td>2.0567915</td></tr>\n",
       "<tr><td>7198365188226</td><td>123892510.30810308</td><td>88.690254</td><td>19.942266</td><td>61.515728</td></tr>\n",
       "<tr><td>7198365188380</td><td>123892510.9435544</td><td>82.44713</td><td>20.25431</td><td>0.6113351</td></tr>\n",
       "<tr><td>7198365188420</td><td>123892511.12366247</td><td>82.813965</td><td>22.070494</td><td>0.72054774</td></tr>\n",
       "<tr><td>7198365188478</td><td>123892511.37516403</td><td>83.86311</td><td>21.793667</td><td>4.118982</td></tr>\n",
       "<tr><td>7198365188517</td><td>123892511.54736757</td><td>80.49323</td><td>22.5629</td><td>28.962795</td></tr>\n",
       "<tr><td>7198365188529</td><td>123892511.59526515</td><td>85.58907</td><td>21.491413</td><td>0.6518216</td></tr>\n",
       "<tr><td>7198365188578</td><td>123892511.85330749</td><td>85.239136</td><td>23.94445</td><td>6.0601764</td></tr>\n",
       "<tr><td>7198365188605</td><td>123892511.93477488</td><td>82.4973</td><td>22.135513</td><td>0.5850589</td></tr>\n",
       "<tr><td>7198365188619</td><td>123892512.01627827</td><td>81.832565</td><td>20.889784</td><td>0.79988396</td></tr>\n",
       "<tr><td>7198365188742</td><td>123892512.49603844</td><td>83.06237</td><td>22.34547</td><td>0.5771867</td></tr>\n",
       "<tr><td>7198365188792</td><td>123892512.74561787</td><td>83.14342</td><td>23.21574</td><td>9.994803</td></tr>\n",
       "<tr><td>7198365188797</td><td>123892512.78117561</td><td>81.45052</td><td>22.960012</td><td>5.6078057</td></tr>\n",
       "<tr><td>7198365188816</td><td>123892512.85406923</td><td>84.41192</td><td>21.330505</td><td>0.5524084</td></tr>\n",
       "<tr><td>7198365188843</td><td>123892513.0062654</td><td>84.47432</td><td>21.634737</td><td>1.1091197</td></tr>\n",
       "</table></div>"
      ],
      "text/plain": [
       "<Table length=7613>\n",
       "   EVENT_ID          TIME            RA       DEC      ENERGY  \n",
       "                      s             deg       deg       TeV    \n",
       "    int64          float64        float32   float32   float32  \n",
       "------------- ------------------ --------- --------- ----------\n",
       "5407363825684 123890826.66805482  84.97964  23.89347  10.352011\n",
       "5407363825695 123890826.69749284  84.54751 21.004095  4.0246882\n",
       "5407363825831 123890827.23673964  85.39696  19.41868  2.2048872\n",
       "5407363825970 123890827.79615426  81.93147  20.79867 0.69548655\n",
       "5407363826067 123890828.26131463  85.98302 21.053099 0.86911184\n",
       "5407363826095 123890828.41393518  86.97305 21.837437  4.1240892\n",
       "5407363826128 123890828.52555823  83.40073 19.771587  1.6680022\n",
       "5407363826168  123890828.6829524  82.25036  19.22003  4.7649446\n",
       "5407363826383 123890829.53362775  83.18322 22.008213  0.7920148\n",
       "5407363826414 123890829.61423635  84.70039  20.08733  2.1429496\n",
       "5407363826446 123890829.75004911  82.30209 20.510132   0.702869\n",
       "5407363826528 123890830.12077785 82.992775 21.780273  27.350904\n",
       "5407363826567 123890830.25761104  82.28364 21.345219  1.1545221\n",
       "5407363826656 123890830.61403751  83.58668 20.127363  0.6688179\n",
       "5407363826676 123890830.67634344  83.76723 21.600004  0.5301236\n",
       "5407363826706  123890830.7927072  82.27851 22.370634  3.6702023\n",
       "5407363826853 123890831.30471349  81.82896 20.343122  1.4597307\n",
       "5407363826947 123890831.74808931 82.081894 20.383997  0.6980623\n",
       "5407363827010 123890832.00823331 81.607895 22.087378  0.8461842\n",
       "          ...                ...       ...       ...        ...\n",
       "7194070221795 123892509.79981422  84.94855 21.236029   4.011447\n",
       "7198365524552 123892509.81967068 82.259964 16.113157  38.259308\n",
       "7198365188098 123892509.82055283 83.527405 21.111254  0.6374921\n",
       "7198365188181 123892510.13182902  83.58828 23.462141   9.680695\n",
       "7198365188207 123892510.24479365  84.97216 19.973597  2.0567915\n",
       "7198365188226 123892510.30810308 88.690254 19.942266  61.515728\n",
       "7198365188380  123892510.9435544  82.44713  20.25431  0.6113351\n",
       "7198365188420 123892511.12366247 82.813965 22.070494 0.72054774\n",
       "7198365188478 123892511.37516403  83.86311 21.793667   4.118982\n",
       "7198365188517 123892511.54736757  80.49323   22.5629  28.962795\n",
       "7198365188529 123892511.59526515  85.58907 21.491413  0.6518216\n",
       "7198365188578 123892511.85330749 85.239136  23.94445  6.0601764\n",
       "7198365188605 123892511.93477488   82.4973 22.135513  0.5850589\n",
       "7198365188619 123892512.01627827 81.832565 20.889784 0.79988396\n",
       "7198365188742 123892512.49603844  83.06237  22.34547  0.5771867\n",
       "7198365188792 123892512.74561787  83.14342  23.21574   9.994803\n",
       "7198365188797 123892512.78117561  81.45052 22.960012  5.6078057\n",
       "7198365188816 123892512.85406923  84.41192 21.330505  0.5524084\n",
       "7198365188843  123892513.0062654  84.47432 21.634737  1.1091197"
      ]
     },
     "execution_count": 7,
     "metadata": {},
     "output_type": "execute_result"
    }
   ],
   "source": [
    "### store the events\n",
    "ev_table=obs1.events.table\n",
    "ev_table"
   ]
  },
  {
   "cell_type": "code",
   "execution_count": 8,
   "metadata": {},
   "outputs": [
    {
     "name": "stdout",
     "output_type": "stream",
     "text": [
      "[158156.19552684 146002.69482856 133849.19413029 116984.29207296\n",
      "  97593.40219469  75886.36230491  59453.66302243  46168.66481485\n",
      "  36805.91523224  28533.44774432  22640.73426085  17686.03380324\n",
      "  14250.66183044  11480.69846992   9517.36934999   7650.4221036\n",
      "   6155.98566573   4937.58958742   4476.65275941   3725.81949061] 1 / sr\n"
     ]
    },
    {
     "data": {
      "text/plain": [
       "[<matplotlib.lines.Line2D at 0x7f9645900fa0>]"
      ]
     },
     "execution_count": 8,
     "metadata": {},
     "output_type": "execute_result"
    },
    {
     "data": {
      "image/png": "[encoded data removed]",
      "text/plain": [
       "<Figure size 432x288 with 1 Axes>"
      ]
     },
     "metadata": {
      "needs_background": "light"
     },
     "output_type": "display_data"
    }
   ],
   "source": [
    "### evaluate and check the psf\n",
    "test=obs1.psf\n",
    "\n",
    "rad=np.linspace(0,0.2,20)*u.deg\n",
    "psf_test=test.evaluate(energy_true=1*u.TeV, offset=1*u.deg, rad=rad)\n",
    "print(psf_test)\n",
    "plt.plot(rad,psf_test)"
   ]
  },
  {
   "cell_type": "code",
   "execution_count": 9,
   "metadata": {},
   "outputs": [
    {
     "data": {
      "text/plain": [
       "<AxesSubplot:xlabel='Energy True [TeV]', ylabel='Probability density'>"
      ]
     },
     "execution_count": 9,
     "metadata": {},
     "output_type": "execute_result"
    },
    {
     "data": {
      "image/png": "[encoded data removed]",
      "text/plain": [
       "<Figure size 432x288 with 1 Axes>"
      ]
     },
     "metadata": {
      "needs_background": "light"
     },
     "output_type": "display_data"
    }
   ],
   "source": [
    "### set up and check inverse edisp\n",
    "einv = EdispInv(obs1.edisp, 20*u.GeV, 100*u.TeV)\n",
    "\n",
    "einv.plot_pdf_vs_Etrue(e_reco=[0.8,1,1.5]*u.TeV)"
   ]
  },
  {
   "cell_type": "code",
   "execution_count": 14,
   "metadata": {},
   "outputs": [
    {
     "data": {
      "text/plain": [
       "Text(0.5, 1.0, 'e_reco = 0.8 TeV')"
      ]
     },
     "execution_count": 14,
     "metadata": {},
     "output_type": "execute_result"
    },
    {
     "data": {
      "image/png": "[encoded data removed]",
      "text/plain": [
       "<Figure size 900x600 with 1 Axes>"
      ]
     },
     "metadata": {
      "needs_background": "light"
     },
     "output_type": "display_data"
    }
   ],
   "source": [
    "e_reco=.8*u.TeV\n",
    "plt.figure(dpi=150)\n",
    "offsets=einv.offset.center[:2]\n",
    "for i,off in enumerate(offsets):\n",
    "    plt.semilogx(einv.e_true.center, \n",
    "                 einv.evaluate(offset=off, energy=e_reco).flatten(), \n",
    "                 color=plt.cm.plasma(i/offsets.size), label=off, ds='steps-mid')\n",
    "    \n",
    "plt.xlabel(\"Energy True\")\n",
    "plt.ylabel(\"P\")\n",
    "\n",
    "plt.xlim(e_reco.value/5,e_reco.value*5)\n",
    "plt.legend()\n",
    "idx=einv.e_reco.coord_to_idx(e_reco)[0]\n",
    "# plt.plot(einv.e_true.center, einv.kernels[-1,:,idx], ls='--', ds='steps-mid')\n",
    "e_true_fine = np.geomspace(e_reco/5, e_reco*5,150)\n",
    "plt.semilogx(e_true_fine, \n",
    "                 einv.evaluate(offset=0*u.deg, energy=e_reco, energy_true=e_true_fine).flatten(), \n",
    "                 color='k')\n",
    "# plt.semilogx(einv.e_true.center, \n",
    "#                  einv.evaluate(offset=2.3*u.deg, energy=e_reco).flat, \n",
    "#                  color='k', ds='steps-mid')\n",
    "plt.axvline(e_reco.value, c='k', ls='--')\n",
    "plt.title(f'e_reco = {e_reco}')"
   ]
  },
  {
   "cell_type": "code",
   "execution_count": 15,
   "metadata": {},
   "outputs": [],
   "source": [
    "### set up true geometry for integration\n",
    "crab_pos = SkyCoord(184.557, -5.784, unit='deg', frame='galactic') \n",
    "obs_pos = obs1.pointing_radec\n",
    "# choose energy binning\n",
    "# ebins = np.geomspace(0.6,100,25)\n",
    "ebins_true = np.logspace(-1,2,49)\n",
    "\n",
    "energy_axis_true = MapAxis.from_edges(\n",
    "    ebins_true, unit=\"TeV\", name=\"energy_true\", interp=\"log\"  \n",
    ")\n",
    "# migra_axis = MapAxis.from_bounds(\n",
    "#     0.5, 2, nbin=150, node_type=\"edges\", name=\"migra\"\n",
    "# )\n",
    "geom_true = WcsGeom.create(\n",
    "    skydir=obs_pos,\n",
    "    binsz=0.02,\n",
    "    width=(3.5, 3.5),\n",
    "    frame=\"icrs\",  # same frame as events\n",
    "    proj=\"CAR\",\n",
    "    axes=[energy_axis_true],\n",
    ")\n"
   ]
  },
  {
   "cell_type": "code",
   "execution_count": 16,
   "metadata": {},
   "outputs": [],
   "source": [
    "model_gauss = SkyModel(\n",
    "    spatial_model=GaussianSpatialModel(lon_0=\"184.557 deg\", lat_0=\"-5.784 deg\", sigma='0.016 deg', frame = 'galactic'),\n",
    "    spectral_model=LogParabolaSpectralModel(amplitude='3.5e-11 cm-2 s-1 TeV-1', \n",
    "                                          reference='1 TeV', \n",
    "                                          alpha=1.8, \n",
    "                                          beta=0.4\n",
    "                                         ),\n",
    "    name='crab_model_gauss'\n",
    "    )\n"
   ]
  },
  {
   "cell_type": "code",
   "execution_count": 17,
   "metadata": {},
   "outputs": [],
   "source": [
    "### integrate the model on the true geometry\n",
    "integrated_map=model_gauss.integrate_geom(geom_true)\n",
    "bin_volume=geom_true.bin_volume()"
   ]
  },
  {
   "cell_type": "code",
   "execution_count": 18,
   "metadata": {},
   "outputs": [],
   "source": [
    "offsets = geom_true.separation(obs_pos)  # offsets of the true geometry pixels\n",
    "coords=geom_true.get_coord(sparse=True)  # coordinates of the true geometry\n",
    "livetime = obs1.observation_live_time_duration"
   ]
  },
  {
   "cell_type": "code",
   "execution_count": 19,
   "metadata": {},
   "outputs": [],
   "source": [
    "### get the exposure on the true geometry\n",
    "exposure_data=obs1.aeff.evaluate(energy_true=coords['energy_true'], offset=offsets)\n",
    "exposure_data *= livetime"
   ]
  },
  {
   "cell_type": "code",
   "execution_count": 20,
   "metadata": {},
   "outputs": [],
   "source": [
    "### mask all events which are outside the mask safe\n",
    "event_coords = obs1.events.map_coord(dataset.mask_safe.geom)\n",
    "mask_safe_events = dataset.mask_safe.get_by_coord(event_coords).astype(bool)"
   ]
  },
  {
   "cell_type": "code",
   "execution_count": 21,
   "metadata": {},
   "outputs": [],
   "source": [
    "### mask all events which are outside the 99% tail of the psf\n",
    "psf = obs1.psf\n",
    "offsets_event_pointing = obs1.events.radec.separation(obs1.events.pointing_radec)\n",
    "c_radii=psf.containment_radius(fraction=0.99, energy_true=event_coords['energy'], offset = offsets_event_pointing)\n",
    "\n",
    "mask_offset = obs1.events.radec.separation(model_gauss.spatial_model.position) <= c_radii "
   ]
  },
  {
   "cell_type": "code",
   "execution_count": 22,
   "metadata": {},
   "outputs": [
    {
     "data": {
      "text/plain": [
       "323"
      ]
     },
     "execution_count": 22,
     "metadata": {},
     "output_type": "execute_result"
    }
   ],
   "source": [
    "### combine the masks\n",
    "mask_combined = mask_safe_events & mask_offset\n",
    "mask_combined.sum()"
   ]
  },
  {
   "cell_type": "code",
   "execution_count": 23,
   "metadata": {},
   "outputs": [
    {
     "name": "stdout",
     "output_type": "stream",
     "text": [
      "finished 49 / 323\n",
      "finished 99 / 323\n",
      "finished 149 / 323\n",
      "finished 199 / 323\n",
      "finished 249 / 323\n",
      "finished 299 / 323\n",
      "-1819.7168478581984\n",
      "CPU times: user 5min 58s, sys: 7.89 s, total: 6min 6s\n",
      "Wall time: 6min 6s\n"
     ]
    }
   ],
   "source": [
    "%%time\n",
    "L=0\n",
    "### loop through all events and calculate its probability to belong to the model\n",
    "constant=exposure_data * integrated_map.quantity*geom_true.bin_volume() # same for each event\n",
    "for i,row in enumerate(obs1.events.table[mask_combined]):\n",
    "    energy = row['ENERGY'] * obs1.events.table['ENERGY'].unit\n",
    "    event_pos = obs1.events.radec[mask_combined][i]\n",
    "    event_offsets = geom_true.separation(event_pos)\n",
    "    edisp_factors = einv.evaluate(energy=energy, offset=offsets, energy_true=coords['energy_true'])\n",
    "    psf_factors = psf.evaluate(offset=offsets, energy_true=coords['energy_true'],rad=event_offsets)\n",
    "    integral = np.sum(constant*edisp_factors*psf_factors)\n",
    "    if integral <= 0:\n",
    "        print(i, row)\n",
    "        # event doesn't contribute\n",
    "        continue\n",
    "    L += np.log(integral)\n",
    "    if i%50 == 49:\n",
    "        print(f\"finished {i} / {mask_combined.sum()}\")\n",
    "print(L) # actually we still need to subtract npred_tot"
   ]
  },
  {
   "cell_type": "code",
   "execution_count": null,
   "metadata": {},
   "outputs": [],
   "source": []
  }
 ],
 "metadata": {
  "kernelspec": {
   "display_name": "Python [conda env:gammapy-0.19]",
   "language": "python",
   "name": "conda-env-gammapy-0.19-py"
  },
  "language_info": {
   "codemirror_mode": {
    "name": "ipython",
    "version": 3
   },
   "file_extension": ".py",
   "mimetype": "text/x-python",
   "name": "python",
   "nbconvert_exporter": "python",
   "pygments_lexer": "ipython3",
   "version": "3.9.10"
  }
 },
 "nbformat": 4,
 "nbformat_minor": 2
}
