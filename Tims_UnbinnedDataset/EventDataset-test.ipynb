{
 "cells": [
  {
   "cell_type": "code",
   "execution_count": 1,
   "metadata": {},
   "outputs": [
    {
     "name": "stdout",
     "output_type": "stream",
     "text": [
      "1.0\n"
     ]
    }
   ],
   "source": [
    "import gammapy\n",
    "print(gammapy.__version__)\n",
    "\n",
    "import matplotlib.pyplot as plt\n",
    "import numpy as np\n",
    "import astropy.units as u\n",
    "from astropy.coordinates import SkyCoord\n",
    "from gammapy.data import DataStore, Observation\n",
    "from gammapy.datasets import MapDataset\n",
    "from gammapy.maps import MapAxis, WcsGeom, Map\n",
    "from gammapy.makers import MapDatasetMaker,SafeMaskMaker\n",
    "from gammapy.irf import EDispKernel\n",
    "from gammapy.makers.utils import make_psf_map\n",
    "from gammapy.modeling.models import (\n",
    "    Model,\n",
    "    Models,\n",
    "    SkyModel,\n",
    "    PowerLawSpectralModel,\n",
    "    PowerLawNormSpectralModel,\n",
    "    PointSpatialModel,\n",
    "    TemplateSpatialModel,\n",
    "    ExpDecayTemporalModel,\n",
    "    LightCurveTemplateTemporalModel,\n",
    "    FoVBackgroundModel,\n",
    "    GaussianSpatialModel,\n",
    "    LogParabolaSpectralModel,\n",
    "    DatasetModels\n",
    ")\n",
    "from gammapy.modeling import Fit"
   ]
  },
  {
   "cell_type": "code",
   "execution_count": 2,
   "metadata": {},
   "outputs": [],
   "source": [
    "import os\n",
    "os.chdir('../EventDataset/')\n",
    "from EventDatasetMaker import EventDatasetMaker\n",
    "from EventDataset import EventDataset"
   ]
  },
  {
   "cell_type": "code",
   "execution_count": 3,
   "metadata": {},
   "outputs": [],
   "source": [
    "%load_ext autoreload\n",
    "%autoreload 2"
   ]
  },
  {
   "cell_type": "markdown",
   "metadata": {},
   "source": [
    "## Set up a binned and unbinned Dataset"
   ]
  },
  {
   "cell_type": "code",
   "execution_count": 4,
   "metadata": {},
   "outputs": [],
   "source": [
    "data_store = DataStore.from_dir(\"$GAMMAPY_DATA/hess-dl3-dr1\")\n",
    "obs_id = [23523] # just one observation \n",
    "obs1 = data_store.get_observations(obs_id)[0]"
   ]
  },
  {
   "cell_type": "code",
   "execution_count": 5,
   "metadata": {},
   "outputs": [],
   "source": [
    "crab_pos = SkyCoord(184.557, -5.784, unit='deg', frame='galactic') \n",
    "obs_pos=obs1.pointing_radec\n",
    "ebins = np.geomspace(0.5,100,40) # a fine binning in true energy\n",
    "energy_axis = MapAxis.from_edges(\n",
    "    ebins, unit=\"TeV\", name=\"energy\", interp=\"log\"  \n",
    ")\n",
    "energy_axis_true = MapAxis.from_edges(\n",
    "    ebins, unit=\"TeV\", name=\"energy_true\", interp=\"log\"  \n",
    ")\n",
    "migra_axis = MapAxis.from_bounds(\n",
    "    0.2, 5, nbin=160, node_type=\"edges\", name=\"migra\"\n",
    ")\n",
    "geom = WcsGeom.create(\n",
    "    skydir=obs_pos,\n",
    "    binsz=0.01,\n",
    "    width=(3.5, 3.5),\n",
    "    frame=\"icrs\",\n",
    "    proj=\"CAR\",\n",
    "    axes=[energy_axis],\n",
    ")"
   ]
  },
  {
   "cell_type": "code",
   "execution_count": 6,
   "metadata": {},
   "outputs": [
    {
     "name": "stdout",
     "output_type": "stream",
     "text": [
      "CPU times: user 3.31 s, sys: 786 ms, total: 4.1 s\n",
      "Wall time: 4.15 s\n"
     ]
    }
   ],
   "source": [
    "%%time\n",
    "maker = MapDatasetMaker(selection=[\"counts\", 'exposure','edisp', 'background', 'psf'])\n",
    "maker_safe_mask = SafeMaskMaker(methods=['offset-max'], offset_max='1.5 deg', bias_percent=8)\n",
    "\n",
    "reference = MapDataset.create(geom=geom, energy_axis_true=energy_axis_true, migra_axis=migra_axis)\n",
    "\n",
    "dataset = maker.run(reference, obs1)\n",
    "dataset = maker_safe_mask.run(dataset, obs1)\n",
    "\n",
    "bkg_model = FoVBackgroundModel(dataset_name=dataset.name)\n",
    "dataset.models=bkg_model"
   ]
  },
  {
   "cell_type": "code",
   "execution_count": 7,
   "metadata": {},
   "outputs": [
    {
     "name": "stdout",
     "output_type": "stream",
     "text": [
      "CPU times: user 2.88 s, sys: 724 ms, total: 3.6 s\n",
      "Wall time: 3.62 s\n"
     ]
    }
   ],
   "source": [
    "%%time\n",
    "test_maker = EventDatasetMaker(safe_mask_maker=maker_safe_mask, selection=None)\n",
    "test_eds = test_maker.run(reference, obs1)\n",
    "\n",
    "bkg_model2 = FoVBackgroundModel(dataset_name=test_eds.name)\n",
    "test_eds.models=bkg_model2"
   ]
  },
  {
   "cell_type": "code",
   "execution_count": 8,
   "metadata": {},
   "outputs": [
    {
     "data": {
      "text/plain": [
       "(4881.0, 3385.0)"
      ]
     },
     "execution_count": 8,
     "metadata": {},
     "output_type": "execute_result"
    }
   ],
   "source": [
    "dataset.counts.data.sum(), dataset.counts.data[dataset.mask].sum()"
   ]
  },
  {
   "cell_type": "code",
   "execution_count": 9,
   "metadata": {},
   "outputs": [
    {
     "data": {
      "text/plain": [
       "(array([False,  True, False, ..., False,  True,  True]), 3385, (7613,))"
      ]
     },
     "execution_count": 9,
     "metadata": {},
     "output_type": "execute_result"
    }
   ],
   "source": [
    "test_eds.event_mask, test_eds.event_mask.sum(), test_eds.event_mask.shape"
   ]
  },
  {
   "cell_type": "markdown",
   "metadata": {},
   "source": [
    "## Test model evaluation"
   ]
  },
  {
   "cell_type": "code",
   "execution_count": 10,
   "metadata": {},
   "outputs": [],
   "source": [
    "model_gauss = SkyModel(\n",
    "    spatial_model=GaussianSpatialModel(lon_0=\"184.557 deg\", lat_0=\"-5.784 deg\", sigma='0.016 deg', frame = 'galactic'),\n",
    "    spectral_model=LogParabolaSpectralModel(amplitude='3.5e-11 cm-2 s-1 TeV-1', \n",
    "                                          reference='1 TeV', \n",
    "                                          alpha=1.8, \n",
    "                                          beta=0.4\n",
    "                                         ),\n",
    "    name='crab_model_gauss'\n",
    "    )\n",
    "model_gauss.spatial_model.parameters.freeze_all()\n",
    "dataset.models = [bkg_model,model_gauss]\n",
    "test_eds.models = [bkg_model2,model_gauss.copy(name=\"crab_model_gauss\")]"
   ]
  },
  {
   "cell_type": "code",
   "execution_count": 11,
   "metadata": {},
   "outputs": [
    {
     "name": "stdout",
     "output_type": "stream",
     "text": [
      "DatasetModels\n",
      "\n",
      "Component 0: FoVBackgroundModel\n",
      "\n",
      "  Name                      : xRciRuX2-bkg\n",
      "  Datasets names            : ['xRciRuX2']\n",
      "  Spectral model type       : PowerLawNormSpectralModel\n",
      "  Parameters:\n",
      "    norm                          :      1.000   +/-    0.00             \n",
      "    tilt                  (frozen):      0.000                   \n",
      "    reference             (frozen):      1.000       TeV         \n",
      "\n",
      "Component 1: SkyModel\n",
      "\n",
      "  Name                      : crab_model_gauss\n",
      "  Datasets names            : None\n",
      "  Spectral model type       : LogParabolaSpectralModel\n",
      "  Spatial  model type       : GaussianSpatialModel\n",
      "  Temporal model type       : \n",
      "  Parameters:\n",
      "    amplitude                     :   3.50e-11   +/- 0.0e+00 1 / (cm2 s TeV)\n",
      "    reference             (frozen):      1.000       TeV         \n",
      "    alpha                         :      1.800   +/-    0.00             \n",
      "    beta                          :      0.400   +/-    0.00             \n",
      "    lon_0                 (frozen):    184.557       deg         \n",
      "    lat_0                 (frozen):     -5.784       deg         \n",
      "    sigma                 (frozen):      0.016       deg         \n",
      "    e                     (frozen):      0.000                   \n",
      "    phi                   (frozen):      0.000       deg         \n",
      "\n",
      "\n"
     ]
    }
   ],
   "source": [
    "print(test_eds.models)"
   ]
  },
  {
   "cell_type": "code",
   "execution_count": 12,
   "metadata": {},
   "outputs": [
    {
     "data": {
      "text/plain": [
       "-84543.4124430513"
      ]
     },
     "execution_count": 12,
     "metadata": {},
     "output_type": "execute_result"
    }
   ],
   "source": [
    "test_eds.stat_sum()"
   ]
  },
  {
   "cell_type": "code",
   "execution_count": 13,
   "metadata": {},
   "outputs": [
    {
     "data": {
      "text/plain": [
       "45531.416864558654"
      ]
     },
     "execution_count": 13,
     "metadata": {},
     "output_type": "execute_result"
    }
   ],
   "source": [
    "dataset.stat_sum()"
   ]
  },
  {
   "cell_type": "code",
   "execution_count": 14,
   "metadata": {},
   "outputs": [
    {
     "name": "stdout",
     "output_type": "stream",
     "text": [
      "OptimizeResult\n",
      "\n",
      "\tbackend    : minuit\n",
      "\tmethod     : migrad\n",
      "\tsuccess    : True\n",
      "\tmessage    : Optimization terminated successfully.\n",
      "\tnfev       : 134\n",
      "\ttotal stat : 45261.73\n",
      "\n",
      "CovarianceResult\n",
      "\n",
      "\tbackend    : minuit\n",
      "\tmethod     : hesse\n",
      "\tsuccess    : True\n",
      "\tmessage    : Hesse terminated successfully.\n",
      "\n",
      "CPU times: user 12.3 s, sys: 3.17 s, total: 15.5 s\n",
      "Wall time: 15.5 s\n"
     ]
    },
    {
     "data": {
      "text/html": [
       "<div><i>Table length=4</i>\n",
       "<table id=\"table140521619905168\" class=\"table-striped table-bordered table-condensed\">\n",
       "<thead><tr><th>type</th><th>name</th><th>value</th><th>unit</th><th>error</th><th>min</th><th>max</th><th>frozen</th><th>is_norm</th><th>link</th></tr></thead>\n",
       "<thead><tr><th>str8</th><th>str9</th><th>float64</th><th>str14</th><th>float64</th><th>float64</th><th>float64</th><th>bool</th><th>bool</th><th>str1</th></tr></thead>\n",
       "<tr><td>spectral</td><td>norm</td><td>1.3045e+00</td><td></td><td>2.389e-02</td><td>nan</td><td>nan</td><td>False</td><td>True</td><td></td></tr>\n",
       "<tr><td>spectral</td><td>amplitude</td><td>5.1488e-11</td><td>cm-2 s-1 TeV-1</td><td>3.837e-12</td><td>nan</td><td>nan</td><td>False</td><td>True</td><td></td></tr>\n",
       "<tr><td>spectral</td><td>alpha</td><td>3.1971e+00</td><td></td><td>1.754e-01</td><td>nan</td><td>nan</td><td>False</td><td>False</td><td></td></tr>\n",
       "<tr><td>spectral</td><td>beta</td><td>-1.3115e-01</td><td></td><td>8.036e-02</td><td>nan</td><td>nan</td><td>False</td><td>False</td><td></td></tr>\n",
       "</table></div>"
      ],
      "text/plain": [
       "<Table length=4>\n",
       "  type      name      value         unit        error     min     max   frozen is_norm link\n",
       "  str8      str9     float64       str14       float64  float64 float64  bool    bool  str1\n",
       "-------- --------- ----------- -------------- --------- ------- ------- ------ ------- ----\n",
       "spectral      norm  1.3045e+00                2.389e-02     nan     nan  False    True     \n",
       "spectral amplitude  5.1488e-11 cm-2 s-1 TeV-1 3.837e-12     nan     nan  False    True     \n",
       "spectral     alpha  3.1971e+00                1.754e-01     nan     nan  False   False     \n",
       "spectral      beta -1.3115e-01                8.036e-02     nan     nan  False   False     "
      ]
     },
     "execution_count": 14,
     "metadata": {},
     "output_type": "execute_result"
    }
   ],
   "source": [
    "%%time\n",
    "fit = Fit(optimize_opts={\"print_level\": 0})\n",
    "result = fit.run([dataset])\n",
    "print(result)\n",
    "result.parameters.free_parameters.to_table()"
   ]
  },
  {
   "cell_type": "code",
   "execution_count": 15,
   "metadata": {},
   "outputs": [
    {
     "name": "stdout",
     "output_type": "stream",
     "text": [
      "OptimizeResult\n",
      "\n",
      "\tbackend    : minuit\n",
      "\tmethod     : migrad\n",
      "\tsuccess    : True\n",
      "\tmessage    : Optimization terminated successfully.\n",
      "\tnfev       : 139\n",
      "\ttotal stat : -84816.12\n",
      "\n",
      "CovarianceResult\n",
      "\n",
      "\tbackend    : minuit\n",
      "\tmethod     : hesse\n",
      "\tsuccess    : True\n",
      "\tmessage    : Hesse terminated successfully.\n",
      "\n",
      "CPU times: user 21.8 s, sys: 14.6 s, total: 36.4 s\n",
      "Wall time: 36.5 s\n"
     ]
    },
    {
     "data": {
      "text/html": [
       "<div><i>Table length=4</i>\n",
       "<table id=\"table140521619632384\" class=\"table-striped table-bordered table-condensed\">\n",
       "<thead><tr><th>type</th><th>name</th><th>value</th><th>unit</th><th>error</th><th>min</th><th>max</th><th>frozen</th><th>is_norm</th><th>link</th></tr></thead>\n",
       "<thead><tr><th>str8</th><th>str9</th><th>float64</th><th>str14</th><th>float64</th><th>float64</th><th>float64</th><th>bool</th><th>bool</th><th>str1</th></tr></thead>\n",
       "<tr><td>spectral</td><td>norm</td><td>1.3326e+00</td><td></td><td>2.391e-02</td><td>nan</td><td>nan</td><td>False</td><td>True</td><td></td></tr>\n",
       "<tr><td>spectral</td><td>amplitude</td><td>3.9658e-11</td><td>cm-2 s-1 TeV-1</td><td>3.218e-12</td><td>nan</td><td>nan</td><td>False</td><td>True</td><td></td></tr>\n",
       "<tr><td>spectral</td><td>alpha</td><td>3.0262e+00</td><td></td><td>1.809e-01</td><td>nan</td><td>nan</td><td>False</td><td>False</td><td></td></tr>\n",
       "<tr><td>spectral</td><td>beta</td><td>-7.3439e-02</td><td></td><td>8.898e-02</td><td>nan</td><td>nan</td><td>False</td><td>False</td><td></td></tr>\n",
       "</table></div>"
      ],
      "text/plain": [
       "<Table length=4>\n",
       "  type      name      value         unit        error     min     max   frozen is_norm link\n",
       "  str8      str9     float64       str14       float64  float64 float64  bool    bool  str1\n",
       "-------- --------- ----------- -------------- --------- ------- ------- ------ ------- ----\n",
       "spectral      norm  1.3326e+00                2.391e-02     nan     nan  False    True     \n",
       "spectral amplitude  3.9658e-11 cm-2 s-1 TeV-1 3.218e-12     nan     nan  False    True     \n",
       "spectral     alpha  3.0262e+00                1.809e-01     nan     nan  False   False     \n",
       "spectral      beta -7.3439e-02                8.898e-02     nan     nan  False   False     "
      ]
     },
     "execution_count": 15,
     "metadata": {},
     "output_type": "execute_result"
    }
   ],
   "source": [
    "%%time\n",
    "result2 = fit.run([test_eds])\n",
    "print(result2)\n",
    "result2.parameters.free_parameters.to_table()"
   ]
  },
  {
   "cell_type": "code",
   "execution_count": 16,
   "metadata": {},
   "outputs": [
    {
     "data": {
      "text/plain": [
       "<matplotlib.legend.Legend at 0x7fcdbd385070>"
      ]
     },
     "execution_count": 16,
     "metadata": {},
     "output_type": "execute_result"
    },
    {
     "data": {
      "image/png": "[encoded data removed]",
      "text/plain": [
       "<Figure size 960x720 with 1 Axes>"
      ]
     },
     "metadata": {},
     "output_type": "display_data"
    }
   ],
   "source": [
    "plt.figure(dpi=150)\n",
    "dataset.models[\"crab_model_gauss\"].spectral_model.plot(dataset.energy_range_total, energy_power=2, label=\"binned\")\n",
    "dataset.models[\"crab_model_gauss\"].spectral_model.plot_error(dataset.energy_range_total, energy_power=2)\n",
    "test_eds.models[\"crab_model_gauss\"].spectral_model.plot(dataset.energy_range_total, energy_power=2, label=\"unbinned\")\n",
    "test_eds.models[\"crab_model_gauss\"].spectral_model.plot_error(dataset.energy_range_total, energy_power=2)\n",
    "plt.legend()"
   ]
  },
  {
   "cell_type": "code",
   "execution_count": null,
   "metadata": {},
   "outputs": [],
   "source": []
  }
 ],
 "metadata": {
  "kernelspec": {
   "display_name": "Python [conda env:gammapy-1.0]",
   "language": "python",
   "name": "conda-env-gammapy-1.0-py"
  },
  "language_info": {
   "codemirror_mode": {
    "name": "ipython",
    "version": 3
   },
   "file_extension": ".py",
   "mimetype": "text/x-python",
   "name": "python",
   "nbconvert_exporter": "python",
   "pygments_lexer": "ipython3",
   "version": "3.9.15"
  }
 },
 "nbformat": 4,
 "nbformat_minor": 2
}
