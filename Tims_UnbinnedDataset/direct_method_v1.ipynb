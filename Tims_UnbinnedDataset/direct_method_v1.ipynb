{
 "cells": [
  {
   "cell_type": "markdown",
   "metadata": {},
   "source": [
    "# Direct unbinned Datasets\n",
    "Here I want to compute the npred at each event coordinate directly. \n",
    "Therefore I will evaluate (integrate) the model on a true geometry and multiply it with the exposure and a cube with probabilities for the PSF and Edisp."
   ]
  },
  {
   "cell_type": "markdown",
   "metadata": {},
   "source": [
    "General Problem: The spectral index shifts the weight inside the bins. For a very steep spectrum the bin \"center\" needs to be more towards the lower bin edge and vice versa. If this is not accounted for the edisp PDF for wrong energies is used, i.e. you get much less flux than the model actually predicts.\n",
    "\n",
    "\n",
    "Possible Solution: calculate 3 acceptance cubes. One for lower bin edges, one for centers and one for upper bin edges. Compute the center of gravity for the bins dependent on the index (a factor). Interpolate between the acceptance cubes. Or just shift the event energies to the first bin center "
   ]
  },
  {
   "cell_type": "code",
   "execution_count": 3,
   "metadata": {},
   "outputs": [
    {
     "name": "stdout",
     "output_type": "stream",
     "text": [
      "0.20.1\n"
     ]
    }
   ],
   "source": [
    "import gammapy\n",
    "print(gammapy.__version__)\n",
    "\n",
    "import matplotlib.pyplot as plt\n",
    "from pathlib import Path\n",
    "import numpy as np\n",
    "import astropy.units as u\n",
    "from astropy.io import fits\n",
    "from astropy.table import Table\n",
    "from astropy.time import Time\n",
    "from astropy.coordinates import SkyCoord, Angle\n",
    "from astropy.utils import lazyproperty\n",
    "from regions import CircleSkyRegion\n",
    "from gammapy.data import DataStore, Observation\n",
    "from gammapy.datasets import MapDataset, MapDatasetEventSampler\n",
    "from gammapy.estimators import LightCurveEstimator\n",
    "from gammapy.maps import MapAxis, WcsGeom, Map, MapAxes, WcsNDMap\n",
    "from gammapy.irf import load_cta_irfs\n",
    "from gammapy.makers import MapDatasetMaker, FoVBackgroundMaker, SafeMaskMaker\n",
    "from gammapy.modeling import Fit\n",
    "from gammapy.modeling.models import (\n",
    "    Model,\n",
    "    Models,\n",
    "    SkyModel,\n",
    "    PowerLawSpectralModel,\n",
    "    PowerLawNormSpectralModel,\n",
    "    PointSpatialModel,\n",
    "    TemplateSpatialModel,\n",
    "    ExpDecayTemporalModel,\n",
    "    LightCurveTemplateTemporalModel,\n",
    "    FoVBackgroundModel,\n",
    "    GaussianSpatialModel,\n",
    "    LogParabolaSpectralModel,\n",
    "    DatasetModels\n",
    ")\n",
    "# from utils import EdispInv"
   ]
  },
  {
   "cell_type": "markdown",
   "metadata": {},
   "source": [
    "## short visualization of bin center vs center of gravity"
   ]
  },
  {
   "cell_type": "code",
   "execution_count": 4,
   "metadata": {},
   "outputs": [],
   "source": [
    "from scipy.special import erf\n",
    "\n",
    "def my_center(alpha, norm=False):\n",
    "    result = np.zeros_like(alpha)\n",
    "    mask = alpha != -1\n",
    "    exp=alpha[mask]+1\n",
    "    base=0.5*(e2**exp + e1**exp)\n",
    "    result[mask] = np.power(base, 1/exp)\n",
    "    result[~mask] = np.sqrt(e2*e1)\n",
    "    if norm:\n",
    "        result /= np.sqrt(e1*e2)\n",
    "#         result /= e2-e1  # devide by bin size\n",
    "#         result += 1\n",
    "    return result\n",
    "\n",
    "def erf_norm(func = None):\n",
    "    result = erf(alphas)+2\n",
    "    if func:\n",
    "        result = func(result)\n",
    "    norm = (e2-e1) / (result[-1]-result[0])\n",
    "    result *= norm\n",
    "    shift = 55 - result[50]\n",
    "    result += shift\n",
    "    return result\n",
    "\n",
    "def my_center2(alpha, binsz):\n",
    "    \"\"\"\n",
    "    give the center of gravity energy as fraction of lower bin edge\n",
    "    alpha: index of the spectrum\n",
    "    binsz: higher edge / lower edge\n",
    "    \"\"\"\n",
    "    result = np.zeros_like(alpha)\n",
    "    mask = alpha != -1\n",
    "    exp=alpha[mask]+1\n",
    "    result[mask] = np.power(0.5 + 0.5*binsz**exp, 1/exp)\n",
    "    result[~mask] = np.sqrt(binsz)\n",
    "    return result"
   ]
  },
  {
   "cell_type": "code",
   "execution_count": 9,
   "metadata": {},
   "outputs": [
    {
     "name": "stdout",
     "output_type": "stream",
     "text": [
      "Log_center = 13.34\n",
      "My center = 13.34\n"
     ]
    }
   ],
   "source": [
    "e1 = 10\n",
    "bpd = 4\n",
    "binsz = np.power(10,1/bpd)\n",
    "e2 = e1*binsz\n",
    "alpha=-0.9999999999999\n",
    "\n",
    "log_center = np.sqrt(e1*e2)\n",
    "print(f\"Log_center = {log_center:.2f}\")\n",
    "\n",
    "exp=alpha+1\n",
    "base=0.5*(e2**exp + e1**exp)\n",
    "my_cent = np.power(base, 1/exp)\n",
    "print(f\"My center = {my_cent:.2f}\")"
   ]
  },
  {
   "cell_type": "code",
   "execution_count": 10,
   "metadata": {},
   "outputs": [],
   "source": [
    "alphas = np.linspace(-5,5,101)\n",
    "# alphas"
   ]
  },
  {
   "cell_type": "code",
   "execution_count": 11,
   "metadata": {},
   "outputs": [
    {
     "data": {
      "text/plain": [
       "<matplotlib.legend.Legend at 0x7f2a5361cd90>"
      ]
     },
     "execution_count": 11,
     "metadata": {},
     "output_type": "execute_result"
    },
    {
     "data": {
      "image/png": "[encoded data removed]",
      "text/plain": [
       "<Figure size 432x288 with 1 Axes>"
      ]
     },
     "metadata": {
      "needs_background": "light"
     },
     "output_type": "display_data"
    }
   ],
   "source": [
    "plt.plot(alphas, my_center(alphas), label='center of gravity')\n",
    "plt.fill_between(alphas,e1,e2, alpha=0.2)\n",
    "plt.hlines([e1,e2],alphas[0],alphas[-1], ls='dashed', label='bin edges')\n",
    "plt.hlines(np.sqrt(e1*e2),alphas[0],alphas[-1], color='k', label='log center')\n",
    "# plt.plot(alphas, erf_norm(lambda x:np.power(x,0.06)))\n",
    "# plt.plot(alphas, my_center2(alphas, binsz)*e1)\n",
    "plt.vlines(-1,e1,e2, ls='--', color='k')\n",
    "plt.xlabel('spectral index')\n",
    "plt.ylabel('Energy')\n",
    "plt.legend(bbox_to_anchor=(0.4,0.6))"
   ]
  },
  {
   "cell_type": "code",
   "execution_count": 12,
   "metadata": {},
   "outputs": [
    {
     "data": {
      "text/plain": [
       "<matplotlib.legend.Legend at 0x7f2a53556d00>"
      ]
     },
     "execution_count": 12,
     "metadata": {},
     "output_type": "execute_result"
    },
    {
     "data": {
      "image/png": "[encoded data removed]",
      "text/plain": [
       "<Figure size 432x288 with 1 Axes>"
      ]
     },
     "metadata": {
      "needs_background": "light"
     },
     "output_type": "display_data"
    }
   ],
   "source": [
    "plt.plot(alphas, my_center2(alphas, binsz)/np.sqrt(binsz), label='CoG / e1')\n",
    "plt.plot(alphas, my_center(alphas, True), label='CoG / log center')\n",
    "plt.hlines(np.sqrt(binsz),alphas[0],alphas[-1], color='k', label='log center')\n",
    "plt.xlabel('spectral index')\n",
    "plt.ylabel('Energy')\n",
    "plt.axhline(1)\n",
    "plt.axvline(-1)\n",
    "plt.legend(bbox_to_anchor=(0.4,0.8))"
   ]
  },
  {
   "cell_type": "markdown",
   "metadata": {},
   "source": [
    "## continue with unbinned dataset"
   ]
  },
  {
   "cell_type": "code",
   "execution_count": 13,
   "metadata": {},
   "outputs": [],
   "source": [
    "%load_ext autoreload\n",
    "%autoreload 2"
   ]
  },
  {
   "cell_type": "code",
   "execution_count": 14,
   "metadata": {},
   "outputs": [],
   "source": [
    "data_store = DataStore.from_dir(\"$GAMMAPY_DATA/hess-dl3-dr1\")\n",
    "obs_id = [23523] # just one observation \n",
    "obs1 = data_store.get_observations(obs_id)[0]"
   ]
  },
  {
   "cell_type": "code",
   "execution_count": 21,
   "metadata": {},
   "outputs": [],
   "source": [
    "PSF_CONTAINMENT = 0.999\n",
    "CUTOUT_MARGIN = 0.1 * u.deg\n",
    "\n",
    "class EventDataset():\n",
    "    stat_type = \"cash\"\n",
    "    tag = \"EventDataset\"\n",
    "    \n",
    "    def __init__(self, MapDataset, observation, events=None, name='test-eds', tight_exp=True):\n",
    "        \"\"\"\n",
    "        MapDataset: gammapy.datasets.MapDataset for some convinience (true and reco geom need the same shape)\n",
    "        observation: gammapy.data.Observation with the event data and IRFs\n",
    "        name: str, a name for the dataset  \n",
    "        \"\"\"\n",
    "        self.ds = MapDataset.copy(name=MapDataset.name)  # TODO: only use the relevant things from the ds to save memory\n",
    "        self.ds.models = MapDataset.models.copy()\n",
    "        self.events = events or observation.events\n",
    "        self.obs = observation\n",
    "        self.name = name\n",
    "        self.meta_table=None\n",
    "        self._evaluators=None\n",
    "        self._background_cache=None\n",
    "        self.tight_exp = tight_exp\n",
    "        \n",
    "        self._init_mask_safe()\n",
    "        self._init_acceptance()\n",
    "        self._init_evaluators()\n",
    "        \n",
    "        \n",
    "    @property\n",
    "    def models(self):\n",
    "        # use the dataset's models for now\n",
    "        return self.ds.models\n",
    "    \n",
    "    def _init_evaluators(self):\n",
    "        \"\"\"Set UnbinnedEvaluator(s)\"\"\"\n",
    "        self._evaluators = {}\n",
    "\n",
    "        if self.models is not None:\n",
    "            models = DatasetModels(self.models)\n",
    "            models = models.select(datasets_names=self.ds.name)\n",
    "            \n",
    "            irfs={'psf':self.obs.psf, 'edisp':self.obs.edisp}\n",
    "            irfs['exposure'] = self.tight_exposure()\n",
    "            events = self.events.select_row_subset(self.mask_safe)\n",
    "            for model in models:\n",
    "                if not isinstance(model, FoVBackgroundModel):\n",
    "                    evaluator = UnbinnedEvaluator(\n",
    "                        model=model,\n",
    "                        irfs=irfs,\n",
    "                        events=events,\n",
    "                        pointing=self.obs.pointing_radec,\n",
    "                        acceptance = self.acceptance\n",
    "                    )\n",
    "                    self._evaluators[model.name] = evaluator\n",
    "\n",
    "        \n",
    "    def tight_exposure(self):\n",
    "        \"\"\"\n",
    "        remove energy bins of the exposure map where the acceptance is 0.\n",
    "        This helps to safe memory/computing time and with an issue where\n",
    "        events get contributions from bins not punished by the acceptance.\n",
    "        This can happend if the event energy is lower than the center of the mask_safe\n",
    "        and might lead to super steep spectra \n",
    "        \"\"\"\n",
    "        if not self.tight_exp:\n",
    "            return self.ds.exposure\n",
    "        \n",
    "        self._init_acceptance()\n",
    "        if isinstance(self.acceptance, tuple):\n",
    "            e_acceptance=self.acceptance[0].data.sum(axis=(1,2))\n",
    "        else:\n",
    "            e_acceptance=self.acceptance.data.sum(axis=(1,2))\n",
    "#         e_acceptance/=e_acceptance.max()\n",
    "        # look for the index where the first numbers > 0 appear\n",
    "        idx1=0\n",
    "        idx2=-1\n",
    "        while True:\n",
    "            if e_acceptance[idx1]>0.0:\n",
    "                break\n",
    "            else:\n",
    "                idx1 += 1\n",
    "        while True:\n",
    "            if e_acceptance[idx2]>0.0:\n",
    "                break\n",
    "            else:\n",
    "                idx2 -= 1\n",
    "        if idx2==-1:\n",
    "            idx2 = None\n",
    "        else:\n",
    "            idx2 += 1\n",
    "            \n",
    "        if idx1==0 and idx2 is None:\n",
    "            return self.ds.exposure\n",
    "        else:        \n",
    "            if isinstance(self.acceptance, tuple):\n",
    "                self.acceptance = [acc.slice_by_idx({'energy':slice(idx1,idx2)}) for acc in self.acceptance]\n",
    "            else:\n",
    "                self.acceptance = self.acceptance.slice_by_idx({'energy':slice(idx1,idx2)})\n",
    "            return self.ds.exposure.slice_by_idx({'energy_true':slice(idx1,idx2)})\n",
    "        \n",
    "        \n",
    "    def _init_mask_safe(self):\n",
    "        \"\"\"\n",
    "        create a mask for events which are not part of any evaluator\n",
    "        and will be discarded in the analysis\n",
    "        For now use the mask_safe of the datset\n",
    "        \"\"\"\n",
    "        coords = self.events.map_coord(self.ds.mask_safe.geom)\n",
    "        self.mask_safe = self.ds.mask_safe.get_by_coord(coords)==1\n",
    "        \n",
    "    def _init_acceptance(self):\n",
    "        \"\"\"\n",
    "        Build the acceptance cube (dimeansions of true geom)\n",
    "        Contains the fraction of each pixel that contributes to the sum of npred\n",
    "        Strategy: Convolve the mask safe with the psf and edisp        \n",
    "        \"\"\"\n",
    "        mask = Map.from_geom(geom=self.ds.mask_safe.geom.as_energy_true,\n",
    "                            data=self.ds.mask_safe.data.astype(float))\n",
    "        \n",
    "        # compute the Kernels\n",
    "        # for now use Kernels from the Map center, BUT acceptance is especially\n",
    "        # important for mask_safe edges so use Kernel for larger offset???\n",
    "        psf_kernel = self.ds.psf.get_psf_kernel(geom=self.ds.exposure.geom)\n",
    "        if isinstance(self.ds.edisp, gammapy.irf.edisp.map.EDispMap):\n",
    "            energy_axis = self.ds.mask_safe.geom.axes['energy']\n",
    "            energy_axis2 = MapAxis.from_nodes(\n",
    "                energy_axis.edges.value[1:], unit=\"TeV\", name=\"energy\", interp=\"log\"  \n",
    "            )  # second energy axis with centers at the upper bin edges\n",
    "            edisp_kernel = self.ds.edisp.get_edisp_kernel(energy_axis)\n",
    "            edisp_kernel2 = self.ds.edisp.get_edisp_kernel(energy_axis2)\n",
    "        else:\n",
    "            edisp_kernel = self.ds.edisp.get_edisp_kernel()\n",
    "        \n",
    "        mask_convolved=mask.convolve(psf_kernel)\n",
    "        mask_convolved1=mask_convolved.apply_edisp(edisp_kernel)\n",
    "        mask_convolved2=mask_convolved.apply_edisp(edisp_kernel2)\n",
    "        self.acceptance = mask_convolved1 , mask_convolved2\n",
    "        \n",
    "    def response_background(self):\n",
    "        \"\"\"\n",
    "        compute the response of the background.\n",
    "        returns: interpolated bkg value for all events, sum of bkg counts\n",
    "        \"\"\"\n",
    "        \n",
    "        if self._background_cache is not None and not self.ds._background_parameters_changed:\n",
    "            return self._background_cache\n",
    "        \n",
    "        # get the background map, use the MapDataset caching\n",
    "        background = self.ds.background\n",
    "        if self.ds.background_model and background:\n",
    "            if self.ds._background_parameters_changed:\n",
    "                values = self.ds.background_model.evaluate_geom(geom=background.geom)\n",
    "                if self.ds._background_cached is None:\n",
    "                    self.ds._background_cached = background * values\n",
    "                else:\n",
    "                    self.ds._background_cached.quantity = (\n",
    "                        background.quantity * values.value\n",
    "                    )\n",
    "            bkg_map = self.ds._background_cached\n",
    "        else:\n",
    "            bkg_map = background\n",
    "       \n",
    "        # interpolate and sum the bkg values\n",
    "        events = self.events.select_row_subset(self.mask_safe)\n",
    "        coords = events.map_coord(background.geom)\n",
    "        bkg_sum = bkg_map.data[self.ds.mask_safe.data].sum()\n",
    "        self._background_cache = bkg_map.interp_by_coord(coords, method='linear'), bkg_sum\n",
    "        return self._background_cache\n",
    "    \n",
    "    def stat_sum(self, response_only=False):\n",
    "        \"\"\"\n",
    "        compute the unbinned TS value\n",
    "        \"\"\"\n",
    "        response, npred_sum = self.response_background() # start with the bkg (all events)\n",
    "        # add the models\n",
    "        for ev in self._evaluators.values():\n",
    "            npred, mask, s = ev.compute_response()\n",
    "            response[mask] += npred\n",
    "            npred_sum += s\n",
    "        \n",
    "        if response_only:\n",
    "            return np.log(response)\n",
    "        if np.all(response>0): \n",
    "            # valid response - no event has npred <= 0\n",
    "            logL = np.sum(np.log(response)) - npred_sum\n",
    "            return -2 * logL\n",
    "        else:\n",
    "            # invalid response, reject the model\n",
    "            return np.inf\n",
    "\n",
    "class UnbinnedEvaluator():\n",
    "    def __init__(self, model, irfs, events, pointing, acceptance, max_radius=None):\n",
    "        \"\"\"\n",
    "        model: SkyModel\n",
    "        irfs: dict with \"psf\"--> PSF3D; \"exposure\"-->WcsNDMap with exosure data; \"edisp\"-->\n",
    "        \"\"\"\n",
    "        self.model = model\n",
    "        self.irfs = irfs\n",
    "        self.events=events\n",
    "        self.max_radius=max_radius\n",
    "        self.pointing=pointing\n",
    "        self.acceptance = [acceptance[i].cutout(position=self.model.position,\n",
    "                width=self.cutout_width, odd_npix=True).data for i in [0,1]]\n",
    "        self.irf_cube=None\n",
    "        self._cached_parameter_values = None\n",
    "        self._cached_parameter_values_previous = None\n",
    "        self._cache = None\n",
    "        self.acc_idx = 0\n",
    "        \n",
    "    @property\n",
    "    def psf_width(self, containment=PSF_CONTAINMENT):\n",
    "        \"\"\"Width of the PSF\"\"\"\n",
    "        if \"psf\" in self.irfs.keys():\n",
    "            #TODO: apply energy mask, so only use valid energies, not the whole range\n",
    "            energy_axis = self.irfs['exposure'].geom.axes[\"energy_true\"]\n",
    "            offset = self.pointing.separation(self.model.position)\n",
    "\n",
    "            radii = self.irfs[\"psf\"].containment_radius(\n",
    "                fraction=containment, offset=offset, energy_true=energy_axis.center\n",
    "            )\n",
    "            max_radius = np.max(radii)\n",
    "        else:\n",
    "            psf_width = 0 * u.deg\n",
    "        return max_radius*2\n",
    "    \n",
    "    @property\n",
    "    def cutout_width(self):\n",
    "        \"\"\"Cutout width for the model component\"\"\"\n",
    "        return self.psf_width + 2 * (self.model.evaluation_radius + CUTOUT_MARGIN)\n",
    "        \n",
    "    def build_exposure(self):\n",
    "        self.exposure = self.irfs['exposure'].cutout(\n",
    "                    position=self.model.position, width=self.cutout_width, odd_npix=True\n",
    "                )\n",
    "        \n",
    "    def init_mask(self):\n",
    "        \"\"\"\n",
    "        Mask events far away from the model. This is an additional mask to the i.e. energy mask on events\n",
    "        \"\"\"\n",
    "        geom_image=self.exposure.geom.to_image()\n",
    "        coords = self.events.map_coord(geom_image)\n",
    "        self.mask = geom_image.contains(coords)\n",
    "    \n",
    "    def build_psf(self):\n",
    "        geom=self.exposure.geom\n",
    "        psf3d=self.irfs['psf']\n",
    "        psf3d.normalize()\n",
    "        energy_axis_true = geom.axes[\"energy_true\"]\n",
    "        rad=geom.separation(self.events.radec[self.mask,None,None,None])\n",
    "#         offsets=geom.separation(self.pointing)\n",
    "        offsets = self.pointing.separation(self.model.position)\n",
    "        psf_factors=psf3d.evaluate(energy_true=energy_axis_true.center[None,:,None,None], \n",
    "                                             rad=rad, offset=offsets)\n",
    "        psf_factors /= psf_factors.sum(axis=(2,3), keepdims=True) # normalize\n",
    "        return np.nan_to_num(psf_factors)\n",
    "    \n",
    "#         # point psf\n",
    "#         coords = self.events.map_coord(geom.to_image()).apply_mask(self.mask)\n",
    "#         idx_lon, idx_lat = geom.to_image().coord_to_idx(coords)\n",
    "#         psf_factors = np.zeros(tuple([test.mask.sum()])+test.exposure.geom.data_shape)\n",
    "#         for e,(i,j) in enumerate(zip(idx_lon,idx_lat)):\n",
    "#             psf_factors[e,:,i,j]=1\n",
    "#         return psf_factors\n",
    "        \n",
    "    def build_edisp(self):\n",
    "        # maybe instead of EdispInv class, evaluate EnergyDispersion2D and renormalize similar to build_psf?\n",
    "        event_e = self.events.energy[self.mask]\n",
    "        offsets = self.events.radec[self.mask].separation(self.pointing) # maybe this needs to be one offset for each pixel\n",
    "        energy_true = self.exposure.geom.axes['energy_true']\n",
    "        # based on inverse Edisp\n",
    "#         edisp = EdispInv(self.irfs['edisp'], event_e.min(), event_e.max())\n",
    "#         edisp_factors = edisp.evaluate(offset = offsets[:,None], energy=event_e[:,None], energy_true=energy_true.center[None,:])\n",
    "\n",
    "        edisp2d=self.irfs['edisp']\n",
    "        edisp_factors=np.zeros((len(event_e),len(energy_true.center)))\n",
    "        for i,(offset,e) in enumerate(zip(offsets,event_e)):\n",
    "            kernel=edisp2d.to_edisp_kernel(offset=0.1*u.deg, energy_true=energy_true.edges)\n",
    "            edisp_factors[i]=kernel.evaluate(energy=e).flatten()\n",
    "        return edisp_factors\n",
    "    \n",
    "#         # diagonla edisp\n",
    "#         factors = np.zeros((len(event_e),len(energy_true.center)))\n",
    "#         for i,e in enumerate(event_e):\n",
    "#             dist = np.abs(energy_true - e)\n",
    "#             factors[i,dist.argmin()] = 1\n",
    "#         return factors\n",
    "\n",
    "    @lazyproperty\n",
    "    def _energy_binsz(self):\n",
    "        \"\"\"\n",
    "        fraction of the high bin edges / low bin edges\n",
    "        \"\"\"\n",
    "        ebins = self.exposure.geom.axes['energy_true'].edges.value\n",
    "        fractions = ebins[1:] / ebins[:-1]\n",
    "        return np.mean(fractions)\n",
    "    \n",
    "    @property\n",
    "    def _energy_shift(self):\n",
    "        \"\"\"\n",
    "        give the fraction of model increase based on the shift of \n",
    "        the center of gravity compared to the log bin center.\n",
    "        \n",
    "        \"\"\"\n",
    "        # get the index of the model\n",
    "        alpha = - self.model.parameters.value[self._index_idx]\n",
    "        if alpha == -1:\n",
    "            # center of gravity is equal to log bin center\n",
    "            return 1\n",
    "        # compute center of gravity for bins        \n",
    "        exp=alpha+1.0\n",
    "        result = np.power(0.5 + 0.5*self._energy_binsz**exp, 1/exp)\n",
    "        result /= np.sqrt(binsz)  # as fraction of the log bin center\n",
    "        return result**alpha\n",
    "\n",
    "    @lazyproperty\n",
    "    def _index_idx(self):\n",
    "        \"\"\"norm index\"\"\"\n",
    "        names = self.model.parameters.names\n",
    "        ind = [idx for idx, name in enumerate(names) if name in [\"index\", \"alpha\"]]\n",
    "        if len(ind) == 1:\n",
    "            return ind[0]\n",
    "        else:\n",
    "            return None\n",
    "\n",
    "    @property\n",
    "    def parameters_changed(self):\n",
    "        \"\"\"Parameters changed\"\"\"\n",
    "        values = self.model.parameters.value\n",
    "\n",
    "        # TODO: possibly allow for a tolerance here?\n",
    "        changed = ~np.all(self._cached_parameter_values == values)\n",
    "\n",
    "        if changed:\n",
    "            self._cached_parameter_values = values\n",
    "\n",
    "        return changed\n",
    "    \n",
    "    @property\n",
    "    def parameter_norm_only_changed(self):\n",
    "        \"\"\"Only norm parameter changed\"\"\"\n",
    "        norm_only_changed = False\n",
    "        idx = self._norm_idx\n",
    "        values = self.model.parameters.value\n",
    "        if idx and self._computation_cache is not None:\n",
    "            changed = self._cached_parameter_values_previous == values\n",
    "            norm_only_changed = sum(changed) == 1 and changed[idx]\n",
    "\n",
    "        if not norm_only_changed:\n",
    "            self._cached_parameter_values_previous = values\n",
    "        return norm_only_changed\n",
    "    \n",
    "    @lazyproperty\n",
    "    def _norm_idx(self):\n",
    "        \"\"\"norm index\"\"\"\n",
    "        names = self.model.parameters.names\n",
    "        ind = [idx for idx, name in enumerate(names) if name in [\"norm\", \"amplitude\"]]\n",
    "        if len(ind) == 1:\n",
    "            return ind[0]\n",
    "        else:\n",
    "            return None\n",
    "        \n",
    "    def renorm(self):\n",
    "        value = self.model.parameters.value[self._norm_idx]\n",
    "        value_cached = self._cached_parameter_values_previous[self._norm_idx]\n",
    "        return value / value_cached\n",
    "    \n",
    "    def init_irf_cube(self):\n",
    "        \"\"\"\n",
    "        compute the static cube representing the IRFs\n",
    "        with dimensions (Nevents, energy, lon, lat)\n",
    "        For each event and model pixel: IRF corrected exposure that contributes \n",
    "        to that event\n",
    "        \"\"\"\n",
    "        self.build_exposure()\n",
    "        self.init_mask()\n",
    "        psf = self.build_psf()\n",
    "        edisp = self.build_edisp()\n",
    "        self.irf_cube = self.exposure.quantity* psf * edisp[:,:,None,None]\n",
    "    \n",
    "    @lazyproperty\n",
    "    def _compute_response(self):\n",
    "        \n",
    "        if not self.parameter_norm_only_changed or self._cache is None:       \n",
    "            if self.irf_cube is None:\n",
    "                self.init_irf_cube()\n",
    "            npred=self.model.integrate_geom(self.exposure.geom)\n",
    "            response = np.multiply(npred, self.irf_cube).sum(axis=(1,2,3))\n",
    "            npred_sum = npred * self.exposure.quantity * self.acceptance[self.acc_idx]\n",
    "            npred_sum = npred_sum.quantity.to_value('').sum()\n",
    "#             npred_sum *= self._energy_shift\n",
    "            self._cache = response.to_value(''), self.mask, npred_sum  \n",
    "        else:\n",
    "            self._cache[0] *= self.renorm()\n",
    "            self._cache[2] *= self.renorm()\n",
    "        return self._cache\n",
    "    \n",
    "    def compute_response(self):\n",
    "        \"\"\"\n",
    "        compute the npred values at the event coordinates \n",
    "        and the sum of counts from the model\n",
    "        \n",
    "        Returns\n",
    "        -------\n",
    "        response: `np.array` (shape n)\n",
    "            npred values at the event coordinates (only contribution events)\n",
    "        mask: `np.array` (shape N with n true entries)\n",
    "            the mask to map the response to the total reponse\n",
    "        npred_sum: `float`\n",
    "            summed npred of the model\n",
    "        \"\"\"\n",
    "        if self.parameters_changed or self._cache is None:\n",
    "            del self._compute_response\n",
    "\n",
    "        return self._compute_response"
   ]
  },
  {
   "cell_type": "code",
   "execution_count": 16,
   "metadata": {},
   "outputs": [],
   "source": [
    "crab_pos = SkyCoord(184.557, -5.784, unit='deg', frame='galactic') \n",
    "obs_pos=obs1.pointing_radec\n",
    "ebins = np.logspace(-1,2,49)\n",
    "energy_axis = MapAxis.from_edges(\n",
    "    ebins, unit=\"TeV\", name=\"energy\", interp=\"log\"  \n",
    ")\n",
    "energy_axis_true = MapAxis.from_edges(\n",
    "    ebins, unit=\"TeV\", name=\"energy_true\", interp=\"log\"  \n",
    ")\n",
    "migra_axis = MapAxis.from_bounds(\n",
    "    0.5, 2, nbin=150, node_type=\"edges\", name=\"migra\"\n",
    ")\n",
    "geom = WcsGeom.create(\n",
    "    skydir=obs_pos,\n",
    "    binsz=0.02,\n",
    "    width=(3.5, 3.5),\n",
    "    frame=\"icrs\",\n",
    "    proj=\"CAR\",\n",
    "    axes=[energy_axis],\n",
    ")\n",
    "geom_true = WcsGeom.create(\n",
    "    skydir=obs_pos,\n",
    "    binsz=0.02,\n",
    "    width=(3.5, 3.5),\n",
    "    frame=\"icrs\",  # same frame as events\n",
    "    proj=\"CAR\",\n",
    "    axes=[energy_axis_true],\n",
    ")\n",
    "\n",
    "circle = CircleSkyRegion(\n",
    "    center=crab_pos, radius=0.3 * u.deg\n",
    ")\n",
    "data = geom.region_mask(regions=[circle], inside=False)\n",
    "exclusion_mask = ~geom.region_mask(regions=[circle])\n",
    "maker_fov = FoVBackgroundMaker(method=\"fit\", exclusion_mask=exclusion_mask)"
   ]
  },
  {
   "cell_type": "code",
   "execution_count": 17,
   "metadata": {},
   "outputs": [
    {
     "name": "stdout",
     "output_type": "stream",
     "text": [
      "CPU times: user 4.66 s, sys: 840 ms, total: 5.5 s\n",
      "Wall time: 5.54 s\n"
     ]
    }
   ],
   "source": [
    "%%time\n",
    "maker = MapDatasetMaker(background_oversampling=2)\n",
    "maker_safe_mask = SafeMaskMaker(methods=['offset-max'], offset_max='1.5 deg', bias_percent=8)\n",
    "reference = MapDataset.create(geom=geom, energy_axis_true=energy_axis_true, migra_axis=migra_axis)  #, migra_axis=migra_axis\n",
    "\n",
    "dataset = maker.run(reference, obs1)\n",
    "dataset = maker_safe_mask.run(dataset, obs1)\n",
    "dataset.mask_safe *= geom.energy_mask(energy_min=1*u.TeV)\n",
    "# assert np.isfinite(dataset.background.data[dataset.mask_safe.data]).all()\n",
    "# dataset.background.data[~dataset.mask_safe.data] = 0.0\n",
    "\n",
    "bkg_model = FoVBackgroundModel(dataset_name=dataset.name)\n",
    "dataset.models=bkg_model\n",
    "# dataset.background_model.spectral_model.tilt.frozen = False\n",
    "# dataset = maker_fov.run(dataset)\n",
    "# print(\n",
    "#     f\"Background norm obs {obs1.obs_id}: {dataset.background_model.spectral_model.norm.value:.2f} \\\n",
    "#     (tilt={dataset.background_model.spectral_model.tilt.value:.2f})\"\n",
    "# )"
   ]
  },
  {
   "cell_type": "code",
   "execution_count": 18,
   "metadata": {},
   "outputs": [],
   "source": [
    "model_gauss = SkyModel(\n",
    "    spatial_model=GaussianSpatialModel(lon_0=\"184.557 deg\", lat_0=\"-5.784 deg\", sigma='0.016 deg', frame = 'galactic'),\n",
    "    spectral_model=LogParabolaSpectralModel(amplitude='3.5e-11 cm-2 s-1 TeV-1', \n",
    "                                          reference='1 TeV', \n",
    "                                          alpha=1.8, \n",
    "                                          beta=0.4\n",
    "                                         ),\n",
    "    name='crab_model_gauss'\n",
    "    )\n",
    "\n",
    "model_gauss.spectral_model.amplitude.value /= 10. # 10 times weaker signal than the Crab\n",
    "\n",
    "model_gauss.spatial_model.parameters.freeze_all()\n",
    "model_gauss.spectral_model.amplitude.min = 0.\n",
    "model_gauss.spectral_model.alpha.min = 0.\n",
    "model_gauss.spectral_model.beta.min = 0.\n",
    "\n",
    "# model_gauss.spectral_model.amplitude.max = 3.5e-11\n",
    "# model_gauss.spectral_model.alpha.max = 5\n",
    "# model_gauss.spectral_model.beta.max = 4\n",
    "# model_gauss.apply_irf['psf']=False\n",
    "# model_gauss.apply_irf['edisp']=False\n",
    "model_gauss.parameters.to_table()\n",
    "\n",
    "model_ref = model_gauss.copy()"
   ]
  },
  {
   "cell_type": "markdown",
   "metadata": {},
   "source": [
    "## test the unbinned evaluator"
   ]
  },
  {
   "cell_type": "code",
   "execution_count": 19,
   "metadata": {},
   "outputs": [
    {
     "data": {
      "text/plain": [
       "[<matplotlib.lines.Line2D at 0x7f2a511a3af0>]"
      ]
     },
     "execution_count": 19,
     "metadata": {},
     "output_type": "execute_result"
    },
    {
     "data": {
      "image/png": "[encoded data removed]",
      "text/plain": [
       "<Figure size 432x288 with 1 Axes>"
      ]
     },
     "metadata": {
      "needs_background": "light"
     },
     "output_type": "display_data"
    }
   ],
   "source": [
    "### different energy bin sizes only result in different normalizations of the edisp kernel\n",
    "ek=obs1.edisp.to_edisp_kernel(offset=0.1*u.deg)\n",
    "ek2=obs1.edisp.to_edisp_kernel(offset=0.1*u.deg, energy=[26.9,27.1]*u.TeV)\n",
    "\n",
    "plt.semilogx(ek.axes['energy_true'].center, ek.evaluate(energy=27*u.TeV))\n",
    "plt.semilogx(ek.axes['energy_true'].center, ek2.evaluate(energy=27*u.TeV))"
   ]
  },
  {
   "cell_type": "code",
   "execution_count": 30,
   "metadata": {},
   "outputs": [
    {
     "name": "stdout",
     "output_type": "stream",
     "text": [
      "673\n"
     ]
    }
   ],
   "source": [
    "events_test = obs1.events.select_energy([10,100]*u.TeV)\n",
    "eds = EventDataset(dataset, obs1)\n",
    "irfs={'psf':obs1.psf, 'edisp':obs1.edisp, 'exposure':eds.tight_exposure()}\n",
    "print(len(events_test.table))\n",
    "test= UnbinnedEvaluator(model=model_gauss, irfs=irfs, events=events_test, pointing=obs1.pointing_radec, acceptance=eds.acceptance)"
   ]
  },
  {
   "cell_type": "code",
   "execution_count": 31,
   "metadata": {},
   "outputs": [
    {
     "name": "stdout",
     "output_type": "stream",
     "text": [
      "CPU times: user 2.89 s, sys: 936 ms, total: 3.83 s\n",
      "Wall time: 3.82 s\n"
     ]
    }
   ],
   "source": [
    "%%time\n",
    "test.init_irf_cube()"
   ]
  },
  {
   "cell_type": "code",
   "execution_count": 32,
   "metadata": {},
   "outputs": [
    {
     "name": "stdout",
     "output_type": "stream",
     "text": [
      "CPU times: user 422 ms, sys: 15.6 ms, total: 438 ms\n",
      "Wall time: 436 ms\n"
     ]
    }
   ],
   "source": [
    "%%time\n",
    "response, mask, s = test.compute_response()"
   ]
  },
  {
   "cell_type": "code",
   "execution_count": 33,
   "metadata": {},
   "outputs": [
    {
     "data": {
      "text/plain": [
       "15.50206080019419"
      ]
     },
     "execution_count": 33,
     "metadata": {},
     "output_type": "execute_result"
    }
   ],
   "source": [
    "s"
   ]
  },
  {
   "cell_type": "code",
   "execution_count": 34,
   "metadata": {},
   "outputs": [
    {
     "data": {
      "text/plain": [
       "array([3.65434598e-08, 5.70601466e-05, 1.02045206e-06, 5.75402719e-09,\n",
       "       0.00000000e+00, 1.37935235e-06, 2.82134524e-07, 1.46673177e-04,\n",
       "       3.15092654e-06, 0.00000000e+00, 3.95231077e-06, 1.15303460e-06,\n",
       "       0.00000000e+00, 0.00000000e+00, 0.00000000e+00, 0.00000000e+00,\n",
       "       7.16075366e-05, 0.00000000e+00, 6.22146023e-07, 0.00000000e+00])"
      ]
     },
     "execution_count": 34,
     "metadata": {},
     "output_type": "execute_result"
    }
   ],
   "source": [
    "response"
   ]
  },
  {
   "cell_type": "code",
   "execution_count": 35,
   "metadata": {},
   "outputs": [],
   "source": [
    "# compare with npred cube\n",
    "dataset.models += model_gauss\n",
    "dataset.npred()\n",
    "npred_crab = dataset.evaluators['crab_model_gauss'].compute_npred()"
   ]
  },
  {
   "cell_type": "code",
   "execution_count": 36,
   "metadata": {},
   "outputs": [],
   "source": [
    "coords = test.events.map_coord(npred_crab.geom).apply_mask(mask)\n",
    "response1 = npred_crab.interp_by_coord(coords, method='linear')"
   ]
  },
  {
   "cell_type": "code",
   "execution_count": 37,
   "metadata": {},
   "outputs": [
    {
     "data": {
      "text/plain": [
       "array([ 4.61617246e-08,  8.47772974e-05,  1.29521864e-06,  1.04885461e-07,\n",
       "        2.65482455e-07,  1.78145040e-06,  1.00287201e-06,  1.79231082e-04,\n",
       "        3.36106876e-06,  6.87426944e-07,  5.19790957e-06,  1.32281407e-06,\n",
       "        2.58445524e-11, -4.20683312e-12, -7.68559078e-14,  5.49228717e-13,\n",
       "        8.78384926e-05,  3.77691331e-10,  8.57960762e-07,  1.07250234e-07])"
      ]
     },
     "execution_count": 37,
     "metadata": {},
     "output_type": "execute_result"
    }
   ],
   "source": [
    "response1"
   ]
  },
  {
   "cell_type": "code",
   "execution_count": 38,
   "metadata": {},
   "outputs": [
    {
     "data": {
      "text/plain": [
       "[]"
      ]
     },
     "execution_count": 38,
     "metadata": {},
     "output_type": "execute_result"
    },
    {
     "data": {
      "image/png": "[encoded data removed]",
      "text/plain": [
       "<Figure size 432x288 with 1 Axes>"
      ]
     },
     "metadata": {
      "needs_background": "light"
     },
     "output_type": "display_data"
    }
   ],
   "source": [
    "plt.plot(response*30, label='events')\n",
    "plt.plot(response1, label='ds')\n",
    "plt.legend()\n",
    "plt.semilogy()"
   ]
  },
  {
   "cell_type": "code",
   "execution_count": 39,
   "metadata": {},
   "outputs": [],
   "source": [
    "eval_crab=dataset.evaluators['crab_model_gauss']"
   ]
  },
  {
   "cell_type": "code",
   "execution_count": 40,
   "metadata": {},
   "outputs": [
    {
     "data": {
      "text/plain": [
       "<matplotlib.colorbar.Colorbar at 0x7f2a4f9f0cd0>"
      ]
     },
     "execution_count": 40,
     "metadata": {},
     "output_type": "execute_result"
    },
    {
     "data": {
      "image/png": "[encoded data removed]",
      "text/plain": [
       "<Figure size 432x288 with 2 Axes>"
      ]
     },
     "metadata": {
      "needs_background": "light"
     },
     "output_type": "display_data"
    }
   ],
   "source": [
    "plt.imshow(eval_crab.psf.psf_kernel_map.data[40,28:39,28:39])\n",
    "plt.colorbar()"
   ]
  },
  {
   "cell_type": "code",
   "execution_count": 41,
   "metadata": {
    "scrolled": true
   },
   "outputs": [],
   "source": [
    "psf_unb = test.build_psf()"
   ]
  },
  {
   "cell_type": "code",
   "execution_count": 43,
   "metadata": {},
   "outputs": [
    {
     "data": {
      "text/plain": [
       "<matplotlib.colorbar.Colorbar at 0x7f2a4f938730>"
      ]
     },
     "execution_count": 43,
     "metadata": {},
     "output_type": "execute_result"
    },
    {
     "data": {
      "image/png": "[encoded data removed]",
      "text/plain": [
       "<Figure size 432x288 with 2 Axes>"
      ]
     },
     "metadata": {
      "needs_background": "light"
     },
     "output_type": "display_data"
    }
   ],
   "source": [
    "plt.imshow(psf_unb[2,33,51:62,38:49])\n",
    "plt.colorbar()"
   ]
  },
  {
   "cell_type": "markdown",
   "metadata": {},
   "source": [
    "## test the unbinned dataset"
   ]
  },
  {
   "cell_type": "code",
   "execution_count": 30,
   "metadata": {},
   "outputs": [],
   "source": [
    "dataset.models += model_gauss"
   ]
  },
  {
   "cell_type": "code",
   "execution_count": 47,
   "metadata": {
    "scrolled": true
   },
   "outputs": [
    {
     "name": "stdout",
     "output_type": "stream",
     "text": [
      "MapDataset\n",
      "----------\n",
      "\n",
      "  Name                            : OTlLldoP \n",
      "\n",
      "  Total counts                    : 1238 \n",
      "  Total background counts         : 1192.13\n",
      "  Total excess counts             : 45.87\n",
      "\n",
      "  Predicted counts                : 1206.91\n",
      "  Predicted background counts     : 1192.13\n",
      "  Predicted excess counts         : 14.78\n",
      "\n",
      "  Exposure min                    : 8.30e+05 m2 s\n",
      "  Exposure max                    : 1.11e+09 m2 s\n",
      "\n",
      "  Number of total bins            : 1470000 \n",
      "  Number of fit bins              : 564317 \n",
      "\n",
      "  Fit statistic type              : cash\n",
      "  Fit statistic value (-2 log(L)) : 15647.64\n",
      "\n",
      "  Number of models                : 2 \n",
      "  Number of parameters            : 12\n",
      "  Number of free parameters       : 4\n",
      "\n",
      "  Component 0: FoVBackgroundModel\n",
      "  \n",
      "    Name                      : OTlLldoP-bkg\n",
      "    Datasets names            : ['OTlLldoP']\n",
      "    Spectral model type       : PowerLawNormSpectralModel\n",
      "    Parameters:\n",
      "      norm                          :      1.000   +/-    0.00             \n",
      "      tilt                  (frozen):      0.000                   \n",
      "      reference             (frozen):      1.000       TeV         \n",
      "  \n",
      "  Component 1: SkyModel\n",
      "  \n",
      "    Name                      : crab_model_gauss\n",
      "    Datasets names            : None\n",
      "    Spectral model type       : LogParabolaSpectralModel\n",
      "    Spatial  model type       : GaussianSpatialModel\n",
      "    Temporal model type       : \n",
      "    Parameters:\n",
      "      amplitude                     :   3.50e-12   +/- 0.0e+00 1 / (cm2 s TeV)\n",
      "      reference             (frozen):      1.000       TeV         \n",
      "      alpha                         :      1.800   +/-    0.00             \n",
      "      beta                          :      0.400   +/-    0.00             \n",
      "      lon_0                 (frozen):    184.557       deg         \n",
      "      lat_0                 (frozen):     -5.784       deg         \n",
      "      sigma                 (frozen):      0.016       deg         \n",
      "      e                     (frozen):      0.000                   \n",
      "      phi                   (frozen):      0.000       deg         \n",
      "  \n",
      "  \n"
     ]
    }
   ],
   "source": [
    "print(dataset)"
   ]
  },
  {
   "cell_type": "code",
   "execution_count": 48,
   "metadata": {},
   "outputs": [
    {
     "name": "stdout",
     "output_type": "stream",
     "text": [
      "Source events: 19\n",
      "Background events: 3709\n"
     ]
    },
    {
     "data": {
      "text/plain": [
       "3728.0"
      ]
     },
     "execution_count": 48,
     "metadata": {},
     "output_type": "execute_result"
    }
   ],
   "source": [
    "params=dataset.models.parameters.free_parameters.names # ['amplitude', 'alpha', 'beta', 'norm', 'tilt']\n",
    "x_values = np.arange(len(params))\n",
    "if 'par_input' not in locals():\n",
    "    par_input=[dataset.models.parameters[par].value for par in params]\n",
    "    \n",
    "for i,par in enumerate(params):\n",
    "    dataset.models.parameters.free_parameters[par].value = par_input[i]\n",
    "sampler = MapDatasetEventSampler(random_state=69)\n",
    "events = sampler.run(dataset, obs1)\n",
    "\n",
    "print(f\"Source events: {(events.table['MC_ID'] == 1).sum()}\")\n",
    "print(f\"Background events: {(events.table['MC_ID'] == 0).sum()}\")\n",
    "      \n",
    "counts = Map.from_geom(geom)\n",
    "\n",
    "counts.fill_events(events)\n",
    "dataset.counts=counts\n",
    "      \n",
    "counts.data.sum()"
   ]
  },
  {
   "cell_type": "code",
   "execution_count": 49,
   "metadata": {},
   "outputs": [],
   "source": [
    "eds = EventDataset(dataset, obs1)"
   ]
  },
  {
   "cell_type": "code",
   "execution_count": 50,
   "metadata": {},
   "outputs": [
    {
     "name": "stdout",
     "output_type": "stream",
     "text": [
      "CPU times: user 1min 28s, sys: 51.5 s, total: 2min 19s\n",
      "Wall time: 2min 19s\n"
     ]
    },
    {
     "data": {
      "text/plain": [
       "15689.95951220089"
      ]
     },
     "execution_count": 50,
     "metadata": {},
     "output_type": "execute_result"
    }
   ],
   "source": [
    "%%time\n",
    "eds.stat_sum()"
   ]
  },
  {
   "cell_type": "markdown",
   "metadata": {},
   "source": [
    "## test some fitting"
   ]
  },
  {
   "cell_type": "code",
   "execution_count": 35,
   "metadata": {},
   "outputs": [
    {
     "name": "stdout",
     "output_type": "stream",
     "text": [
      "OptimizeResult\n",
      "\n",
      "\tbackend    : minuit\n",
      "\tmethod     : migrad\n",
      "\tsuccess    : True\n",
      "\tmessage    : Optimization terminated successfully.\n",
      "\tnfev       : 202\n",
      "\ttotal stat : 15412.24\n",
      "\n",
      "CovarianceResult\n",
      "\n",
      "\tbackend    : minuit\n",
      "\tmethod     : hesse\n",
      "\tsuccess    : True\n",
      "\tmessage    : Hesse terminated successfully.\n",
      "\n",
      "CPU times: user 11 s, sys: 23.4 ms, total: 11 s\n",
      "Wall time: 11 s\n"
     ]
    },
    {
     "data": {
      "text/html": [
       "<div><i>Table length=4</i>\n",
       "<table id=\"table140652344292688\" class=\"table-striped table-bordered table-condensed\">\n",
       "<thead><tr><th>type</th><th>name</th><th>value</th><th>unit</th><th>error</th><th>min</th><th>max</th><th>frozen</th><th>is_norm</th><th>link</th></tr></thead>\n",
       "<thead><tr><th>str8</th><th>str9</th><th>float64</th><th>str14</th><th>float64</th><th>float64</th><th>float64</th><th>bool</th><th>bool</th><th>str1</th></tr></thead>\n",
       "<tr><td>spectral</td><td>norm</td><td>9.1340e-01</td><td></td><td>2.834e-02</td><td>nan</td><td>nan</td><td>False</td><td>True</td><td></td></tr>\n",
       "<tr><td>spectral</td><td>amplitude</td><td>3.1742e-11</td><td>cm-2 s-1 TeV-1</td><td>6.274e-12</td><td>0.000e+00</td><td>nan</td><td>False</td><td>True</td><td></td></tr>\n",
       "<tr><td>spectral</td><td>alpha</td><td>1.6276e+00</td><td></td><td>3.991e-01</td><td>0.000e+00</td><td>nan</td><td>False</td><td>False</td><td></td></tr>\n",
       "<tr><td>spectral</td><td>beta</td><td>4.2859e-01</td><td></td><td>1.775e-01</td><td>0.000e+00</td><td>nan</td><td>False</td><td>False</td><td></td></tr>\n",
       "</table></div>"
      ],
      "text/plain": [
       "<Table length=4>\n",
       "  type      name     value         unit        error      min      max   frozen is_norm link\n",
       "  str8      str9    float64       str14       float64   float64  float64  bool    bool  str1\n",
       "-------- --------- ---------- -------------- --------- --------- ------- ------ ------- ----\n",
       "spectral      norm 9.1340e-01                2.834e-02       nan     nan  False    True     \n",
       "spectral amplitude 3.1742e-11 cm-2 s-1 TeV-1 6.274e-12 0.000e+00     nan  False    True     \n",
       "spectral     alpha 1.6276e+00                3.991e-01 0.000e+00     nan  False   False     \n",
       "spectral      beta 4.2859e-01                1.775e-01 0.000e+00     nan  False   False     "
      ]
     },
     "execution_count": 35,
     "metadata": {},
     "output_type": "execute_result"
    }
   ],
   "source": [
    "%%time\n",
    "fit = Fit(optimize_opts={\"print_level\": 0})\n",
    "result = fit.run([dataset])\n",
    "print(result)\n",
    "result.parameters.free_parameters.to_table()"
   ]
  },
  {
   "cell_type": "code",
   "execution_count": 36,
   "metadata": {},
   "outputs": [
    {
     "name": "stdout",
     "output_type": "stream",
     "text": [
      "OptimizeResult\n",
      "\n",
      "\tbackend    : minuit\n",
      "\tmethod     : migrad\n",
      "\tsuccess    : True\n",
      "\tmessage    : Optimization terminated successfully.\n",
      "\tnfev       : 187\n",
      "\ttotal stat : 15520.88\n",
      "\n",
      "CovarianceResult\n",
      "\n",
      "\tbackend    : minuit\n",
      "\tmethod     : hesse\n",
      "\tsuccess    : True\n",
      "\tmessage    : Hesse terminated successfully.\n",
      "\n",
      "CPU times: user 3min 5s, sys: 2min 1s, total: 5min 7s\n",
      "Wall time: 5min 7s\n"
     ]
    },
    {
     "data": {
      "text/html": [
       "<div><i>Table length=4</i>\n",
       "<table id=\"table140652391549536\" class=\"table-striped table-bordered table-condensed\">\n",
       "<thead><tr><th>type</th><th>name</th><th>value</th><th>unit</th><th>error</th><th>min</th><th>max</th><th>frozen</th><th>is_norm</th><th>link</th></tr></thead>\n",
       "<thead><tr><th>str8</th><th>str9</th><th>float64</th><th>str14</th><th>float64</th><th>float64</th><th>float64</th><th>bool</th><th>bool</th><th>str1</th></tr></thead>\n",
       "<tr><td>spectral</td><td>norm</td><td>9.3136e-01</td><td></td><td>2.855e-02</td><td>nan</td><td>nan</td><td>False</td><td>True</td><td></td></tr>\n",
       "<tr><td>spectral</td><td>amplitude</td><td>2.4751e-11</td><td>cm-2 s-1 TeV-1</td><td>5.838e-12</td><td>0.000e+00</td><td>nan</td><td>False</td><td>True</td><td></td></tr>\n",
       "<tr><td>spectral</td><td>alpha</td><td>1.5219e+00</td><td></td><td>5.029e-01</td><td>0.000e+00</td><td>nan</td><td>False</td><td>False</td><td></td></tr>\n",
       "<tr><td>spectral</td><td>beta</td><td>4.5939e-01</td><td></td><td>2.193e-01</td><td>0.000e+00</td><td>nan</td><td>False</td><td>False</td><td></td></tr>\n",
       "</table></div>"
      ],
      "text/plain": [
       "<Table length=4>\n",
       "  type      name     value         unit        error      min      max   frozen is_norm link\n",
       "  str8      str9    float64       str14       float64   float64  float64  bool    bool  str1\n",
       "-------- --------- ---------- -------------- --------- --------- ------- ------ ------- ----\n",
       "spectral      norm 9.3136e-01                2.855e-02       nan     nan  False    True     \n",
       "spectral amplitude 2.4751e-11 cm-2 s-1 TeV-1 5.838e-12 0.000e+00     nan  False    True     \n",
       "spectral     alpha 1.5219e+00                5.029e-01 0.000e+00     nan  False   False     \n",
       "spectral      beta 4.5939e-01                2.193e-01 0.000e+00     nan  False   False     "
      ]
     },
     "execution_count": 36,
     "metadata": {},
     "output_type": "execute_result"
    }
   ],
   "source": [
    "%%time  \n",
    "result2 = fit.run([eds])\n",
    "print(result2)\n",
    "result2.parameters.free_parameters.to_table()"
   ]
  },
  {
   "cell_type": "markdown",
   "metadata": {},
   "source": [
    "## test the significance"
   ]
  },
  {
   "cell_type": "code",
   "execution_count": 31,
   "metadata": {},
   "outputs": [],
   "source": [
    "# dataset.models += model_gauss\n",
    "\n",
    "pointing = obs1.pointing_radec\n",
    "params=dataset.models.parameters.free_parameters.names # ['amplitude', 'alpha', 'beta', 'norm', 'tilt']\n",
    "x_values = np.arange(len(params))\n",
    "if 'par_input' not in locals():\n",
    "    par_input=[dataset.models.parameters[par].value for par in params]"
   ]
  },
  {
   "cell_type": "code",
   "execution_count": null,
   "metadata": {
    "scrolled": true
   },
   "outputs": [
    {
     "name": "stdout",
     "output_type": "stream",
     "text": [
      "0: TS_binned = 16058.69; TS_unbinned = 16050.66\n",
      "1: TS_binned = 15141.16; TS_unbinned = 15148.81\n",
      "2: TS_binned = 14946.38; TS_unbinned = 14941.60\n",
      "3: TS_binned = 15171.49; TS_unbinned = 15163.17\n",
      "4: TS_binned = 15243.07; TS_unbinned = 5583.02\n",
      "5: TS_binned = 16139.17; TS_unbinned = 16140.44\n"
     ]
    },
    {
     "name": "stderr",
     "output_type": "stream",
     "text": [
      "/home/woody/caph/mppi086h/software/anaconda3/envs/gammapy-0.20/lib/python3.9/site-packages/astropy/units/quantity.py:613: RuntimeWarning: overflow encountered in power\n",
      "  result = super().__array_ufunc__(function, method, *arrays, **kwargs)\n",
      "/home/woody/caph/mppi086h/software/anaconda3/envs/gammapy-0.20/lib/python3.9/site-packages/astropy/units/quantity.py:613: RuntimeWarning: invalid value encountered in true_divide\n",
      "  result = super().__array_ufunc__(function, method, *arrays, **kwargs)\n",
      "/home/woody/caph/mppi086h/software/anaconda3/envs/gammapy-0.20/lib/python3.9/site-packages/astropy/units/quantity.py:613: RuntimeWarning: overflow encountered in power\n",
      "  result = super().__array_ufunc__(function, method, *arrays, **kwargs)\n",
      "/home/woody/caph/mppi086h/software/anaconda3/envs/gammapy-0.20/lib/python3.9/site-packages/astropy/units/quantity.py:613: RuntimeWarning: invalid value encountered in true_divide\n",
      "  result = super().__array_ufunc__(function, method, *arrays, **kwargs)\n",
      "/home/woody/caph/mppi086h/software/anaconda3/envs/gammapy-0.20/lib/python3.9/site-packages/astropy/units/quantity.py:613: RuntimeWarning: overflow encountered in power\n",
      "  result = super().__array_ufunc__(function, method, *arrays, **kwargs)\n",
      "/home/woody/caph/mppi086h/software/anaconda3/envs/gammapy-0.20/lib/python3.9/site-packages/astropy/units/quantity.py:613: RuntimeWarning: invalid value encountered in true_divide\n",
      "  result = super().__array_ufunc__(function, method, *arrays, **kwargs)\n",
      "/home/woody/caph/mppi086h/software/anaconda3/envs/gammapy-0.20/lib/python3.9/site-packages/astropy/units/quantity.py:613: RuntimeWarning: overflow encountered in power\n",
      "  result = super().__array_ufunc__(function, method, *arrays, **kwargs)\n",
      "/home/woody/caph/mppi086h/software/anaconda3/envs/gammapy-0.20/lib/python3.9/site-packages/astropy/units/quantity.py:613: RuntimeWarning: invalid value encountered in true_divide\n",
      "  result = super().__array_ufunc__(function, method, *arrays, **kwargs)\n",
      "/home/woody/caph/mppi086h/software/anaconda3/envs/gammapy-0.20/lib/python3.9/site-packages/astropy/units/quantity.py:613: RuntimeWarning: overflow encountered in power\n",
      "  result = super().__array_ufunc__(function, method, *arrays, **kwargs)\n",
      "/home/woody/caph/mppi086h/software/anaconda3/envs/gammapy-0.20/lib/python3.9/site-packages/astropy/units/quantity.py:613: RuntimeWarning: invalid value encountered in true_divide\n",
      "  result = super().__array_ufunc__(function, method, *arrays, **kwargs)\n"
     ]
    },
    {
     "name": "stdout",
     "output_type": "stream",
     "text": [
      "6: TS_binned = 15196.60; TS_unbinned = 15204.57\n",
      "7: TS_binned = 15117.52; TS_unbinned = 15117.84\n",
      "8: TS_binned = 15824.38; TS_unbinned = 15825.83\n",
      "9: TS_binned = 15425.63; TS_unbinned = 15426.12\n",
      "10: TS_binned = 15368.59; TS_unbinned = 15359.56\n",
      "11: TS_binned = 15658.82; TS_unbinned = 15653.12\n",
      "12: TS_binned = 15762.58; TS_unbinned = 15761.32\n",
      "13: TS_binned = 15214.53; TS_unbinned = 6736.10\n",
      "14: TS_binned = 14469.78; TS_unbinned = 14483.60\n",
      "15: TS_binned = 15723.56; TS_unbinned = 15725.83\n",
      "16: TS_binned = 15333.66; TS_unbinned = 15337.53\n",
      "17: TS_binned = 15326.99; TS_unbinned = 15321.34\n",
      "18: TS_binned = 15763.10; TS_unbinned = 15758.21\n",
      "19: TS_binned = 14845.75; TS_unbinned = 14846.06\n",
      "20: TS_binned = 15422.79; TS_unbinned = 15428.10\n",
      "21: TS_binned = 15497.94; TS_unbinned = 15500.84\n"
     ]
    },
    {
     "name": "stderr",
     "output_type": "stream",
     "text": [
      "/home/woody/caph/mppi086h/software/anaconda3/envs/gammapy-0.20/lib/python3.9/site-packages/astropy/units/quantity.py:613: RuntimeWarning: overflow encountered in power\n",
      "  result = super().__array_ufunc__(function, method, *arrays, **kwargs)\n",
      "/home/woody/caph/mppi086h/software/anaconda3/envs/gammapy-0.20/lib/python3.9/site-packages/astropy/units/quantity.py:613: RuntimeWarning: invalid value encountered in true_divide\n",
      "  result = super().__array_ufunc__(function, method, *arrays, **kwargs)\n",
      "/home/woody/caph/mppi086h/software/anaconda3/envs/gammapy-0.20/lib/python3.9/site-packages/astropy/units/quantity.py:613: RuntimeWarning: overflow encountered in power\n",
      "  result = super().__array_ufunc__(function, method, *arrays, **kwargs)\n",
      "/home/woody/caph/mppi086h/software/anaconda3/envs/gammapy-0.20/lib/python3.9/site-packages/astropy/units/quantity.py:613: RuntimeWarning: invalid value encountered in true_divide\n",
      "  result = super().__array_ufunc__(function, method, *arrays, **kwargs)\n"
     ]
    },
    {
     "name": "stdout",
     "output_type": "stream",
     "text": [
      "22: TS_binned = 15424.00; TS_unbinned = 8687.65\n",
      "23: TS_binned = 15470.36; TS_unbinned = 15467.38\n",
      "24: TS_binned = 15523.11; TS_unbinned = 15523.67\n",
      "25: TS_binned = 14917.79; TS_unbinned = 14931.57\n",
      "26: TS_binned = 15468.92; TS_unbinned = 15466.80\n",
      "27: TS_binned = 15625.82; TS_unbinned = 15621.55\n",
      "28: TS_binned = 15759.71; TS_unbinned = 15758.30\n",
      "29: TS_binned = 15570.79; TS_unbinned = 15575.47\n",
      "30: TS_binned = 14967.03; TS_unbinned = 14968.12\n",
      "31: TS_binned = 15328.56; TS_unbinned = 5930.07\n",
      "32: TS_binned = 14792.52; TS_unbinned = 14804.98\n",
      "33: TS_binned = 15397.20; TS_unbinned = 15399.22\n",
      "34: TS_binned = 16109.13; TS_unbinned = 16108.26\n",
      "35: TS_binned = 14622.22; TS_unbinned = 4729.05\n",
      "36: TS_binned = 15157.13; TS_unbinned = 15155.94\n",
      "37: TS_binned = 16392.35; TS_unbinned = 8514.95\n",
      "38: TS_binned = 15306.57; TS_unbinned = 8145.28\n",
      "39: TS_binned = 15376.12; TS_unbinned = 15377.80\n",
      "40: TS_binned = 14573.86; TS_unbinned = 14577.50\n",
      "41: TS_binned = 15491.51; TS_unbinned = 4100.29\n",
      "42: TS_binned = 15350.45; TS_unbinned = 7073.91\n",
      "43: TS_binned = 14897.67; TS_unbinned = 14896.54\n",
      "44: TS_binned = 15298.27; TS_unbinned = 15311.11\n",
      "45: TS_binned = 15151.20; TS_unbinned = 9035.93\n",
      "46: TS_binned = 15575.73; TS_unbinned = 15572.82\n",
      "47: TS_binned = 15342.93; TS_unbinned = 15342.62\n"
     ]
    },
    {
     "name": "stderr",
     "output_type": "stream",
     "text": [
      "/home/woody/caph/mppi086h/software/anaconda3/envs/gammapy-0.20/lib/python3.9/site-packages/astropy/units/quantity.py:613: RuntimeWarning: overflow encountered in power\n",
      "  result = super().__array_ufunc__(function, method, *arrays, **kwargs)\n",
      "/home/woody/caph/mppi086h/software/anaconda3/envs/gammapy-0.20/lib/python3.9/site-packages/astropy/units/quantity.py:613: RuntimeWarning: invalid value encountered in true_divide\n",
      "  result = super().__array_ufunc__(function, method, *arrays, **kwargs)\n",
      "/home/woody/caph/mppi086h/software/anaconda3/envs/gammapy-0.20/lib/python3.9/site-packages/astropy/units/quantity.py:613: RuntimeWarning: overflow encountered in power\n",
      "  result = super().__array_ufunc__(function, method, *arrays, **kwargs)\n",
      "/home/woody/caph/mppi086h/software/anaconda3/envs/gammapy-0.20/lib/python3.9/site-packages/astropy/units/quantity.py:613: RuntimeWarning: invalid value encountered in true_divide\n",
      "  result = super().__array_ufunc__(function, method, *arrays, **kwargs)\n"
     ]
    },
    {
     "name": "stdout",
     "output_type": "stream",
     "text": [
      "48: TS_binned = 15313.44; TS_unbinned = 5483.16\n",
      "49: TS_binned = 15553.96; TS_unbinned = 15547.49\n",
      "50: TS_binned = 15070.95; TS_unbinned = 14621.34\n",
      "51: TS_binned = 15327.10; TS_unbinned = 15323.10\n",
      "52: TS_binned = 15051.08; TS_unbinned = 15052.32\n",
      "53: TS_binned = 15501.79; TS_unbinned = 15502.90\n",
      "54: TS_binned = 16049.08; TS_unbinned = 16040.18\n"
     ]
    },
    {
     "name": "stderr",
     "output_type": "stream",
     "text": [
      "/home/woody/caph/mppi086h/software/anaconda3/envs/gammapy-0.20/lib/python3.9/site-packages/astropy/units/quantity.py:613: RuntimeWarning: overflow encountered in power\n",
      "  result = super().__array_ufunc__(function, method, *arrays, **kwargs)\n",
      "/home/woody/caph/mppi086h/software/anaconda3/envs/gammapy-0.20/lib/python3.9/site-packages/astropy/units/quantity.py:613: RuntimeWarning: invalid value encountered in true_divide\n",
      "  result = super().__array_ufunc__(function, method, *arrays, **kwargs)\n",
      "/home/woody/caph/mppi086h/software/anaconda3/envs/gammapy-0.20/lib/python3.9/site-packages/astropy/units/quantity.py:613: RuntimeWarning: overflow encountered in power\n",
      "  result = super().__array_ufunc__(function, method, *arrays, **kwargs)\n",
      "/home/woody/caph/mppi086h/software/anaconda3/envs/gammapy-0.20/lib/python3.9/site-packages/astropy/units/quantity.py:613: RuntimeWarning: invalid value encountered in true_divide\n",
      "  result = super().__array_ufunc__(function, method, *arrays, **kwargs)\n",
      "/home/woody/caph/mppi086h/software/anaconda3/envs/gammapy-0.20/lib/python3.9/site-packages/astropy/units/quantity.py:613: RuntimeWarning: overflow encountered in power\n",
      "  result = super().__array_ufunc__(function, method, *arrays, **kwargs)\n",
      "/home/woody/caph/mppi086h/software/anaconda3/envs/gammapy-0.20/lib/python3.9/site-packages/astropy/units/quantity.py:613: RuntimeWarning: invalid value encountered in true_divide\n",
      "  result = super().__array_ufunc__(function, method, *arrays, **kwargs)\n",
      "/home/woody/caph/mppi086h/software/anaconda3/envs/gammapy-0.20/lib/python3.9/site-packages/astropy/units/quantity.py:613: RuntimeWarning: overflow encountered in power\n",
      "  result = super().__array_ufunc__(function, method, *arrays, **kwargs)\n",
      "/home/woody/caph/mppi086h/software/anaconda3/envs/gammapy-0.20/lib/python3.9/site-packages/astropy/units/quantity.py:613: RuntimeWarning: invalid value encountered in true_divide\n",
      "  result = super().__array_ufunc__(function, method, *arrays, **kwargs)\n",
      "/home/woody/caph/mppi086h/software/anaconda3/envs/gammapy-0.20/lib/python3.9/site-packages/astropy/units/quantity.py:613: RuntimeWarning: overflow encountered in power\n",
      "  result = super().__array_ufunc__(function, method, *arrays, **kwargs)\n",
      "/home/woody/caph/mppi086h/software/anaconda3/envs/gammapy-0.20/lib/python3.9/site-packages/astropy/units/quantity.py:613: RuntimeWarning: invalid value encountered in true_divide\n",
      "  result = super().__array_ufunc__(function, method, *arrays, **kwargs)\n",
      "/home/woody/caph/mppi086h/software/anaconda3/envs/gammapy-0.20/lib/python3.9/site-packages/astropy/units/quantity.py:613: RuntimeWarning: overflow encountered in power\n",
      "  result = super().__array_ufunc__(function, method, *arrays, **kwargs)\n",
      "/home/woody/caph/mppi086h/software/anaconda3/envs/gammapy-0.20/lib/python3.9/site-packages/astropy/units/quantity.py:613: RuntimeWarning: invalid value encountered in true_divide\n",
      "  result = super().__array_ufunc__(function, method, *arrays, **kwargs)\n",
      "/home/woody/caph/mppi086h/software/anaconda3/envs/gammapy-0.20/lib/python3.9/site-packages/astropy/units/quantity.py:613: RuntimeWarning: overflow encountered in power\n",
      "  result = super().__array_ufunc__(function, method, *arrays, **kwargs)\n",
      "/home/woody/caph/mppi086h/software/anaconda3/envs/gammapy-0.20/lib/python3.9/site-packages/astropy/units/quantity.py:613: RuntimeWarning: invalid value encountered in true_divide\n",
      "  result = super().__array_ufunc__(function, method, *arrays, **kwargs)\n",
      "/home/woody/caph/mppi086h/software/anaconda3/envs/gammapy-0.20/lib/python3.9/site-packages/astropy/units/quantity.py:613: RuntimeWarning: overflow encountered in power\n",
      "  result = super().__array_ufunc__(function, method, *arrays, **kwargs)\n",
      "/home/woody/caph/mppi086h/software/anaconda3/envs/gammapy-0.20/lib/python3.9/site-packages/astropy/units/quantity.py:613: RuntimeWarning: invalid value encountered in true_divide\n",
      "  result = super().__array_ufunc__(function, method, *arrays, **kwargs)\n",
      "/home/woody/caph/mppi086h/software/anaconda3/envs/gammapy-0.20/lib/python3.9/site-packages/astropy/units/quantity.py:613: RuntimeWarning: overflow encountered in power\n",
      "  result = super().__array_ufunc__(function, method, *arrays, **kwargs)\n",
      "/home/woody/caph/mppi086h/software/anaconda3/envs/gammapy-0.20/lib/python3.9/site-packages/astropy/units/quantity.py:613: RuntimeWarning: invalid value encountered in true_divide\n",
      "  result = super().__array_ufunc__(function, method, *arrays, **kwargs)\n",
      "/home/woody/caph/mppi086h/software/anaconda3/envs/gammapy-0.20/lib/python3.9/site-packages/astropy/units/quantity.py:613: RuntimeWarning: overflow encountered in power\n",
      "  result = super().__array_ufunc__(function, method, *arrays, **kwargs)\n",
      "/home/woody/caph/mppi086h/software/anaconda3/envs/gammapy-0.20/lib/python3.9/site-packages/astropy/units/quantity.py:613: RuntimeWarning: invalid value encountered in true_divide\n",
      "  result = super().__array_ufunc__(function, method, *arrays, **kwargs)\n",
      "/home/woody/caph/mppi086h/software/anaconda3/envs/gammapy-0.20/lib/python3.9/site-packages/astropy/units/quantity.py:613: RuntimeWarning: overflow encountered in power\n",
      "  result = super().__array_ufunc__(function, method, *arrays, **kwargs)\n",
      "/home/woody/caph/mppi086h/software/anaconda3/envs/gammapy-0.20/lib/python3.9/site-packages/astropy/units/quantity.py:613: RuntimeWarning: invalid value encountered in true_divide\n",
      "  result = super().__array_ufunc__(function, method, *arrays, **kwargs)\n",
      "/home/woody/caph/mppi086h/software/anaconda3/envs/gammapy-0.20/lib/python3.9/site-packages/astropy/units/quantity.py:613: RuntimeWarning: overflow encountered in power\n",
      "  result = super().__array_ufunc__(function, method, *arrays, **kwargs)\n",
      "/home/woody/caph/mppi086h/software/anaconda3/envs/gammapy-0.20/lib/python3.9/site-packages/astropy/units/quantity.py:613: RuntimeWarning: invalid value encountered in true_divide\n",
      "  result = super().__array_ufunc__(function, method, *arrays, **kwargs)\n",
      "/home/woody/caph/mppi086h/software/anaconda3/envs/gammapy-0.20/lib/python3.9/site-packages/astropy/units/quantity.py:613: RuntimeWarning: overflow encountered in power\n",
      "  result = super().__array_ufunc__(function, method, *arrays, **kwargs)\n",
      "/home/woody/caph/mppi086h/software/anaconda3/envs/gammapy-0.20/lib/python3.9/site-packages/astropy/units/quantity.py:613: RuntimeWarning: invalid value encountered in true_divide\n",
      "  result = super().__array_ufunc__(function, method, *arrays, **kwargs)\n",
      "/home/woody/caph/mppi086h/software/anaconda3/envs/gammapy-0.20/lib/python3.9/site-packages/astropy/units/quantity.py:613: RuntimeWarning: overflow encountered in power\n",
      "  result = super().__array_ufunc__(function, method, *arrays, **kwargs)\n",
      "/home/woody/caph/mppi086h/software/anaconda3/envs/gammapy-0.20/lib/python3.9/site-packages/astropy/units/quantity.py:613: RuntimeWarning: invalid value encountered in true_divide\n",
      "  result = super().__array_ufunc__(function, method, *arrays, **kwargs)\n",
      "/home/woody/caph/mppi086h/software/anaconda3/envs/gammapy-0.20/lib/python3.9/site-packages/astropy/units/quantity.py:613: RuntimeWarning: overflow encountered in power\n",
      "  result = super().__array_ufunc__(function, method, *arrays, **kwargs)\n",
      "/home/woody/caph/mppi086h/software/anaconda3/envs/gammapy-0.20/lib/python3.9/site-packages/astropy/units/quantity.py:613: RuntimeWarning: invalid value encountered in true_divide\n",
      "  result = super().__array_ufunc__(function, method, *arrays, **kwargs)\n",
      "/home/woody/caph/mppi086h/software/anaconda3/envs/gammapy-0.20/lib/python3.9/site-packages/astropy/units/quantity.py:613: RuntimeWarning: overflow encountered in power\n",
      "  result = super().__array_ufunc__(function, method, *arrays, **kwargs)\n",
      "/home/woody/caph/mppi086h/software/anaconda3/envs/gammapy-0.20/lib/python3.9/site-packages/astropy/units/quantity.py:613: RuntimeWarning: invalid value encountered in true_divide\n",
      "  result = super().__array_ufunc__(function, method, *arrays, **kwargs)\n",
      "/home/woody/caph/mppi086h/software/anaconda3/envs/gammapy-0.20/lib/python3.9/site-packages/astropy/units/quantity.py:613: RuntimeWarning: overflow encountered in power\n",
      "  result = super().__array_ufunc__(function, method, *arrays, **kwargs)\n",
      "/home/woody/caph/mppi086h/software/anaconda3/envs/gammapy-0.20/lib/python3.9/site-packages/astropy/units/quantity.py:613: RuntimeWarning: invalid value encountered in true_divide\n",
      "  result = super().__array_ufunc__(function, method, *arrays, **kwargs)\n"
     ]
    },
    {
     "name": "stderr",
     "output_type": "stream",
     "text": [
      "/home/woody/caph/mppi086h/software/anaconda3/envs/gammapy-0.20/lib/python3.9/site-packages/astropy/units/quantity.py:613: RuntimeWarning: overflow encountered in power\n",
      "  result = super().__array_ufunc__(function, method, *arrays, **kwargs)\n",
      "/home/woody/caph/mppi086h/software/anaconda3/envs/gammapy-0.20/lib/python3.9/site-packages/astropy/units/quantity.py:613: RuntimeWarning: invalid value encountered in true_divide\n",
      "  result = super().__array_ufunc__(function, method, *arrays, **kwargs)\n",
      "/home/woody/caph/mppi086h/software/anaconda3/envs/gammapy-0.20/lib/python3.9/site-packages/astropy/units/quantity.py:613: RuntimeWarning: overflow encountered in power\n",
      "  result = super().__array_ufunc__(function, method, *arrays, **kwargs)\n",
      "/home/woody/caph/mppi086h/software/anaconda3/envs/gammapy-0.20/lib/python3.9/site-packages/astropy/units/quantity.py:613: RuntimeWarning: invalid value encountered in true_divide\n",
      "  result = super().__array_ufunc__(function, method, *arrays, **kwargs)\n",
      "/home/woody/caph/mppi086h/software/anaconda3/envs/gammapy-0.20/lib/python3.9/site-packages/astropy/units/quantity.py:613: RuntimeWarning: overflow encountered in power\n",
      "  result = super().__array_ufunc__(function, method, *arrays, **kwargs)\n",
      "/home/woody/caph/mppi086h/software/anaconda3/envs/gammapy-0.20/lib/python3.9/site-packages/astropy/units/quantity.py:613: RuntimeWarning: invalid value encountered in true_divide\n",
      "  result = super().__array_ufunc__(function, method, *arrays, **kwargs)\n",
      "/home/woody/caph/mppi086h/software/anaconda3/envs/gammapy-0.20/lib/python3.9/site-packages/astropy/units/quantity.py:613: RuntimeWarning: overflow encountered in power\n",
      "  result = super().__array_ufunc__(function, method, *arrays, **kwargs)\n",
      "/home/woody/caph/mppi086h/software/anaconda3/envs/gammapy-0.20/lib/python3.9/site-packages/astropy/units/quantity.py:613: RuntimeWarning: invalid value encountered in true_divide\n",
      "  result = super().__array_ufunc__(function, method, *arrays, **kwargs)\n",
      "/home/woody/caph/mppi086h/software/anaconda3/envs/gammapy-0.20/lib/python3.9/site-packages/astropy/units/quantity.py:613: RuntimeWarning: overflow encountered in power\n",
      "  result = super().__array_ufunc__(function, method, *arrays, **kwargs)\n",
      "/home/woody/caph/mppi086h/software/anaconda3/envs/gammapy-0.20/lib/python3.9/site-packages/astropy/units/quantity.py:613: RuntimeWarning: invalid value encountered in true_divide\n",
      "  result = super().__array_ufunc__(function, method, *arrays, **kwargs)\n",
      "/home/woody/caph/mppi086h/software/anaconda3/envs/gammapy-0.20/lib/python3.9/site-packages/astropy/units/quantity.py:613: RuntimeWarning: overflow encountered in power\n",
      "  result = super().__array_ufunc__(function, method, *arrays, **kwargs)\n",
      "/home/woody/caph/mppi086h/software/anaconda3/envs/gammapy-0.20/lib/python3.9/site-packages/astropy/units/quantity.py:613: RuntimeWarning: invalid value encountered in true_divide\n",
      "  result = super().__array_ufunc__(function, method, *arrays, **kwargs)\n",
      "/home/woody/caph/mppi086h/software/anaconda3/envs/gammapy-0.20/lib/python3.9/site-packages/astropy/units/quantity.py:613: RuntimeWarning: overflow encountered in power\n",
      "  result = super().__array_ufunc__(function, method, *arrays, **kwargs)\n",
      "/home/woody/caph/mppi086h/software/anaconda3/envs/gammapy-0.20/lib/python3.9/site-packages/astropy/units/quantity.py:613: RuntimeWarning: invalid value encountered in true_divide\n",
      "  result = super().__array_ufunc__(function, method, *arrays, **kwargs)\n",
      "/home/woody/caph/mppi086h/software/anaconda3/envs/gammapy-0.20/lib/python3.9/site-packages/astropy/units/quantity.py:613: RuntimeWarning: overflow encountered in power\n",
      "  result = super().__array_ufunc__(function, method, *arrays, **kwargs)\n",
      "/home/woody/caph/mppi086h/software/anaconda3/envs/gammapy-0.20/lib/python3.9/site-packages/astropy/units/quantity.py:613: RuntimeWarning: invalid value encountered in true_divide\n",
      "  result = super().__array_ufunc__(function, method, *arrays, **kwargs)\n",
      "/home/woody/caph/mppi086h/software/anaconda3/envs/gammapy-0.20/lib/python3.9/site-packages/astropy/units/quantity.py:613: RuntimeWarning: overflow encountered in power\n",
      "  result = super().__array_ufunc__(function, method, *arrays, **kwargs)\n",
      "/home/woody/caph/mppi086h/software/anaconda3/envs/gammapy-0.20/lib/python3.9/site-packages/astropy/units/quantity.py:613: RuntimeWarning: invalid value encountered in true_divide\n",
      "  result = super().__array_ufunc__(function, method, *arrays, **kwargs)\n",
      "/home/woody/caph/mppi086h/software/anaconda3/envs/gammapy-0.20/lib/python3.9/site-packages/astropy/units/quantity.py:613: RuntimeWarning: overflow encountered in power\n",
      "  result = super().__array_ufunc__(function, method, *arrays, **kwargs)\n",
      "/home/woody/caph/mppi086h/software/anaconda3/envs/gammapy-0.20/lib/python3.9/site-packages/astropy/units/quantity.py:613: RuntimeWarning: invalid value encountered in true_divide\n",
      "  result = super().__array_ufunc__(function, method, *arrays, **kwargs)\n",
      "/home/woody/caph/mppi086h/software/anaconda3/envs/gammapy-0.20/lib/python3.9/site-packages/astropy/units/quantity.py:613: RuntimeWarning: overflow encountered in power\n",
      "  result = super().__array_ufunc__(function, method, *arrays, **kwargs)\n",
      "/home/woody/caph/mppi086h/software/anaconda3/envs/gammapy-0.20/lib/python3.9/site-packages/astropy/units/quantity.py:613: RuntimeWarning: invalid value encountered in true_divide\n",
      "  result = super().__array_ufunc__(function, method, *arrays, **kwargs)\n",
      "/home/woody/caph/mppi086h/software/anaconda3/envs/gammapy-0.20/lib/python3.9/site-packages/astropy/units/quantity.py:613: RuntimeWarning: overflow encountered in power\n",
      "  result = super().__array_ufunc__(function, method, *arrays, **kwargs)\n",
      "/home/woody/caph/mppi086h/software/anaconda3/envs/gammapy-0.20/lib/python3.9/site-packages/astropy/units/quantity.py:613: RuntimeWarning: invalid value encountered in true_divide\n",
      "  result = super().__array_ufunc__(function, method, *arrays, **kwargs)\n"
     ]
    },
    {
     "name": "stdout",
     "output_type": "stream",
     "text": [
      "55: TS_binned = 15540.74; TS_unbinned = 6183.15\n",
      "56: TS_binned = 15311.82; TS_unbinned = 6226.39\n",
      "57: TS_binned = 15101.54; TS_unbinned = 7626.43\n",
      "58: TS_binned = 14977.78; TS_unbinned = 14985.13\n"
     ]
    },
    {
     "name": "stderr",
     "output_type": "stream",
     "text": [
      "/home/woody/caph/mppi086h/software/anaconda3/envs/gammapy-0.20/lib/python3.9/site-packages/astropy/units/quantity.py:613: RuntimeWarning: overflow encountered in power\n",
      "  result = super().__array_ufunc__(function, method, *arrays, **kwargs)\n",
      "/home/woody/caph/mppi086h/software/anaconda3/envs/gammapy-0.20/lib/python3.9/site-packages/astropy/units/quantity.py:613: RuntimeWarning: invalid value encountered in true_divide\n",
      "  result = super().__array_ufunc__(function, method, *arrays, **kwargs)\n",
      "/home/woody/caph/mppi086h/software/anaconda3/envs/gammapy-0.20/lib/python3.9/site-packages/astropy/units/quantity.py:613: RuntimeWarning: overflow encountered in power\n",
      "  result = super().__array_ufunc__(function, method, *arrays, **kwargs)\n",
      "/home/woody/caph/mppi086h/software/anaconda3/envs/gammapy-0.20/lib/python3.9/site-packages/astropy/units/quantity.py:613: RuntimeWarning: invalid value encountered in true_divide\n",
      "  result = super().__array_ufunc__(function, method, *arrays, **kwargs)\n"
     ]
    },
    {
     "name": "stdout",
     "output_type": "stream",
     "text": [
      "59: TS_binned = 15283.64; TS_unbinned = 6456.09\n",
      "60: TS_binned = 15823.14; TS_unbinned = 15815.98\n",
      "61: TS_binned = 15921.39; TS_unbinned = 8593.81\n",
      "62: TS_binned = 15828.61; TS_unbinned = 15831.58\n",
      "63: TS_binned = 15156.43; TS_unbinned = 15156.60\n",
      "64: TS_binned = 15606.54; TS_unbinned = 15601.07\n",
      "65: TS_binned = 16076.86; TS_unbinned = 7697.88\n",
      "66: TS_binned = 15082.98; TS_unbinned = 15085.53\n",
      "67: TS_binned = 15203.15; TS_unbinned = 15194.87\n",
      "68: TS_binned = 15298.83; TS_unbinned = 15293.31\n"
     ]
    },
    {
     "name": "stderr",
     "output_type": "stream",
     "text": [
      "/home/woody/caph/mppi086h/software/anaconda3/envs/gammapy-0.20/lib/python3.9/site-packages/astropy/units/quantity.py:613: RuntimeWarning: overflow encountered in power\n",
      "  result = super().__array_ufunc__(function, method, *arrays, **kwargs)\n",
      "/home/woody/caph/mppi086h/software/anaconda3/envs/gammapy-0.20/lib/python3.9/site-packages/astropy/units/quantity.py:613: RuntimeWarning: invalid value encountered in true_divide\n",
      "  result = super().__array_ufunc__(function, method, *arrays, **kwargs)\n",
      "/home/woody/caph/mppi086h/software/anaconda3/envs/gammapy-0.20/lib/python3.9/site-packages/astropy/units/quantity.py:613: RuntimeWarning: overflow encountered in power\n",
      "  result = super().__array_ufunc__(function, method, *arrays, **kwargs)\n",
      "/home/woody/caph/mppi086h/software/anaconda3/envs/gammapy-0.20/lib/python3.9/site-packages/astropy/units/quantity.py:613: RuntimeWarning: invalid value encountered in true_divide\n",
      "  result = super().__array_ufunc__(function, method, *arrays, **kwargs)\n",
      "/home/woody/caph/mppi086h/software/anaconda3/envs/gammapy-0.20/lib/python3.9/site-packages/astropy/units/quantity.py:613: RuntimeWarning: overflow encountered in power\n",
      "  result = super().__array_ufunc__(function, method, *arrays, **kwargs)\n",
      "/home/woody/caph/mppi086h/software/anaconda3/envs/gammapy-0.20/lib/python3.9/site-packages/astropy/units/quantity.py:613: RuntimeWarning: invalid value encountered in true_divide\n",
      "  result = super().__array_ufunc__(function, method, *arrays, **kwargs)\n",
      "/home/woody/caph/mppi086h/software/anaconda3/envs/gammapy-0.20/lib/python3.9/site-packages/astropy/units/quantity.py:613: RuntimeWarning: overflow encountered in power\n",
      "  result = super().__array_ufunc__(function, method, *arrays, **kwargs)\n",
      "/home/woody/caph/mppi086h/software/anaconda3/envs/gammapy-0.20/lib/python3.9/site-packages/astropy/units/quantity.py:613: RuntimeWarning: invalid value encountered in true_divide\n",
      "  result = super().__array_ufunc__(function, method, *arrays, **kwargs)\n",
      "/home/woody/caph/mppi086h/software/anaconda3/envs/gammapy-0.20/lib/python3.9/site-packages/astropy/units/quantity.py:613: RuntimeWarning: overflow encountered in power\n",
      "  result = super().__array_ufunc__(function, method, *arrays, **kwargs)\n",
      "/home/woody/caph/mppi086h/software/anaconda3/envs/gammapy-0.20/lib/python3.9/site-packages/astropy/units/quantity.py:613: RuntimeWarning: invalid value encountered in true_divide\n",
      "  result = super().__array_ufunc__(function, method, *arrays, **kwargs)\n",
      "/home/woody/caph/mppi086h/software/anaconda3/envs/gammapy-0.20/lib/python3.9/site-packages/astropy/units/quantity.py:613: RuntimeWarning: overflow encountered in power\n",
      "  result = super().__array_ufunc__(function, method, *arrays, **kwargs)\n",
      "/home/woody/caph/mppi086h/software/anaconda3/envs/gammapy-0.20/lib/python3.9/site-packages/astropy/units/quantity.py:613: RuntimeWarning: invalid value encountered in true_divide\n",
      "  result = super().__array_ufunc__(function, method, *arrays, **kwargs)\n"
     ]
    },
    {
     "name": "stdout",
     "output_type": "stream",
     "text": [
      "69: TS_binned = 15661.46; TS_unbinned = 5730.50\n",
      "70: TS_binned = 15363.58; TS_unbinned = 15368.31\n",
      "71: TS_binned = 15002.14; TS_unbinned = 15003.53\n"
     ]
    }
   ],
   "source": [
    "%%time\n",
    "### Compare analysis for n MC simulations\n",
    "### This takes very long for now\n",
    "n=100\n",
    "\n",
    "\n",
    "par_binned=[]\n",
    "err_binned=[]\n",
    "par_unbin =[]\n",
    "err_unbin =[]\n",
    "dTS_binned = []\n",
    "dTS_unbinned = []\n",
    "\n",
    "for ii in range(n): #range(n): #[21, 62, 71, 74]:\n",
    "    ### draw random revents\n",
    "    for i,par in enumerate(params):\n",
    "        dataset.models.parameters.free_parameters[par].value = par_input[i]\n",
    "    sampler = MapDatasetEventSampler(random_state=ii)\n",
    "    events = sampler.run(dataset, obs1)\n",
    "    \n",
    "    ### set up binned and unbinned datasets\n",
    "    counts = Map.from_geom(geom)\n",
    "    counts.fill_events(events)\n",
    "    dataset.counts=counts\n",
    "    \n",
    "    eds = EventDataset(dataset, obs1, events=events)\n",
    "    \n",
    "    ### fit both datasets\n",
    "    fit = Fit(optimize_opts={\"print_level\": 0})\n",
    "    result = fit.run([dataset])\n",
    "    result2 = fit.run([eds])\n",
    "        \n",
    "    ### parameter comparison\n",
    "    par_binned.append([result.parameters[par].value for par in params])\n",
    "    err_binned.append([result.parameters[par].error for par in params])\n",
    "\n",
    "    par_unbin.append([result2.parameters[par].value for par in params])\n",
    "    err_unbin.append([result2.parameters[par].error for par in params])\n",
    "    \n",
    "    ### test of the source significance\n",
    "    ts_binned = result.total_stat\n",
    "    ts_unb = result2.total_stat\n",
    "    print(f\"{ii}: TS_binned = {ts_binned:.2f}; TS_unbinned = {ts_unb:.2f}\")\n",
    "    with dataset.models.parameters.restore_status():\n",
    "        dataset.models.parameters['amplitude'].value = 0\n",
    "        dataset.models.parameters['amplitude'].frozen = True\n",
    "        res=fit.optimize(dataset)\n",
    "        ts_binned0 = res.total_stat\n",
    "    with eds.models.parameters.restore_status():\n",
    "        eds.models.parameters['amplitude'].value = 0\n",
    "        eds.models.parameters['amplitude'].frozen = True\n",
    "        res2=fit.optimize([eds])\n",
    "        ts_unb0 = res2.total_stat\n",
    "    dTS_binned.append(ts_binned0-ts_binned)\n",
    "    dTS_unbinned.append(ts_unb0-ts_unb)"
   ]
  },
  {
   "cell_type": "code",
   "execution_count": 66,
   "metadata": {},
   "outputs": [
    {
     "name": "stdout",
     "output_type": "stream",
     "text": [
      "Avg over 100 simulations: \n",
      "deltaTS binned   = 13.706 \n",
      "deltaTS unbinned = 2308.018\n"
     ]
    }
   ],
   "source": [
    "par_bin_mean = np.mean(par_binned, axis=0)\n",
    "par_ubin_mean = np.mean(par_unbin, axis=0)\n",
    "\n",
    "err_bin_mean = np.mean(err_binned, axis=0)\n",
    "err_ubin_mean = np.mean(err_unbin, axis=0)\n",
    "\n",
    "dTS_binned_mean = np.mean(dTS_binned)\n",
    "dTS_unbinned_mean = np.mean(dTS_unbinned)\n",
    "print(f\"Avg over {n} simulations: \\n\" +\n",
    "        f\"deltaTS binned   = {dTS_binned_mean:.3f} \\n\" +\n",
    "        f\"deltaTS unbinned = {dTS_unbinned_mean:.3f}\")\n",
    "\n",
    "par_binned=np.array(par_binned)\n",
    "par_unbin=np.array(par_unbin)\n",
    "err_binned=np.array(err_binned)\n",
    "err_unbin=np.array(err_unbin)\n",
    "dTS_binned=np.array(dTS_binned)\n",
    "dTS_unbinned=np.array(dTS_unbinned)"
   ]
  },
  {
   "cell_type": "code",
   "execution_count": 68,
   "metadata": {},
   "outputs": [
    {
     "data": {
      "text/plain": [
       "(array([ 4, 13, 22, 31, 35, 37, 38, 41, 42, 45, 48, 50, 55, 56, 57, 59, 61,\n",
       "        65, 69, 72, 82, 84, 89, 91, 92, 95, 98, 99]),)"
      ]
     },
     "execution_count": 68,
     "metadata": {},
     "output_type": "execute_result"
    }
   ],
   "source": [
    "np.where(dTS_unbinned>1e2)"
   ]
  },
  {
   "cell_type": "markdown",
   "metadata": {},
   "source": [
    "## investigate a single realiztion where something went wrong"
   ]
  },
  {
   "cell_type": "code",
   "execution_count": 51,
   "metadata": {},
   "outputs": [],
   "source": [
    "ii = 41\n",
    "### draw random revents\n",
    "for i,par in enumerate(params):\n",
    "    dataset.models.parameters.free_parameters[par].value = par_input[i]\n",
    "sampler = MapDatasetEventSampler(random_state=ii)\n",
    "events = sampler.run(dataset, obs1)\n",
    "\n",
    "### set up binned and unbinned datasets\n",
    "counts = Map.from_geom(geom)\n",
    "counts.fill_events(events)\n",
    "dataset.counts=counts\n",
    "\n",
    "eds = EventDataset(dataset, obs1, events=events, tight_exp = False)"
   ]
  },
  {
   "cell_type": "code",
   "execution_count": 52,
   "metadata": {},
   "outputs": [
    {
     "data": {
      "text/plain": [
       "15502.751717026666"
      ]
     },
     "execution_count": 52,
     "metadata": {},
     "output_type": "execute_result"
    }
   ],
   "source": [
    "eds.stat_sum() # 15502.80"
   ]
  },
  {
   "cell_type": "code",
   "execution_count": 53,
   "metadata": {},
   "outputs": [
    {
     "data": {
      "text/html": [
       "<div><i>Table length=4</i>\n",
       "<table id=\"table139819612511680\" class=\"table-striped table-bordered table-condensed\">\n",
       "<thead><tr><th>type</th><th>name</th><th>value</th><th>unit</th><th>error</th><th>min</th><th>max</th><th>frozen</th><th>is_norm</th><th>link</th></tr></thead>\n",
       "<thead><tr><th>str8</th><th>str9</th><th>float64</th><th>str14</th><th>float64</th><th>float64</th><th>float64</th><th>bool</th><th>bool</th><th>str1</th></tr></thead>\n",
       "<tr><td>spectral</td><td>norm</td><td>1.0000e+00</td><td></td><td>0.000e+00</td><td>nan</td><td>nan</td><td>False</td><td>True</td><td></td></tr>\n",
       "<tr><td>spectral</td><td>amplitude</td><td>3.5000e-12</td><td>cm-2 s-1 TeV-1</td><td>0.000e+00</td><td>0.000e+00</td><td>nan</td><td>False</td><td>True</td><td></td></tr>\n",
       "<tr><td>spectral</td><td>alpha</td><td>1.8000e+00</td><td></td><td>0.000e+00</td><td>0.000e+00</td><td>nan</td><td>False</td><td>False</td><td></td></tr>\n",
       "<tr><td>spectral</td><td>beta</td><td>4.0000e-01</td><td></td><td>0.000e+00</td><td>0.000e+00</td><td>nan</td><td>False</td><td>False</td><td></td></tr>\n",
       "</table></div>"
      ],
      "text/plain": [
       "<Table length=4>\n",
       "  type      name     value         unit        error      min      max   frozen is_norm link\n",
       "  str8      str9    float64       str14       float64   float64  float64  bool    bool  str1\n",
       "-------- --------- ---------- -------------- --------- --------- ------- ------ ------- ----\n",
       "spectral      norm 1.0000e+00                0.000e+00       nan     nan  False    True     \n",
       "spectral amplitude 3.5000e-12 cm-2 s-1 TeV-1 0.000e+00 0.000e+00     nan  False    True     \n",
       "spectral     alpha 1.8000e+00                0.000e+00 0.000e+00     nan  False   False     \n",
       "spectral      beta 4.0000e-01                0.000e+00 0.000e+00     nan  False   False     "
      ]
     },
     "execution_count": 53,
     "metadata": {},
     "output_type": "execute_result"
    }
   ],
   "source": [
    "eds.models.parameters.free_parameters.to_table()"
   ]
  },
  {
   "cell_type": "code",
   "execution_count": 54,
   "metadata": {},
   "outputs": [],
   "source": [
    "par_manual = np.array([8.16610563e-01, 3.13334428e-29, 7.70978423e+01, 1.52374792e-06])\n",
    "for i,par in enumerate(params):\n",
    "    eds.models.parameters.free_parameters[par].value = par_manual[i]"
   ]
  },
  {
   "cell_type": "code",
   "execution_count": 55,
   "metadata": {},
   "outputs": [],
   "source": [
    "ev=eds._evaluators['crab_model_gauss']"
   ]
  },
  {
   "cell_type": "code",
   "execution_count": 56,
   "metadata": {},
   "outputs": [],
   "source": [
    "resp, m, s1 = ev.compute_response()"
   ]
  },
  {
   "cell_type": "code",
   "execution_count": 57,
   "metadata": {},
   "outputs": [],
   "source": [
    "ev.acc_idx = 1\n",
    "del ev._compute_response\n",
    "\n",
    "resp, m, s2 = ev.compute_response()"
   ]
  },
  {
   "cell_type": "code",
   "execution_count": 58,
   "metadata": {},
   "outputs": [
    {
     "data": {
      "text/plain": [
       "(3.792211248505768, 2149078001.0857697)"
      ]
     },
     "execution_count": 58,
     "metadata": {},
     "output_type": "execute_result"
    }
   ],
   "source": [
    "s2/s1, ev._energy_shift"
   ]
  },
  {
   "cell_type": "code",
   "execution_count": 59,
   "metadata": {},
   "outputs": [],
   "source": [
    "energy_axis = eds.ds.mask_safe.geom.axes['energy']\n",
    "energy_axis2 = MapAxis.from_nodes(\n",
    "    energy_axis.edges.value[:-1], unit=\"TeV\", name=\"energy\", interp=\"log\"  \n",
    ")  # second energy axis with centers at the lower bin edges\n",
    "edisp_kernel = eds.ds.edisp.get_edisp_kernel(energy_axis)\n",
    "edisp_kernel2 = eds.ds.edisp.get_edisp_kernel(energy_axis2)"
   ]
  },
  {
   "cell_type": "code",
   "execution_count": 60,
   "metadata": {},
   "outputs": [
    {
     "data": {
      "text/plain": [
       "array([0.        , 0.        , 0.        , 0.        , 1.        ,\n",
       "       1.        , 1.        , 1.        , 1.        , 1.        ,\n",
       "       1.        , 1.        , 1.        , 1.        , 1.        ,\n",
       "       1.        , 1.        , 1.        , 1.        , 1.        ,\n",
       "       1.        , 1.        , 1.        , 1.        , 1.        ,\n",
       "       1.        , 1.        , 1.        , 1.        , 1.        ,\n",
       "       1.        , 1.        , 1.        , 1.        , 1.        ,\n",
       "       1.        , 1.        , 1.        , 1.        , 1.        ,\n",
       "       1.        , 1.        , 1.        , 0.99926224, 0.99782686,\n",
       "       0.99328355, 0.96129394, 0.86154953])"
      ]
     },
     "execution_count": 60,
     "metadata": {},
     "output_type": "execute_result"
    }
   ],
   "source": [
    "edisp_kernel2.pdf_matrix.sum(axis=1)"
   ]
  },
  {
   "cell_type": "code",
   "execution_count": 61,
   "metadata": {},
   "outputs": [
    {
     "name": "stderr",
     "output_type": "stream",
     "text": [
      "/home/woody/caph/mppi086h/software/anaconda3/envs/gammapy-0.20/lib/python3.9/site-packages/astropy/units/quantity.py:613: RuntimeWarning: invalid value encountered in true_divide\n",
      "  result = super().__array_ufunc__(function, method, *arrays, **kwargs)\n"
     ]
    },
    {
     "data": {
      "text/plain": [
       "<matplotlib.legend.Legend at 0x7f2a41107a90>"
      ]
     },
     "execution_count": 61,
     "metadata": {},
     "output_type": "execute_result"
    },
    {
     "data": {
      "image/png": "[encoded data removed]",
      "text/plain": [
       "<Figure size 432x288 with 1 Axes>"
      ]
     },
     "metadata": {
      "needs_background": "light"
     },
     "output_type": "display_data"
    }
   ],
   "source": [
    "plt.semilogx(edisp_kernel.axes['energy_true'].center, ev.acceptance[0].sum(axis=(1,2)), label='normal')\n",
    "plt.semilogx(edisp_kernel.axes['energy_true'].center, ev.acceptance[1].sum(axis=(1,2)), label='shifted')\n",
    "ev_kernel=(ev.irf_cube[321]/ev.exposure.quantity).sum(axis=(1,2))\n",
    "plt.semilogx(edisp_kernel.axes['energy_true'].center, np.nan_to_num(ev_kernel)*1e4, label='ev_kernel')\n",
    "plt.legend()"
   ]
  },
  {
   "cell_type": "code",
   "execution_count": 62,
   "metadata": {},
   "outputs": [
    {
     "name": "stderr",
     "output_type": "stream",
     "text": [
      "/home/woody/caph/mppi086h/software/anaconda3/envs/gammapy-0.20/lib/python3.9/site-packages/astropy/units/quantity.py:613: RuntimeWarning: invalid value encountered in true_divide\n",
      "  result = super().__array_ufunc__(function, method, *arrays, **kwargs)\n"
     ]
    },
    {
     "data": {
      "text/plain": [
       "(0.2, 0.8)"
      ]
     },
     "execution_count": 62,
     "metadata": {},
     "output_type": "execute_result"
    },
    {
     "data": {
      "image/png": "[encoded data removed]",
      "text/plain": [
       "<Figure size 432x288 with 1 Axes>"
      ]
     },
     "metadata": {
      "needs_background": "light"
     },
     "output_type": "display_data"
    }
   ],
   "source": [
    "plt.semilogx(edisp_kernel.axes['energy_true'].center, ev.acceptance[0].sum(axis=(1,2)), label='normal')\n",
    "plt.semilogx(edisp_kernel.axes['energy_true'].center, ev.acceptance[1].sum(axis=(1,2)), label='shifted')\n",
    "ev_kernel=(ev.irf_cube[321]/ev.exposure.quantity).sum(axis=(1,2))\n",
    "plt.semilogx(edisp_kernel.axes['energy_true'].center, np.nan_to_num(ev_kernel)*1e4, label='ev_kernel')\n",
    "plt.legend()\n",
    "plt.ylim(0,1000)\n",
    "plt.xlim(0.2,0.8)"
   ]
  },
  {
   "cell_type": "code",
   "execution_count": 63,
   "metadata": {},
   "outputs": [
    {
     "data": {
      "text/plain": [
       "array([   0.        ,    0.        ,    0.        ,    0.        ,\n",
       "          0.        ,    0.        ,    0.        ,    0.        ,\n",
       "          0.        ,    0.        ,    0.        ,   47.36535337,\n",
       "        284.56631513,  881.30142596, 2192.22523282, 4297.81370047,\n",
       "       5829.86209645, 6415.6648338 , 6614.41666649, 6782.61862524,\n",
       "       6943.58793144, 7001.89990089, 7061.64575538, 6996.57905631,\n",
       "       6999.67878895, 6967.91461506, 7020.2140635 , 6940.39887993,\n",
       "       6860.30952571, 6940.61805358, 6925.41245624, 6912.16189301,\n",
       "       7029.8070573 , 7071.16188102, 7037.69901313, 7049.74537233,\n",
       "       7107.45027028, 7025.03321737, 7189.78248081, 7207.39087632,\n",
       "       7043.17956616, 7109.69872402, 7210.79649108, 7248.9767315 ,\n",
       "       7220.62006011, 7709.24706905, 7939.13358913, 1224.47459726])"
      ]
     },
     "execution_count": 63,
     "metadata": {},
     "output_type": "execute_result"
    }
   ],
   "source": [
    "ev.acceptance[1].sum(axis=(1,2))"
   ]
  },
  {
   "cell_type": "code",
   "execution_count": 64,
   "metadata": {},
   "outputs": [
    {
     "data": {
      "text/plain": [
       "<matplotlib.legend.Legend at 0x7f2a709a3040>"
      ]
     },
     "execution_count": 64,
     "metadata": {},
     "output_type": "execute_result"
    },
    {
     "data": {
      "image/png": "[encoded data removed]",
      "text/plain": [
       "<Figure size 432x288 with 1 Axes>"
      ]
     },
     "metadata": {
      "needs_background": "light"
     },
     "output_type": "display_data"
    }
   ],
   "source": [
    "plt.semilogx(edisp_kernel.axes['energy'].center, edisp_kernel.pdf_matrix[15,:], label='normal')\n",
    "plt.semilogx(edisp_kernel2.axes['energy'].center, edisp_kernel2.pdf_matrix[15,:], label='shifted')\n",
    "plt.legend()"
   ]
  },
  {
   "cell_type": "code",
   "execution_count": 65,
   "metadata": {},
   "outputs": [],
   "source": [
    "# get the index of the model\n",
    "alpha = -test.model.parameters.value[test._index_idx]\n",
    "if alpha == -1:\n",
    "    # center of gravity is equal to log bin center\n",
    "    result2= 1\n",
    "# compute center of gravity for bins        \n",
    "exp=alpha+1\n",
    "result = np.power(0.5 + 0.5*test._energy_binsz**exp, 1/exp)\n",
    "result /= np.sqrt(binsz)  # as fraction of the log bin center\n",
    "result2 = result**alpha"
   ]
  },
  {
   "cell_type": "code",
   "execution_count": 66,
   "metadata": {},
   "outputs": [
    {
     "data": {
      "text/plain": [
       "(0.8041758911655564, 0.930572040929699)"
      ]
     },
     "execution_count": 66,
     "metadata": {},
     "output_type": "execute_result"
    }
   ],
   "source": [
    "result, 1/np.sqrt(test._energy_binsz)"
   ]
  },
  {
   "cell_type": "code",
   "execution_count": 67,
   "metadata": {},
   "outputs": [
    {
     "data": {
      "text/plain": [
       "-0.8"
      ]
     },
     "execution_count": 67,
     "metadata": {},
     "output_type": "execute_result"
    }
   ],
   "source": [
    "alpha+1"
   ]
  },
  {
   "cell_type": "code",
   "execution_count": 68,
   "metadata": {},
   "outputs": [
    {
     "data": {
      "text/plain": [
       "-1.8"
      ]
     },
     "execution_count": 68,
     "metadata": {},
     "output_type": "execute_result"
    }
   ],
   "source": [
    "alpha"
   ]
  },
  {
   "cell_type": "code",
   "execution_count": 69,
   "metadata": {},
   "outputs": [
    {
     "data": {
      "text/plain": [
       "1.4803626248016701"
      ]
     },
     "execution_count": 69,
     "metadata": {},
     "output_type": "execute_result"
    }
   ],
   "source": [
    "result2"
   ]
  },
  {
   "cell_type": "code",
   "execution_count": 70,
   "metadata": {},
   "outputs": [
    {
     "data": {
      "text/plain": [
       "1.4803626248016701"
      ]
     },
     "execution_count": 70,
     "metadata": {},
     "output_type": "execute_result"
    }
   ],
   "source": [
    "test._energy_shift"
   ]
  },
  {
   "cell_type": "code",
   "execution_count": 89,
   "metadata": {},
   "outputs": [],
   "source": [
    "### fit both datasets\n",
    "fit = Fit(optimize_opts={\"print_level\": 0})\n",
    "result = fit.run([dataset])\n",
    "result2 = fit.run([eds])"
   ]
  },
  {
   "cell_type": "code",
   "execution_count": 90,
   "metadata": {},
   "outputs": [
    {
     "data": {
      "text/html": [
       "<div><i>Table length=4</i>\n",
       "<table id=\"table139790123278000\" class=\"table-striped table-bordered table-condensed\">\n",
       "<thead><tr><th>type</th><th>name</th><th>value</th><th>unit</th><th>error</th><th>min</th><th>max</th><th>frozen</th><th>is_norm</th><th>link</th></tr></thead>\n",
       "<thead><tr><th>str8</th><th>str9</th><th>float64</th><th>str14</th><th>float64</th><th>float64</th><th>float64</th><th>bool</th><th>bool</th><th>str1</th></tr></thead>\n",
       "<tr><td>spectral</td><td>norm</td><td>1.0044e+00</td><td></td><td>2.922e-02</td><td>nan</td><td>nan</td><td>False</td><td>True</td><td></td></tr>\n",
       "<tr><td>spectral</td><td>amplitude</td><td>9.3754e-12</td><td>cm-2 s-1 TeV-1</td><td>4.142e-12</td><td>0.000e+00</td><td>nan</td><td>False</td><td>True</td><td></td></tr>\n",
       "<tr><td>spectral</td><td>alpha</td><td>3.8295e+00</td><td></td><td>1.640e+00</td><td>0.000e+00</td><td>nan</td><td>False</td><td>False</td><td></td></tr>\n",
       "<tr><td>spectral</td><td>beta</td><td>3.0241e-01</td><td></td><td>1.515e+00</td><td>0.000e+00</td><td>nan</td><td>False</td><td>False</td><td></td></tr>\n",
       "</table></div>"
      ],
      "text/plain": [
       "<Table length=4>\n",
       "  type      name     value         unit        error      min      max   frozen is_norm link\n",
       "  str8      str9    float64       str14       float64   float64  float64  bool    bool  str1\n",
       "-------- --------- ---------- -------------- --------- --------- ------- ------ ------- ----\n",
       "spectral      norm 1.0044e+00                2.922e-02       nan     nan  False    True     \n",
       "spectral amplitude 9.3754e-12 cm-2 s-1 TeV-1 4.142e-12 0.000e+00     nan  False    True     \n",
       "spectral     alpha 3.8295e+00                1.640e+00 0.000e+00     nan  False   False     \n",
       "spectral      beta 3.0241e-01                1.515e+00 0.000e+00     nan  False   False     "
      ]
     },
     "execution_count": 90,
     "metadata": {},
     "output_type": "execute_result"
    }
   ],
   "source": [
    "result.parameters.free_parameters.to_table()"
   ]
  },
  {
   "cell_type": "code",
   "execution_count": 91,
   "metadata": {},
   "outputs": [
    {
     "data": {
      "text/html": [
       "<div><i>Table length=4</i>\n",
       "<table id=\"table139790474997568\" class=\"table-striped table-bordered table-condensed\">\n",
       "<thead><tr><th>type</th><th>name</th><th>value</th><th>unit</th><th>error</th><th>min</th><th>max</th><th>frozen</th><th>is_norm</th><th>link</th></tr></thead>\n",
       "<thead><tr><th>str8</th><th>str9</th><th>float64</th><th>str14</th><th>float64</th><th>float64</th><th>float64</th><th>bool</th><th>bool</th><th>str1</th></tr></thead>\n",
       "<tr><td>spectral</td><td>norm</td><td>5.3615e-01</td><td></td><td>1.850e-02</td><td>nan</td><td>nan</td><td>False</td><td>True</td><td></td></tr>\n",
       "<tr><td>spectral</td><td>amplitude</td><td>1.1324e-22</td><td>cm-2 s-1 TeV-1</td><td>4.041e-23</td><td>0.000e+00</td><td>nan</td><td>False</td><td>True</td><td></td></tr>\n",
       "<tr><td>spectral</td><td>alpha</td><td>5.1174e+01</td><td></td><td>2.749e-01</td><td>0.000e+00</td><td>nan</td><td>False</td><td>False</td><td></td></tr>\n",
       "<tr><td>spectral</td><td>beta</td><td>9.9790e-01</td><td></td><td>5.708e-02</td><td>0.000e+00</td><td>nan</td><td>False</td><td>False</td><td></td></tr>\n",
       "</table></div>"
      ],
      "text/plain": [
       "<Table length=4>\n",
       "  type      name     value         unit        error      min      max   frozen is_norm link\n",
       "  str8      str9    float64       str14       float64   float64  float64  bool    bool  str1\n",
       "-------- --------- ---------- -------------- --------- --------- ------- ------ ------- ----\n",
       "spectral      norm 5.3615e-01                1.850e-02       nan     nan  False    True     \n",
       "spectral amplitude 1.1324e-22 cm-2 s-1 TeV-1 4.041e-23 0.000e+00     nan  False    True     \n",
       "spectral     alpha 5.1174e+01                2.749e-01 0.000e+00     nan  False   False     \n",
       "spectral      beta 9.9790e-01                5.708e-02 0.000e+00     nan  False   False     "
      ]
     },
     "execution_count": 91,
     "metadata": {},
     "output_type": "execute_result"
    }
   ],
   "source": [
    "result2.parameters.free_parameters.to_table()"
   ]
  },
  {
   "cell_type": "code",
   "execution_count": 102,
   "metadata": {},
   "outputs": [
    {
     "name": "stdout",
     "output_type": "stream",
     "text": [
      "CPU times: user 3min 13s, sys: 2min 18s, total: 5min 31s\n",
      "Wall time: 5min 31s\n"
     ]
    }
   ],
   "source": [
    "%%time\n",
    "stat_alpha = fit.stat_profile([eds], eds.models.parameters['alpha'], reoptimize = True)"
   ]
  },
  {
   "cell_type": "code",
   "execution_count": 104,
   "metadata": {},
   "outputs": [
    {
     "data": {
      "text/plain": [
       "[<matplotlib.lines.Line2D at 0x7f236c6d3c40>]"
      ]
     },
     "execution_count": 104,
     "metadata": {},
     "output_type": "execute_result"
    },
    {
     "data": {
      "image/png": "[encoded data removed]",
      "text/plain": [
       "<Figure size 432x288 with 1 Axes>"
      ]
     },
     "metadata": {
      "needs_background": "light"
     },
     "output_type": "display_data"
    }
   ],
   "source": [
    "plt.plot(stat_alpha['alpha_scan'], stat_alpha['stat_scan'])"
   ]
  },
  {
   "cell_type": "code",
   "execution_count": 92,
   "metadata": {},
   "outputs": [
    {
     "data": {
      "text/plain": [
       "10358.194927542325"
      ]
     },
     "execution_count": 92,
     "metadata": {},
     "output_type": "execute_result"
    }
   ],
   "source": [
    "result2.total_stat"
   ]
  },
  {
   "cell_type": "code",
   "execution_count": 23,
   "metadata": {},
   "outputs": [],
   "source": [
    "ev = eds._evaluators['crab_model_gauss']"
   ]
  },
  {
   "cell_type": "code",
   "execution_count": 24,
   "metadata": {},
   "outputs": [],
   "source": [
    "resp, m, s = ev.compute_response()"
   ]
  },
  {
   "cell_type": "code",
   "execution_count": 25,
   "metadata": {},
   "outputs": [
    {
     "data": {
      "text/plain": [
       "321"
      ]
     },
     "execution_count": 25,
     "metadata": {},
     "output_type": "execute_result"
    }
   ],
   "source": [
    "resp.argmax()"
   ]
  },
  {
   "cell_type": "code",
   "execution_count": 26,
   "metadata": {},
   "outputs": [
    {
     "data": {
      "text/plain": [
       "0.01844985630165569"
      ]
     },
     "execution_count": 26,
     "metadata": {},
     "output_type": "execute_result"
    }
   ],
   "source": [
    "resp[321]"
   ]
  },
  {
   "cell_type": "code",
   "execution_count": 27,
   "metadata": {},
   "outputs": [],
   "source": [
    "events_safe = eds.events.select_row_subset(eds.mask_safe)"
   ]
  },
  {
   "cell_type": "code",
   "execution_count": 28,
   "metadata": {},
   "outputs": [
    {
     "data": {
      "text/latex": [
       "$1.0343251 \\; \\mathrm{TeV}$"
      ],
      "text/plain": [
       "<Quantity 1.03432512 TeV>"
      ]
     },
     "execution_count": 28,
     "metadata": {},
     "output_type": "execute_result"
    }
   ],
   "source": [
    "events_safe.energy[m][321]"
   ]
  },
  {
   "cell_type": "code",
   "execution_count": 190,
   "metadata": {},
   "outputs": [
    {
     "data": {
      "text/plain": [
       "[<matplotlib.lines.Line2D at 0x7fd6e82a1490>]"
      ]
     },
     "execution_count": 190,
     "metadata": {},
     "output_type": "execute_result"
    },
    {
     "data": {
      "image/png": "[encoded data removed]",
      "text/plain": [
       "<Figure size 900x600 with 1 Axes>"
      ]
     },
     "metadata": {
      "needs_background": "light"
     },
     "output_type": "display_data"
    }
   ],
   "source": [
    "plt.figure(dpi=150)\n",
    "plt.loglog(events_safe.energy[m],resp, '.')\n",
    "# plt.ylim(1e-3,1e2)\n",
    "# plt.xlim(0.9,2)"
   ]
  },
  {
   "cell_type": "code",
   "execution_count": 29,
   "metadata": {},
   "outputs": [
    {
     "data": {
      "text/plain": [
       "15.501018671416094"
      ]
     },
     "execution_count": 29,
     "metadata": {},
     "output_type": "execute_result"
    }
   ],
   "source": [
    "s"
   ]
  },
  {
   "cell_type": "code",
   "execution_count": 30,
   "metadata": {},
   "outputs": [],
   "source": [
    "npred=ev.model.integrate_geom(ev.exposure.geom)"
   ]
  },
  {
   "cell_type": "code",
   "execution_count": 31,
   "metadata": {},
   "outputs": [
    {
     "data": {
      "text/plain": [
       "array([6.80490081e-13, 6.37452370e-13, 5.87337905e-13, 5.32283086e-13,\n",
       "       4.74473157e-13, 4.16001573e-13, 3.58750603e-13, 3.04301887e-13,\n",
       "       2.53881460e-13, 2.08339521e-13, 1.68161536e-13, 1.33504529e-13,\n",
       "       1.04250861e-13, 8.00714373e-14, 6.04908812e-14, 4.49486350e-14,\n",
       "       3.28516668e-14, 2.36163410e-14, 1.66986786e-14, 1.16135740e-14,\n",
       "       7.94445223e-15, 5.34535191e-15, 3.53755268e-15, 2.30273411e-15,\n",
       "       1.47434434e-15, 9.28470930e-16, 5.75111346e-16, 3.50388461e-16,\n",
       "       2.09972239e-16, 1.23762246e-16, 7.17511218e-17, 4.09150804e-17,\n",
       "       2.29483948e-17, 1.26600494e-17, 6.86961913e-18, 3.66643578e-18])"
      ]
     },
     "execution_count": 31,
     "metadata": {},
     "output_type": "execute_result"
    }
   ],
   "source": [
    "npred.data.sum(axis=(1,2))#*eds.acceptance.data[:,100,100]"
   ]
  },
  {
   "cell_type": "code",
   "execution_count": 32,
   "metadata": {},
   "outputs": [
    {
     "data": {
      "text/plain": [
       "array([0.01898401, 0.07519442, 0.19950012, 0.4593622 , 0.73646951,\n",
       "       0.88344274, 0.92726159, 0.95109036, 0.97757456, 0.99147037,\n",
       "       1.00367503, 1.00030489, 0.99407912, 0.9998076 , 0.99174992,\n",
       "       1.00072366, 0.98097052, 0.98094091, 0.98744411, 0.98069486,\n",
       "       0.98945154, 1.00650408, 1.00003287, 0.99439592, 1.01303964,\n",
       "       0.99569455, 1.00671248, 1.02196685, 1.00574778, 1.00084008,\n",
       "       1.01087193, 1.01588588, 1.03757791, 1.03870412, 1.16893699,\n",
       "       0.72275977])"
      ]
     },
     "execution_count": 32,
     "metadata": {},
     "output_type": "execute_result"
    }
   ],
   "source": [
    "eds.acceptance.data.sum(axis=(1,2))/17499#[:,100,100]"
   ]
  },
  {
   "cell_type": "code",
   "execution_count": 33,
   "metadata": {},
   "outputs": [
    {
     "data": {
      "text/latex": [
       "$[0.024073028,~0.034652196,~0.064700471,~0.1314558,~0.19161038,~0.13944384,~0.057441891,~0.031987531,~0.020519798,~0.011995747,~0.0069260887,~0.0041728893,~0.0020374554,~0.00088698933,~0.00019938879,~1.3104687 \\times 10^{-5},~0,~0,~0,~0,~0,~0,~0,~0,~0,~0,~0,~0,~0,~0,~0,~0,~0,~0,~0,~0] \\; \\mathrm{}$"
      ],
      "text/plain": [
       "<Quantity [2.40730278e-02, 3.46521964e-02, 6.47004712e-02, 1.31455797e-01,\n",
       "           1.91610381e-01, 1.39443842e-01, 5.74418914e-02, 3.19875305e-02,\n",
       "           2.05197976e-02, 1.19957466e-02, 6.92608872e-03, 4.17288933e-03,\n",
       "           2.03745541e-03, 8.86989333e-04, 1.99388794e-04, 1.31046868e-05,\n",
       "           0.00000000e+00, 0.00000000e+00, 0.00000000e+00, 0.00000000e+00,\n",
       "           0.00000000e+00, 0.00000000e+00, 0.00000000e+00, 0.00000000e+00,\n",
       "           0.00000000e+00, 0.00000000e+00, 0.00000000e+00, 0.00000000e+00,\n",
       "           0.00000000e+00, 0.00000000e+00, 0.00000000e+00, 0.00000000e+00,\n",
       "           0.00000000e+00, 0.00000000e+00, 0.00000000e+00, 0.00000000e+00]>"
      ]
     },
     "execution_count": 33,
     "metadata": {},
     "output_type": "execute_result"
    }
   ],
   "source": [
    "(ev.irf_cube[321]/ev.exposure.quantity).sum(axis=(1,2))"
   ]
  },
  {
   "cell_type": "code",
   "execution_count": 102,
   "metadata": {},
   "outputs": [
    {
     "data": {
      "text/plain": [
       "array([False, False, False, False, False, False, False, False, False,\n",
       "       False, False, False, False, False, False, False,  True,  True,\n",
       "        True,  True,  True,  True,  True,  True,  True,  True,  True,\n",
       "        True,  True,  True,  True,  True,  True,  True,  True,  True,\n",
       "        True,  True,  True,  True,  True,  True,  True,  True,  True,\n",
       "        True,  True, False])"
      ]
     },
     "execution_count": 102,
     "metadata": {},
     "output_type": "execute_result"
    }
   ],
   "source": [
    "eds.ds.mask_safe.data[:,100,100]"
   ]
  },
  {
   "cell_type": "code",
   "execution_count": 103,
   "metadata": {},
   "outputs": [
    {
     "data": {
      "text/latex": [
       "$[1.0746078,~1.2409378,~1.4330126,~1.6548171,~1.910953,~2.2067341,~2.5482967,~2.9427272,~3.3982083,~3.9241898,~4.5315836,~5.2329911,~6.0429639,~6.9783058,~8.0584219,~9.3057204,~10.746078,~12.409378,~14.330126,~16.548171,~19.10953,~22.067341,~25.482967,~29.427272,~33.982083,~39.241898,~45.315836,~52.329911,~60.429639,~69.783058,~80.584219] \\; \\mathrm{TeV}$"
      ],
      "text/plain": [
       "<Quantity [ 1.07460783,  1.24093776,  1.43301257,  1.6548171 ,  1.91095297,\n",
       "            2.20673407,  2.54829675,  2.94272718,  3.39820833,  3.92418976,\n",
       "            4.53158364,  5.23299115,  6.0429639 ,  6.97830585,  8.05842188,\n",
       "            9.30572041, 10.74607828, 12.40937761, 14.3301257 , 16.548171  ,\n",
       "           19.10952975, 22.06734069, 25.48296748, 29.42727176, 33.98208329,\n",
       "           39.24189758, 45.31583638, 52.32991147, 60.42963902, 69.78305849,\n",
       "           80.58421878] TeV>"
      ]
     },
     "execution_count": 103,
     "metadata": {},
     "output_type": "execute_result"
    }
   ],
   "source": [
    "ev.exposure.geom.axes[0].center[eds.ds.mask_safe.data[:,100,100]]"
   ]
  }
 ],
 "metadata": {
  "kernelspec": {
   "display_name": "Python [conda env:gammapy-0.20]",
   "language": "python",
   "name": "conda-env-gammapy-0.20-py"
  },
  "language_info": {
   "codemirror_mode": {
    "name": "ipython",
    "version": 3
   },
   "file_extension": ".py",
   "mimetype": "text/x-python",
   "name": "python",
   "nbconvert_exporter": "python",
   "pygments_lexer": "ipython3",
   "version": "3.9.12"
  }
 },
 "nbformat": 4,
 "nbformat_minor": 2
}
