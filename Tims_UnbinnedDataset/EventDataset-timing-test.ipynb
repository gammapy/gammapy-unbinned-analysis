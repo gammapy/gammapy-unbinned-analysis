{
 "cells": [
  {
   "cell_type": "code",
   "execution_count": 6,
   "metadata": {
    "ExecuteTime": {
     "end_time": "2023-03-02T15:46:27.250248Z",
     "start_time": "2023-03-02T15:46:27.246778Z"
    },
    "code_folding": []
   },
   "outputs": [
    {
     "name": "stdout",
     "output_type": "stream",
     "text": [
      "1.0\n"
     ]
    }
   ],
   "source": [
    "import gammapy\n",
    "print(gammapy.__version__)\n",
    "\n",
    "import matplotlib.pyplot as plt\n",
    "import numpy as np\n",
    "import astropy.units as u\n",
    "from astropy.coordinates import SkyCoord\n",
    "from astropy.table import Table\n",
    "from gammapy.data import DataStore, Observation\n",
    "from gammapy.datasets import MapDataset, MapDatasetEventSampler\n",
    "from gammapy.maps import MapAxis, WcsGeom, Map\n",
    "from gammapy.makers import MapDatasetMaker,SafeMaskMaker\n",
    "from gammapy.irf import EDispKernel\n",
    "from gammapy.makers.utils import make_psf_map\n",
    "from gammapy.modeling.models import (\n",
    "    Model,\n",
    "    Models,\n",
    "    SkyModel,\n",
    "    PowerLawSpectralModel,\n",
    "    PowerLawNormSpectralModel,\n",
    "    PointSpatialModel,\n",
    "    TemplateSpatialModel,\n",
    "    ExpDecayTemporalModel,\n",
    "    LightCurveTemplateTemporalModel,\n",
    "    FoVBackgroundModel,\n",
    "    GaussianSpatialModel,\n",
    "    LogParabolaSpectralModel,\n",
    "    DatasetModels\n",
    ")\n",
    "from gammapy.modeling import Fit"
   ]
  },
  {
   "cell_type": "code",
   "execution_count": 7,
   "metadata": {
    "ExecuteTime": {
     "end_time": "2023-03-02T15:46:28.165987Z",
     "start_time": "2023-03-02T15:46:28.163449Z"
    }
   },
   "outputs": [],
   "source": [
    "import os\n",
    "os.chdir('../EventDataset/')\n",
    "from EventDatasetMaker import EventDatasetMaker\n",
    "from EventDataset import EventDataset"
   ]
  },
  {
   "cell_type": "code",
   "execution_count": 8,
   "metadata": {
    "ExecuteTime": {
     "end_time": "2023-03-02T15:46:29.867817Z",
     "start_time": "2023-03-02T15:46:29.676065Z"
    }
   },
   "outputs": [],
   "source": [
    "%load_ext autoreload\n",
    "%autoreload 2"
   ]
  },
  {
   "cell_type": "markdown",
   "metadata": {},
   "source": [
    "## Set up a binned and unbinned Dataset"
   ]
  },
  {
   "cell_type": "code",
   "execution_count": 9,
   "metadata": {
    "ExecuteTime": {
     "end_time": "2023-03-02T15:46:30.273973Z",
     "start_time": "2023-03-02T15:46:30.180170Z"
    }
   },
   "outputs": [],
   "source": [
    "data_store = DataStore.from_dir(\"$GAMMAPY_DATA/hess-dl3-dr1\")\n",
    "obs_id = [23523] # just one observation \n",
    "obs1 = data_store.get_observations(obs_id)[0]"
   ]
  },
  {
   "cell_type": "code",
   "execution_count": 6,
   "metadata": {
    "ExecuteTime": {
     "end_time": "2023-02-20T21:58:17.797081Z",
     "start_time": "2023-02-20T21:58:17.186357Z"
    }
   },
   "outputs": [],
   "source": [
    "## define the geometry\n",
    "nebins = 20\n",
    "binsz = 0.02*u.deg\n",
    "\n",
    "crab_pos = SkyCoord(184.557, -5.784, unit='deg', frame='galactic') \n",
    "obs_pos=obs1.pointing_radec\n",
    "ebins = np.geomspace(1,100,nebins)\n",
    "energy_axis = MapAxis.from_edges(\n",
    "    ebins[:-1], unit=\"TeV\", name=\"energy\", interp=\"log\"  \n",
    ")\n",
    "energy_axis_true = MapAxis.from_edges(\n",
    "    ebins, unit=\"TeV\", name=\"energy_true\", interp=\"log\"  \n",
    ")\n",
    "migra_axis = MapAxis.from_bounds(\n",
    "    0.2, 5, nbin=160, node_type=\"edges\", name=\"migra\"\n",
    ")\n",
    "geom = WcsGeom.create(\n",
    "    skydir=obs_pos,\n",
    "    binsz=binsz,\n",
    "    width=(3.5, 3.5),\n",
    "    frame=\"icrs\",\n",
    "    proj=\"CAR\",\n",
    "    axes=[energy_axis],\n",
    ")"
   ]
  },
  {
   "cell_type": "code",
   "execution_count": 7,
   "metadata": {
    "ExecuteTime": {
     "end_time": "2023-02-20T21:58:24.668246Z",
     "start_time": "2023-02-20T21:58:19.217268Z"
    }
   },
   "outputs": [
    {
     "name": "stdout",
     "output_type": "stream",
     "text": [
      "CPU times: user 978 ms, sys: 105 ms, total: 1.08 s\n",
      "Wall time: 5.43 s\n"
     ]
    }
   ],
   "source": [
    "%%time\n",
    "maker = MapDatasetMaker(selection=[\"counts\", 'exposure','edisp', 'background', 'psf'])\n",
    "maker_safe_mask = SafeMaskMaker(methods=['offset-max'], offset_max='1.5 deg', bias_percent=8)\n",
    "\n",
    "reference = MapDataset.create(geom=geom, energy_axis_true=energy_axis_true, migra_axis=migra_axis)\n",
    "\n",
    "dataset = maker.run(reference, obs1)\n",
    "dataset = maker_safe_mask.run(dataset, obs1)\n",
    "\n",
    "bkg_model = FoVBackgroundModel(dataset_name=dataset.name)\n",
    "dataset.models=bkg_model"
   ]
  },
  {
   "cell_type": "code",
   "execution_count": 7,
   "metadata": {},
   "outputs": [
    {
     "name": "stdout",
     "output_type": "stream",
     "text": [
      "CPU times: user 800 ms, sys: 35 ms, total: 835 ms\n",
      "Wall time: 1.01 s\n"
     ]
    }
   ],
   "source": [
    "%%time\n",
    "test_maker = EventDatasetMaker(safe_mask_maker=maker_safe_mask, selection=None)\n",
    "eds = test_maker.run(reference, obs1)\n",
    "\n",
    "bkg_model2 = FoVBackgroundModel(dataset_name=eds.name)\n",
    "eds.models=bkg_model2"
   ]
  },
  {
   "cell_type": "code",
   "execution_count": 29,
   "metadata": {},
   "outputs": [],
   "source": [
    "model_gauss = SkyModel(\n",
    "    spatial_model=PointSpatialModel(lon_0=\"184.557 deg\", lat_0=\"-5.784 deg\", frame = 'galactic'),\n",
    "    spectral_model=LogParabolaSpectralModel(amplitude='3.5e-11 cm-2 s-1 TeV-1', \n",
    "                                          reference='1 TeV', \n",
    "                                          alpha=1.8, \n",
    "                                          beta=0.4\n",
    "                                         ),\n",
    "    name='crab_model'\n",
    "    )\n",
    "crab_ampl = model_gauss.spectral_model.amplitude.value\n",
    "model_gauss.spatial_model.parameters.freeze_all()\n",
    "dataset.models = [bkg_model,model_gauss]\n",
    "eds.models = [bkg_model2,model_gauss.copy(name=\"crab_model\")]\n",
    "\n",
    "# to make it fair set the same binsz\n",
    "eds.evaluators['crab_model'].spatialbs = binsz"
   ]
  },
  {
   "cell_type": "code",
   "execution_count": 9,
   "metadata": {},
   "outputs": [],
   "source": [
    "## need to monkey patch the paramter_norm_only_changed methods \n",
    "## because otherwise a simple rescaling would happen\n",
    "@property\n",
    "def pnoc_patch(self):\n",
    "    \"\"\"Only norm parameter changed\"\"\"\n",
    "    norm_only_changed = False\n",
    "    return norm_only_changed\n",
    "\n",
    "\n",
    "# disable caching\n",
    "ev_ds=dataset.evaluators['crab_model']\n",
    "ev_eds=eds.evaluators['crab_model']\n",
    "ev_ds.use_cache = False\n",
    "ev_eds.use_cache = False\n",
    "# at the moment parameter_norm_only_changed return False always\n",
    "# if that is fixed we would need to monkey patch it\n",
    "# this is hard because it is @property decorated so better patch _compute_npred()"
   ]
  },
  {
   "cell_type": "code",
   "execution_count": 10,
   "metadata": {},
   "outputs": [
    {
     "name": "stderr",
     "output_type": "stream",
     "text": [
      "WARNING: AstropyDeprecationWarning: The truth value of a Quantity is ambiguous. In the future this will raise a ValueError. [astropy.units.quantity]\n"
     ]
    },
    {
     "name": "stdout",
     "output_type": "stream",
     "text": [
      " "
     ]
    }
   ],
   "source": [
    "%prun -s cumtime eds.stat_sum()"
   ]
  },
  {
   "cell_type": "code",
   "execution_count": 11,
   "metadata": {},
   "outputs": [
    {
     "data": {
      "text/plain": [
       "WcsGeom\n",
       "\n",
       "\taxes       : ['lon', 'lat', 'energy_true']\n",
       "\tshape      : (10, 10, 19)\n",
       "\tndim       : 3\n",
       "\tframe      : icrs\n",
       "\tprojection : CAR\n",
       "\tcenter     : 83.6 deg, 22.0 deg\n",
       "\twidth      : 0.2 deg x 0.2 deg\n",
       "\twcs ref    : 83.6 deg, 21.5 deg"
      ]
     },
     "execution_count": 11,
     "metadata": {},
     "output_type": "execute_result"
    }
   ],
   "source": [
    "ev_eds.geom"
   ]
  },
  {
   "cell_type": "markdown",
   "metadata": {},
   "source": [
    "## Timing"
   ]
  },
  {
   "cell_type": "code",
   "execution_count": 12,
   "metadata": {},
   "outputs": [],
   "source": [
    "sampler = MapDatasetEventSampler(random_state=0)"
   ]
  },
  {
   "cell_type": "code",
   "execution_count": 13,
   "metadata": {},
   "outputs": [
    {
     "data": {
      "text/latex": [
       "$1687 \\; \\mathrm{s}$"
      ],
      "text/plain": [
       "<Quantity 1687. s>"
      ]
     },
     "execution_count": 13,
     "metadata": {},
     "output_type": "execute_result"
    }
   ],
   "source": [
    "obs_time = obs1.observation_time_duration\n",
    "exposure_obs = dataset.exposure.copy()\n",
    "obs_time"
   ]
  },
  {
   "cell_type": "code",
   "execution_count": 31,
   "metadata": {},
   "outputs": [
    {
     "name": "stderr",
     "output_type": "stream",
     "text": [
      "WARNING: AstropyDeprecationWarning: The truth value of a Quantity is ambiguous. In the future this will raise a ValueError. [astropy.units.quantity]\n"
     ]
    },
    {
     "name": "stdout",
     "output_type": "stream",
     "text": [
      "-29585.861503585384\n",
      "15701.165355701321\n",
      "7.95 ms ± 48.8 µs per loop (mean ± std. dev. of 3 runs, 10 loops each)\n",
      "1.74 ms ± 26.2 µs per loop (mean ± std. dev. of 3 runs, 10 loops each)\n"
     ]
    },
    {
     "name": "stderr",
     "output_type": "stream",
     "text": [
      "WARNING: AstropyDeprecationWarning: The truth value of a Quantity is ambiguous. In the future this will raise a ValueError. [astropy.units.quantity]\n"
     ]
    },
    {
     "name": "stdout",
     "output_type": "stream",
     "text": [
      "-56512.54559141473\n",
      "25765.297184019742\n",
      "7.98 ms ± 64 µs per loop (mean ± std. dev. of 3 runs, 10 loops each)\n",
      "2.16 ms ± 39.6 µs per loop (mean ± std. dev. of 3 runs, 10 loops each)\n"
     ]
    },
    {
     "name": "stderr",
     "output_type": "stream",
     "text": [
      "WARNING: AstropyDeprecationWarning: The truth value of a Quantity is ambiguous. In the future this will raise a ValueError. [astropy.units.quantity]\n"
     ]
    },
    {
     "name": "stdout",
     "output_type": "stream",
     "text": [
      "-120977.85741466044\n",
      "45824.88972185306\n",
      "7.96 ms ± 66 µs per loop (mean ± std. dev. of 3 runs, 10 loops each)\n",
      "3.11 ms ± 50.3 µs per loop (mean ± std. dev. of 3 runs, 10 loops each)\n"
     ]
    },
    {
     "name": "stderr",
     "output_type": "stream",
     "text": [
      "WARNING: AstropyDeprecationWarning: The truth value of a Quantity is ambiguous. In the future this will raise a ValueError. [astropy.units.quantity]\n"
     ]
    },
    {
     "name": "stdout",
     "output_type": "stream",
     "text": [
      "-239510.96042926714\n",
      "76487.97636706999\n",
      "7.97 ms ± 42.7 µs per loop (mean ± std. dev. of 3 runs, 10 loops each)\n",
      "4.97 ms ± 51.6 µs per loop (mean ± std. dev. of 3 runs, 10 loops each)\n"
     ]
    },
    {
     "name": "stderr",
     "output_type": "stream",
     "text": [
      "WARNING: AstropyDeprecationWarning: The truth value of a Quantity is ambiguous. In the future this will raise a ValueError. [astropy.units.quantity]\n"
     ]
    },
    {
     "name": "stdout",
     "output_type": "stream",
     "text": [
      "-475497.1036639713\n",
      "123385.96460928627\n",
      "8.01 ms ± 48.5 µs per loop (mean ± std. dev. of 3 runs, 10 loops each)\n",
      "8.61 ms ± 67.7 µs per loop (mean ± std. dev. of 3 runs, 10 loops each)\n"
     ]
    },
    {
     "name": "stderr",
     "output_type": "stream",
     "text": [
      "WARNING: AstropyDeprecationWarning: The truth value of a Quantity is ambiguous. In the future this will raise a ValueError. [astropy.units.quantity]\n"
     ]
    },
    {
     "name": "stdout",
     "output_type": "stream",
     "text": [
      "-958003.5255296624\n",
      "191020.4080690849\n",
      "8.17 ms ± 98 µs per loop (mean ± std. dev. of 3 runs, 10 loops each)\n",
      "16.2 ms ± 148 µs per loop (mean ± std. dev. of 3 runs, 10 loops each)\n"
     ]
    },
    {
     "name": "stderr",
     "output_type": "stream",
     "text": [
      "WARNING: AstropyDeprecationWarning: The truth value of a Quantity is ambiguous. In the future this will raise a ValueError. [astropy.units.quantity]\n"
     ]
    },
    {
     "name": "stdout",
     "output_type": "stream",
     "text": [
      "-30482.545322988793\n",
      "15462.523984140023\n",
      "7.92 ms ± 34 µs per loop (mean ± std. dev. of 3 runs, 10 loops each)\n",
      "1.77 ms ± 26.6 µs per loop (mean ± std. dev. of 3 runs, 10 loops each)\n"
     ]
    },
    {
     "name": "stderr",
     "output_type": "stream",
     "text": [
      "WARNING: AstropyDeprecationWarning: The truth value of a Quantity is ambiguous. In the future this will raise a ValueError. [astropy.units.quantity]\n"
     ]
    },
    {
     "name": "stdout",
     "output_type": "stream",
     "text": [
      "-64735.396523195624\n",
      "27609.413002417554\n",
      "7.99 ms ± 34.6 µs per loop (mean ± std. dev. of 3 runs, 10 loops each)\n",
      "2.23 ms ± 27.5 µs per loop (mean ± std. dev. of 3 runs, 10 loops each)\n"
     ]
    },
    {
     "name": "stderr",
     "output_type": "stream",
     "text": [
      "WARNING: AstropyDeprecationWarning: The truth value of a Quantity is ambiguous. In the future this will raise a ValueError. [astropy.units.quantity]\n"
     ]
    },
    {
     "name": "stdout",
     "output_type": "stream",
     "text": [
      "-131423.54862653487\n",
      "47253.46844466605\n",
      "7.96 ms ± 59.4 µs per loop (mean ± std. dev. of 3 runs, 10 loops each)\n",
      "3.21 ms ± 69.9 µs per loop (mean ± std. dev. of 3 runs, 10 loops each)\n"
     ]
    },
    {
     "name": "stderr",
     "output_type": "stream",
     "text": [
      "WARNING: AstropyDeprecationWarning: The truth value of a Quantity is ambiguous. In the future this will raise a ValueError. [astropy.units.quantity]\n"
     ]
    },
    {
     "name": "stdout",
     "output_type": "stream",
     "text": [
      "-270092.7948876931\n",
      "79226.70959289717\n",
      "8.02 ms ± 47.5 µs per loop (mean ± std. dev. of 3 runs, 10 loops each)\n",
      "5.26 ms ± 41.4 µs per loop (mean ± std. dev. of 3 runs, 10 loops each)\n"
     ]
    },
    {
     "name": "stderr",
     "output_type": "stream",
     "text": [
      "WARNING: AstropyDeprecationWarning: The truth value of a Quantity is ambiguous. In the future this will raise a ValueError. [astropy.units.quantity]\n"
     ]
    },
    {
     "name": "stdout",
     "output_type": "stream",
     "text": [
      "-541430.4871397488\n",
      "126003.25850949\n",
      "8.13 ms ± 71.2 µs per loop (mean ± std. dev. of 3 runs, 10 loops each)\n",
      "9 ms ± 74 µs per loop (mean ± std. dev. of 3 runs, 10 loops each)\n"
     ]
    },
    {
     "name": "stderr",
     "output_type": "stream",
     "text": [
      "WARNING: AstropyDeprecationWarning: The truth value of a Quantity is ambiguous. In the future this will raise a ValueError. [astropy.units.quantity]\n"
     ]
    },
    {
     "name": "stdout",
     "output_type": "stream",
     "text": [
      "-1072125.3287392184\n",
      "187419.86285245212\n",
      "8.11 ms ± 77.1 µs per loop (mean ± std. dev. of 3 runs, 10 loops each)\n",
      "16.8 ms ± 114 µs per loop (mean ± std. dev. of 3 runs, 10 loops each)\n",
      "CPU times: user 47.5 s, sys: 6.77 s, total: 54.3 s\n",
      "Wall time: 55.1 s\n"
     ]
    }
   ],
   "source": [
    "%%time\n",
    "result_fluxscale = {}\n",
    "for scale in [0.1,1]:\n",
    "    model_gauss.spectral_model.amplitude.value = crab_ampl*scale\n",
    "    times_bin = Table(names = ['n_events','n_sig','n_bkg','mean', 'std', 'sim_time'])\n",
    "    times_unb = Table(names = ['n_events','mean', 'std', 'sim_time'])\n",
    "    for sim_time in [0.5,1,2,4,8,16]*u.h:\n",
    "    # sim_time = 2*u.h\n",
    "        rescale = (sim_time / obs_time).to_value('')\n",
    "        dataset.exposure.data = exposure_obs.data * rescale\n",
    "        dataset.background_model.parameters['norm'].value = rescale\n",
    "        dataset.evaluators['crab_model'].update(dataset.exposure, \n",
    "                                                dataset.psf, \n",
    "                                                dataset.edisp, \n",
    "                                                dataset._geom, \n",
    "                                                dataset.mask_image)\n",
    "\n",
    "        events = sampler.run(dataset, obs1)\n",
    "        dataset.counts.data *= 0\n",
    "        dataset.counts.fill_events(events)\n",
    "        eds.events = events\n",
    "        eds.evaluators['crab_model'].exposure = None # force update\n",
    "        eds._response_bkg_cached = None\n",
    "\n",
    "        # calculate the stat_sum once for both\n",
    "        print(eds.stat_sum())\n",
    "        print(dataset.stat_sum())\n",
    "\n",
    "        n_events_unb = len(eds.events_in_mask.table)\n",
    "        n_events_bin = np.sum(dataset.counts.data[dataset.mask])\n",
    "        if n_events_unb != n_events_bin:\n",
    "            print(sim_time,n_events_unb,n_events_bin)\n",
    "\n",
    "        time_bin = %timeit -n10 -r3 -o dataset.stat_sum()\n",
    "        time_unb = %timeit -n10 -r3 -o eds.stat_sum()\n",
    "\n",
    "        n_sig = np.count_nonzero(events.table[\"MC_ID\"])\n",
    "        n_bkg = np.count_nonzero(events.table[\"MC_ID\"]==0)\n",
    "\n",
    "        result_bin = {'n_events':n_events_bin,\n",
    "                      'n_sig':n_sig,\n",
    "                      'n_bkg':n_bkg,\n",
    "                      'mean':time_bin.average, \n",
    "                      'std':time_bin.stdev,\n",
    "                      'sim_time': sim_time}\n",
    "        result_unb = {'n_events':n_events_unb, \n",
    "                      'mean':time_unb.average, \n",
    "                      'std':time_unb.stdev,\n",
    "                      'sim_time': sim_time}\n",
    "        times_bin.add_row(result_bin)\n",
    "        times_unb.add_row(result_unb)\n",
    "        \n",
    "    result_fluxscale[scale] = times_bin, times_unb"
   ]
  },
  {
   "cell_type": "code",
   "execution_count": 33,
   "metadata": {},
   "outputs": [
    {
     "data": {
      "text/plain": [
       "Text(0.5, 0, 'Number of events')"
      ]
     },
     "execution_count": 33,
     "metadata": {},
     "output_type": "execute_result"
    },
    {
     "data": {
      "image/png": "[encoded data removed]",
      "text/plain": [
       "<Figure size 960x720 with 1 Axes>"
      ]
     },
     "metadata": {},
     "output_type": "display_data"
    }
   ],
   "source": [
    "fig, ax = plt.subplots(dpi=150)\n",
    "time_fac = 1e3 # ms\n",
    "linestyles = {0.1:\"--\", 1:\"-\"}\n",
    "for k,v in result_fluxscale.items():\n",
    "    times_bin, times_unb = v\n",
    "    ls = linestyles[k]\n",
    "    ax.errorbar(times_bin['sim_time'], \n",
    "                times_bin['mean']*time_fac, yerr=times_bin['std']*time_fac, \n",
    "                label=f'binned ({k}x Crabflux)', ls=ls)\n",
    "    ax.errorbar(times_unb['sim_time'], \n",
    "                times_unb['mean']*time_fac, yerr=times_unb['std']*time_fac, \n",
    "                label=f'unbinned ({k}x Crabflux)', ls=ls)\n",
    "ax.legend()\n",
    "ax.set_xlabel('observation time [h]')\n",
    "ax.set_ylabel('CPU time [ms]')\n",
    "ax.loglog()\n",
    "\n",
    "ax2 = ax.secondary_xaxis('top')\n",
    "ax2.set_xticks(times_unb['sim_time'], labels=times_unb['n_events'].astype(int))\n",
    "ax2.set_xlabel('Number of events')"
   ]
  },
  {
   "cell_type": "code",
   "execution_count": 21,
   "metadata": {},
   "outputs": [
    {
     "data": {
      "text/plain": [
       "7204"
      ]
     },
     "execution_count": 21,
     "metadata": {},
     "output_type": "execute_result"
    }
   ],
   "source": [
    "np.count_nonzero(events.table[\"MC_ID\"])"
   ]
  },
  {
   "cell_type": "code",
   "execution_count": 22,
   "metadata": {},
   "outputs": [
    {
     "data": {
      "text/plain": [
       "63565"
      ]
     },
     "execution_count": 22,
     "metadata": {},
     "output_type": "execute_result"
    }
   ],
   "source": [
    "np.count_nonzero(events.table[\"MC_ID\"]==0)"
   ]
  },
  {
   "cell_type": "code",
   "execution_count": 32,
   "metadata": {},
   "outputs": [
    {
     "data": {
      "text/plain": [
       "{0.1: (<Table length=6>\n",
       "  n_events  n_sig   n_bkg          mean                  std           sim_time\n",
       "  float64  float64 float64       float64               float64         float64 \n",
       "  -------- ------- ------- -------------------- ---------------------- --------\n",
       "    1372.0    19.0  2058.0 0.007947139845540126 4.8768678567849545e-05      0.5\n",
       "    2519.0    32.0  3921.0 0.007976584819455942  6.403739890207509e-05      1.0\n",
       "    5250.0    57.0  7968.0 0.007955801300704479  6.598979524098395e-05      2.0\n",
       "   10314.0   112.0 15985.0 0.007972587179392575  4.274790354315627e-05      4.0\n",
       "   20366.0   233.0 31409.0 0.008014111562321583 4.8549245382468236e-05      8.0\n",
       "   40927.0   454.0 62946.0 0.008168889038885633  9.795075481214072e-05     16.0,\n",
       "  <Table length=6>\n",
       "  n_events          mean                  std           sim_time\n",
       "  float64         float64               float64         float64 \n",
       "  -------- --------------------- ---------------------- --------\n",
       "    1372.0   0.00174309437473615 2.6223259864817368e-05      0.5\n",
       "    2519.0 0.0021643933529655137 3.9578707384599904e-05      1.0\n",
       "    5250.0  0.003107836345831553  5.030258471433312e-05      2.0\n",
       "   10314.0  0.004973274034758409  5.159309200832396e-05      4.0\n",
       "   20366.0  0.008609643578529358   6.77075170090208e-05      8.0\n",
       "   40927.0  0.016242570321386058 0.00014819581269685355     16.0),\n",
       " 1: (<Table length=6>\n",
       "  n_events  n_sig   n_bkg          mean                  std           sim_time\n",
       "  float64  float64 float64       float64               float64         float64 \n",
       "  -------- ------- ------- -------------------- ---------------------- --------\n",
       "    1388.0   129.0  1996.0 0.007922232958177726  3.398153013956745e-05      0.5\n",
       "    2833.0   304.0  3967.0 0.007986021554097533 3.4642304519514346e-05      1.0\n",
       "    5636.0   558.0  7978.0 0.007958468965565164  5.944890735773227e-05      2.0\n",
       "   11441.0  1187.0 15932.0 0.008015716153507432 4.7505501587933636e-05      4.0\n",
       "   22802.0  2436.0 31540.0 0.008129580070575078  7.123801743366119e-05      8.0\n",
       "   45018.0  4762.0 62815.0 0.008111538101608555  7.707155125206843e-05     16.0,\n",
       "  <Table length=6>\n",
       "  n_events          mean                  std           sim_time\n",
       "  float64         float64               float64         float64 \n",
       "  -------- --------------------- ---------------------- --------\n",
       "    1388.0 0.0017684188671410084 2.6596111838284284e-05      0.5\n",
       "    2833.0  0.002233799748743574 2.7491419679697202e-05      1.0\n",
       "    5636.0 0.0032124830254664023  6.986917460606904e-05      2.0\n",
       "   11441.0  0.005259697061652938  4.144902296625951e-05      4.0\n",
       "   22802.0  0.009004379420851668  7.398868837476326e-05      8.0\n",
       "   45018.0  0.016772367882852753 0.00011409561657492653     16.0)}"
      ]
     },
     "execution_count": 32,
     "metadata": {},
     "output_type": "execute_result"
    }
   ],
   "source": [
    "result_fluxscale"
   ]
  },
  {
   "cell_type": "code",
   "execution_count": null,
   "metadata": {},
   "outputs": [],
   "source": []
  }
 ],
 "metadata": {
  "kernelspec": {
   "display_name": "Python [conda env:gammapy-1.0]",
   "language": "python",
   "name": "conda-env-gammapy-1.0-py"
  },
  "language_info": {
   "codemirror_mode": {
    "name": "ipython",
    "version": 3
   },
   "file_extension": ".py",
   "mimetype": "text/x-python",
   "name": "python",
   "nbconvert_exporter": "python",
   "pygments_lexer": "ipython3",
   "version": "3.9.15"
  }
 },
 "nbformat": 4,
 "nbformat_minor": 2
}
