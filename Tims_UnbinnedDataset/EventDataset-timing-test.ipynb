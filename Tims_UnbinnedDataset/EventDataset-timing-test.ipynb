{
 "cells": [
  {
   "cell_type": "code",
   "execution_count": 175,
   "metadata": {},
   "outputs": [
    {
     "name": "stdout",
     "output_type": "stream",
     "text": [
      "1.0\n"
     ]
    }
   ],
   "source": [
    "import gammapy\n",
    "print(gammapy.__version__)\n",
    "\n",
    "import matplotlib.pyplot as plt\n",
    "import numpy as np\n",
    "import astropy.units as u\n",
    "from astropy.coordinates import SkyCoord\n",
    "from astropy.table import Table\n",
    "from gammapy.data import DataStore, Observation\n",
    "from gammapy.datasets import MapDataset, MapDatasetEventSampler\n",
    "from gammapy.maps import MapAxis, WcsGeom, Map\n",
    "from gammapy.makers import MapDatasetMaker,SafeMaskMaker\n",
    "from gammapy.irf import EDispKernel\n",
    "from gammapy.makers.utils import make_psf_map\n",
    "from gammapy.modeling.models import (\n",
    "    Model,\n",
    "    Models,\n",
    "    SkyModel,\n",
    "    PowerLawSpectralModel,\n",
    "    PowerLawNormSpectralModel,\n",
    "    PointSpatialModel,\n",
    "    TemplateSpatialModel,\n",
    "    ExpDecayTemporalModel,\n",
    "    LightCurveTemplateTemporalModel,\n",
    "    FoVBackgroundModel,\n",
    "    GaussianSpatialModel,\n",
    "    LogParabolaSpectralModel,\n",
    "    DatasetModels\n",
    ")\n",
    "from gammapy.modeling import Fit"
   ]
  },
  {
   "cell_type": "code",
   "execution_count": 2,
   "metadata": {},
   "outputs": [],
   "source": [
    "import os\n",
    "os.chdir('../EventDataset/')\n",
    "from EventDatasetMaker import EventDatasetMaker\n",
    "from EventDataset import EventDataset"
   ]
  },
  {
   "cell_type": "code",
   "execution_count": 3,
   "metadata": {},
   "outputs": [],
   "source": [
    "%load_ext autoreload\n",
    "%autoreload 2"
   ]
  },
  {
   "cell_type": "markdown",
   "metadata": {},
   "source": [
    "## Set up a binned and unbinned Dataset"
   ]
  },
  {
   "cell_type": "code",
   "execution_count": 4,
   "metadata": {},
   "outputs": [],
   "source": [
    "data_store = DataStore.from_dir(\"$GAMMAPY_DATA/hess-dl3-dr1\")\n",
    "obs_id = [23523] # just one observation \n",
    "obs1 = data_store.get_observations(obs_id)[0]"
   ]
  },
  {
   "cell_type": "code",
   "execution_count": 154,
   "metadata": {},
   "outputs": [],
   "source": [
    "## define the geometry\n",
    "nebins = 20\n",
    "binsz = 0.02*u.deg\n",
    "\n",
    "crab_pos = SkyCoord(184.557, -5.784, unit='deg', frame='galactic') \n",
    "obs_pos=obs1.pointing_radec\n",
    "ebins = np.geomspace(1,100,nebins)\n",
    "energy_axis = MapAxis.from_edges(\n",
    "    ebins[:-1], unit=\"TeV\", name=\"energy\", interp=\"log\"  \n",
    ")\n",
    "energy_axis_true = MapAxis.from_edges(\n",
    "    ebins, unit=\"TeV\", name=\"energy_true\", interp=\"log\"  \n",
    ")\n",
    "migra_axis = MapAxis.from_bounds(\n",
    "    0.2, 5, nbin=160, node_type=\"edges\", name=\"migra\"\n",
    ")\n",
    "geom = WcsGeom.create(\n",
    "    skydir=obs_pos,\n",
    "    binsz=binsz,\n",
    "    width=(3.5, 3.5),\n",
    "    frame=\"icrs\",\n",
    "    proj=\"CAR\",\n",
    "    axes=[energy_axis],\n",
    ")"
   ]
  },
  {
   "cell_type": "code",
   "execution_count": 155,
   "metadata": {},
   "outputs": [
    {
     "name": "stdout",
     "output_type": "stream",
     "text": [
      "CPU times: user 954 ms, sys: 37.4 ms, total: 991 ms\n",
      "Wall time: 2.2 s\n"
     ]
    }
   ],
   "source": [
    "%%time\n",
    "maker = MapDatasetMaker(selection=[\"counts\", 'exposure','edisp', 'background', 'psf'])\n",
    "maker_safe_mask = SafeMaskMaker(methods=['offset-max'], offset_max='1.5 deg', bias_percent=8)\n",
    "\n",
    "reference = MapDataset.create(geom=geom, energy_axis_true=energy_axis_true, migra_axis=migra_axis)\n",
    "\n",
    "dataset = maker.run(reference, obs1)\n",
    "dataset = maker_safe_mask.run(dataset, obs1)\n",
    "\n",
    "bkg_model = FoVBackgroundModel(dataset_name=dataset.name)\n",
    "dataset.models=bkg_model"
   ]
  },
  {
   "cell_type": "code",
   "execution_count": 156,
   "metadata": {},
   "outputs": [
    {
     "name": "stdout",
     "output_type": "stream",
     "text": [
      "CPU times: user 810 ms, sys: 18.9 ms, total: 829 ms\n",
      "Wall time: 2 s\n"
     ]
    }
   ],
   "source": [
    "%%time\n",
    "test_maker = EventDatasetMaker(safe_mask_maker=maker_safe_mask, selection=None)\n",
    "eds = test_maker.run(reference, obs1)\n",
    "\n",
    "bkg_model2 = FoVBackgroundModel(dataset_name=eds.name)\n",
    "eds.models=bkg_model2"
   ]
  },
  {
   "cell_type": "code",
   "execution_count": 157,
   "metadata": {},
   "outputs": [],
   "source": [
    "model_gauss = SkyModel(\n",
    "    spatial_model=PointSpatialModel(lon_0=\"184.557 deg\", lat_0=\"-5.784 deg\", frame = 'galactic'),\n",
    "    spectral_model=PowerLawSpectralModel(amplitude='3.5e-11 cm-2 s-1 TeV-1', \n",
    "                                          reference='1 TeV', \n",
    "                                          alpha=2.0, \n",
    "                                         ),\n",
    "    name='crab_model'\n",
    "    )\n",
    "model_gauss.spatial_model.parameters.freeze_all()\n",
    "dataset.models = [bkg_model,model_gauss]\n",
    "eds.models = [bkg_model2,model_gauss.copy(name=\"crab_model\")]\n",
    "\n",
    "# to make it fair set the same binsz\n",
    "eds.evaluators['crab_model'].spatialbs = binsz"
   ]
  },
  {
   "cell_type": "code",
   "execution_count": 158,
   "metadata": {},
   "outputs": [],
   "source": [
    "## need to monkey patch the paramter_norm_only_changed methods \n",
    "## because otherwise a simple rescaling would happen\n",
    "@property\n",
    "def pnoc_patch(self):\n",
    "    \"\"\"Only norm parameter changed\"\"\"\n",
    "    norm_only_changed = False\n",
    "    return norm_only_changed\n",
    "\n",
    "\n",
    "# disable caching\n",
    "ev_ds=dataset.evaluators['crab_model']\n",
    "ev_eds=eds.evaluators['crab_model']\n",
    "ev_ds.use_cache = False\n",
    "ev_eds.use_cache = False\n",
    "# at the moment parameter_norm_only_changed return False always\n",
    "# if that is fixed we would need to monkey patch it\n",
    "# this is hard because it is @property decorated so better patch _compute_npred()"
   ]
  },
  {
   "cell_type": "markdown",
   "metadata": {},
   "source": [
    "## Timing"
   ]
  },
  {
   "cell_type": "code",
   "execution_count": 159,
   "metadata": {},
   "outputs": [],
   "source": [
    "sampler = MapDatasetEventSampler(random_state=0)"
   ]
  },
  {
   "cell_type": "code",
   "execution_count": 160,
   "metadata": {},
   "outputs": [
    {
     "data": {
      "text/latex": [
       "$1687 \\; \\mathrm{s}$"
      ],
      "text/plain": [
       "<Quantity 1687. s>"
      ]
     },
     "execution_count": 160,
     "metadata": {},
     "output_type": "execute_result"
    }
   ],
   "source": [
    "obs_time = obs1.observation_time_duration\n",
    "exposure_obs = dataset.exposure.copy()\n",
    "obs_time"
   ]
  },
  {
   "cell_type": "code",
   "execution_count": 182,
   "metadata": {},
   "outputs": [
    {
     "name": "stderr",
     "output_type": "stream",
     "text": [
      "WARNING: AstropyDeprecationWarning: The truth value of a Quantity is ambiguous. In the future this will raise a ValueError. [astropy.units.quantity]\n"
     ]
    },
    {
     "name": "stdout",
     "output_type": "stream",
     "text": [
      "-33048.007896002426\n",
      "22.1 ms ± 64.8 µs per loop (mean ± std. dev. of 3 runs, 10 loops each)\n",
      "14.2 ms ± 704 µs per loop (mean ± std. dev. of 3 runs, 10 loops each)\n"
     ]
    },
    {
     "name": "stderr",
     "output_type": "stream",
     "text": [
      "WARNING: AstropyDeprecationWarning: The truth value of a Quantity is ambiguous. In the future this will raise a ValueError. [astropy.units.quantity]\n"
     ]
    },
    {
     "name": "stdout",
     "output_type": "stream",
     "text": [
      "-69223.76086755353\n",
      "21 ms ± 79.4 µs per loop (mean ± std. dev. of 3 runs, 10 loops each)\n",
      "15.4 ms ± 468 µs per loop (mean ± std. dev. of 3 runs, 10 loops each)\n"
     ]
    },
    {
     "name": "stderr",
     "output_type": "stream",
     "text": [
      "WARNING: AstropyDeprecationWarning: The truth value of a Quantity is ambiguous. In the future this will raise a ValueError. [astropy.units.quantity]\n"
     ]
    },
    {
     "name": "stdout",
     "output_type": "stream",
     "text": [
      "-139280.57991062885\n",
      "21.9 ms ± 891 µs per loop (mean ± std. dev. of 3 runs, 10 loops each)\n",
      "20.6 ms ± 201 µs per loop (mean ± std. dev. of 3 runs, 10 loops each)\n"
     ]
    },
    {
     "name": "stderr",
     "output_type": "stream",
     "text": [
      "WARNING: AstropyDeprecationWarning: The truth value of a Quantity is ambiguous. In the future this will raise a ValueError. [astropy.units.quantity]\n"
     ]
    },
    {
     "name": "stdout",
     "output_type": "stream",
     "text": [
      "-286846.725835465\n",
      "20.9 ms ± 113 µs per loop (mean ± std. dev. of 3 runs, 10 loops each)\n",
      "31.8 ms ± 68.4 µs per loop (mean ± std. dev. of 3 runs, 10 loops each)\n",
      "CPU times: user 16.6 s, sys: 1.31 s, total: 17.9 s\n",
      "Wall time: 22.2 s\n"
     ]
    }
   ],
   "source": [
    "%%time\n",
    "times_bin = Table(names = ['n_events','mean', 'std', 'sim_time'])\n",
    "times_unb = Table(names = ['n_events','mean', 'std', 'sim_time'])\n",
    "for sim_time in [0.5,1,2,4]*u.h:\n",
    "# sim_time = 2*u.h\n",
    "    rescale = (sim_time / obs_time).to_value('')\n",
    "    dataset.exposure.data = exposure_obs.data * rescale\n",
    "    dataset.background_model.parameters['norm'].value = rescale\n",
    "    dataset.evaluators['crab_model'].update(dataset.exposure, \n",
    "                                            dataset.psf, \n",
    "                                            dataset.edisp, \n",
    "                                            dataset._geom, \n",
    "                                            dataset.mask_image)\n",
    "\n",
    "    events = sampler.run(dataset, obs1)\n",
    "    dataset.counts.data *= 0\n",
    "    dataset.counts.fill_events(events)\n",
    "    eds.events = events\n",
    "    eds.evaluators['crab_model'].exposure = None # force update\n",
    "\n",
    "    # calculate the stat_sum once for both\n",
    "    print(eds.stat_sum())\n",
    "    dataset.stat_sum()\n",
    "\n",
    "    n_events_unb = len(eds.events_in_mask.table)\n",
    "    n_events_bin = np.sum(dataset.counts.data[dataset.mask])\n",
    "    if n_events_unb != n_events_bin:\n",
    "        print(sim_time,n_events_unb,n_events_bin)\n",
    "\n",
    "    time_bin = %timeit -n10 -r3 -o dataset.stat_sum()\n",
    "    time_unb = %timeit -n10 -r3 -o eds.stat_sum()\n",
    "\n",
    "    result_bin = {'n_events':n_events_bin, \n",
    "                  'mean':time_bin.average, \n",
    "                  'std':time_bin.stdev,\n",
    "                  'sim_time': sim_time}\n",
    "    result_unb = {'n_events':n_events_unb, \n",
    "                  'mean':time_unb.average, \n",
    "                  'std':time_unb.stdev,\n",
    "                  'sim_time': sim_time}\n",
    "    times_bin.add_row(result_bin)\n",
    "    times_unb.add_row(result_unb)"
   ]
  },
  {
   "cell_type": "code",
   "execution_count": 192,
   "metadata": {},
   "outputs": [
    {
     "data": {
      "text/plain": [
       "Text(0.5, 0, 'Number of events')"
      ]
     },
     "execution_count": 192,
     "metadata": {},
     "output_type": "execute_result"
    },
    {
     "data": {
      "image/png": "[encoded data removed]",
      "text/plain": [
       "<Figure size 960x720 with 1 Axes>"
      ]
     },
     "metadata": {},
     "output_type": "display_data"
    }
   ],
   "source": [
    "fig, ax = plt.subplots(dpi=150)\n",
    "time_fac = 1e3 # ms\n",
    "ax.errorbar(times_bin['sim_time'], \n",
    "            times_bin['mean']*time_fac, yerr=times_bin['std']*time_fac, \n",
    "            label='binned')\n",
    "ax.errorbar(times_unb['sim_time'], \n",
    "            times_unb['mean']*time_fac, yerr=times_unb['std']*time_fac, \n",
    "            label='unbinned')\n",
    "ax.legend()\n",
    "ax.set_xlabel('observation time [h]')\n",
    "ax.set_ylabel('CPU time [ms]')\n",
    "\n",
    "\n",
    "ax2 = ax.secondary_xaxis('top')\n",
    "ax2.set_xticks(times_unb['sim_time'], labels=times_unb['n_events'].astype(int))\n",
    "ax2.set_xlabel('Number of events')"
   ]
  },
  {
   "cell_type": "code",
   "execution_count": null,
   "metadata": {},
   "outputs": [],
   "source": []
  }
 ],
 "metadata": {
  "kernelspec": {
   "display_name": "Python [conda env:gammapy-1.0]",
   "language": "python",
   "name": "conda-env-gammapy-1.0-py"
  },
  "language_info": {
   "codemirror_mode": {
    "name": "ipython",
    "version": 3
   },
   "file_extension": ".py",
   "mimetype": "text/x-python",
   "name": "python",
   "nbconvert_exporter": "python",
   "pygments_lexer": "ipython3",
   "version": "3.9.15"
  }
 },
 "nbformat": 4,
 "nbformat_minor": 2
}
