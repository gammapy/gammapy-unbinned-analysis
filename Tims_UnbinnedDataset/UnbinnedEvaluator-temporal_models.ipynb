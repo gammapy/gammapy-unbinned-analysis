{
 "cells": [
  {
   "cell_type": "code",
   "execution_count": 1,
   "metadata": {
    "ExecuteTime": {
     "end_time": "2023-09-07T07:45:17.439428Z",
     "start_time": "2023-09-07T07:45:15.814609Z"
    }
   },
   "outputs": [],
   "source": [
    "import logging\n",
    "import numpy as np\n",
    "import astropy.units as u\n",
    "from astropy.coordinates.angle_utilities import angular_separation\n",
    "from astropy.utils import lazyproperty\n",
    "from regions import CircleSkyRegion, PointSkyRegion\n",
    "import matplotlib.pyplot as plt\n",
    "from gammapy.maps import HpxNDMap, Map, RegionNDMap, WcsNDMap, MapAxis, WcsGeom, RegionGeom, TimeMapAxis\n",
    "from gammapy.modeling.models import PointSpatialModel, TemplateNPredModel, LinearTemporalModel\n",
    "# import warnings\n",
    "# warnings.simplefilter(\"error\")\n",
    "\n",
    "PSF_CONTAINMENT = 0.999\n",
    "CUTOUT_MARGIN = 0.1 * u.deg\n",
    "\n",
    "log = logging.getLogger(__name__)"
   ]
  },
  {
   "cell_type": "code",
   "execution_count": 2,
   "metadata": {
    "ExecuteTime": {
     "end_time": "2023-09-07T07:45:17.502609Z",
     "start_time": "2023-09-07T07:45:17.440901Z"
    }
   },
   "outputs": [],
   "source": [
    "import os\n",
    "os.chdir('../EventDataset/')\n",
    "from utils import *\n",
    "from UnbinnedEvaluator import UnbinnedEvaluator"
   ]
  },
  {
   "cell_type": "code",
   "execution_count": 3,
   "metadata": {
    "ExecuteTime": {
     "end_time": "2023-09-07T07:45:17.521210Z",
     "start_time": "2023-09-07T07:45:17.503698Z"
    }
   },
   "outputs": [],
   "source": [
    "%load_ext autoreload\n",
    "%autoreload 2"
   ]
  },
  {
   "cell_type": "markdown",
   "metadata": {},
   "source": [
    "## Idea\n",
    "\n",
    "In case the `SkyModel` has a temporal model attached to it, the model needs to be evaluated at each bin of the integration geometry and also on each time of the events. Not sure what is the best way to do this evaluation and multiplication in the end."
   ]
  },
  {
   "cell_type": "code",
   "execution_count": 4,
   "metadata": {
    "ExecuteTime": {
     "end_time": "2023-09-07T07:45:18.615721Z",
     "start_time": "2023-09-07T07:45:18.581426Z"
    }
   },
   "outputs": [],
   "source": [
    "from gammapy.data import DataStore, Observation\n",
    "from gammapy.datasets import MapDataset, MapDatasetEventSampler, Datasets\n",
    "from gammapy.makers import MapDatasetMaker, FoVBackgroundMaker, SafeMaskMaker\n",
    "from astropy.coordinates import SkyCoord\n",
    "from gammapy.modeling.models import (\n",
    "#     Model,\n",
    "#     Models,\n",
    "    SkyModel,\n",
    "#     PowerLawSpectralModel,\n",
    "#     PowerLawNormSpectralModel,\n",
    "#     PointSpatialModel,\n",
    "    LogParabolaSpectralModel,\n",
    "    GaussianSpatialModel,\n",
    "#     TemplateSpatialModel,\n",
    "#     ExpDecayTemporalModel,\n",
    "#     LightCurveTemplateTemporalModel,\n",
    "    FoVBackgroundModel,\n",
    ")"
   ]
  },
  {
   "cell_type": "code",
   "execution_count": 5,
   "metadata": {
    "ExecuteTime": {
     "end_time": "2023-09-07T07:45:19.646382Z",
     "start_time": "2023-09-07T07:45:19.605323Z"
    }
   },
   "outputs": [],
   "source": [
    "data_store = DataStore.from_dir(\"$GAMMAPY_DATA/hess-dl3-dr1\")"
   ]
  },
  {
   "cell_type": "code",
   "execution_count": 6,
   "metadata": {
    "ExecuteTime": {
     "end_time": "2023-09-07T07:45:19.832801Z",
     "start_time": "2023-09-07T07:45:19.817388Z"
    }
   },
   "outputs": [],
   "source": [
    "obs_id = [23523] # just one observation \n",
    "obs1 = data_store.get_observations(obs_id)[0]\n",
    "# selection = dict(\n",
    "#     type=\"sky_circle\",\n",
    "#     frame=\"icrs\",\n",
    "#     lon=\"83.633 deg\",\n",
    "#     lat=\"22.014 deg\",\n",
    "#     radius=\"5 deg\",\n",
    "# )\n",
    "# selected_obs_table = data_store.obs_table.select_observations(selection)"
   ]
  },
  {
   "cell_type": "code",
   "execution_count": 7,
   "metadata": {
    "ExecuteTime": {
     "end_time": "2023-09-07T07:45:20.831871Z",
     "start_time": "2023-09-07T07:45:20.795268Z"
    }
   },
   "outputs": [
    {
     "name": "stdout",
     "output_type": "stream",
     "text": [
      "EventList\n",
      "---------\n",
      "\n",
      "  Instrument       : H.E.S.S. Phase I\n",
      "  Telescope        : HESS\n",
      "  Obs. ID          : 23523\n",
      "\n",
      "  Number of events : 7613\n",
      "  Event rate       : 4.513 1 / s\n",
      "\n",
      "  Time start       : 53343.92234009259\n",
      "  Time stop        : 53343.94186555556\n",
      "\n",
      "  Min. energy      : 2.44e-01 TeV\n",
      "  Max. energy      : 1.01e+02 TeV\n",
      "  Median energy    : 9.53e-01 TeV\n",
      "\n",
      "  Max. offset      : 58.0 deg\n",
      "\n"
     ]
    }
   ],
   "source": [
    "print(obs1.events)"
   ]
  },
  {
   "cell_type": "code",
   "execution_count": 8,
   "metadata": {
    "ExecuteTime": {
     "end_time": "2023-09-07T07:45:21.351300Z",
     "start_time": "2023-09-07T07:45:21.033898Z"
    }
   },
   "outputs": [
    {
     "name": "stderr",
     "output_type": "stream",
     "text": [
      "/tmp/ipykernel_1860028/678432130.py:2: GammapyDeprecationWarning: Use observation.get_pointing_icrs(time) instead\n",
      "  obs_pos = obs1.pointing_radec\n",
      "/home/hpc/caph/mppi086h/wecap/software/anaconda3/envs/gammapy-1.1/lib/python3.9/site-packages/astropy/utils/decorators.py:837: GammapyDeprecationWarning: Use observation.pointing or observation.get_pointing_{altaz,icrs} instead\n",
      "  val = self.fget(obj)\n",
      "/home/hpc/caph/mppi086h/wecap/software/anaconda3/envs/gammapy-1.1/lib/python3.9/site-packages/astropy/utils/decorators.py:837: GammapyDeprecationWarning: The radec function is deprecated and may be removed in a future version.\n",
      "  val = self.fget(obj)\n"
     ]
    }
   ],
   "source": [
    "crab_pos = SkyCoord(184.557, -5.784, unit='deg', frame='galactic') \n",
    "obs_pos = obs1.pointing_radec\n",
    "# choose energy binning\n",
    "ebins = np.logspace(-1,2,49)\n",
    "ebins_true = np.logspace(-1,2,49)\n",
    "\n",
    "energy_axis = MapAxis.from_edges(\n",
    "    ebins, unit=\"TeV\", name=\"energy\", interp=\"log\"  \n",
    ")\n",
    "energy_axis_true = MapAxis.from_edges(\n",
    "    ebins_true, unit=\"TeV\", name=\"energy_true\", interp=\"log\"  \n",
    ")\n",
    "migra_axis = MapAxis.from_bounds(\n",
    "    0.2, 5, nbin=160, node_type=\"edges\", name=\"migra\"\n",
    ")\n",
    "geom = WcsGeom.create(\n",
    "    skydir=crab_pos,\n",
    "    binsz=0.02,\n",
    "    width=(3.5, 3.5),\n",
    "    frame=\"icrs\",  # same frame as events\n",
    "    proj=\"CAR\",\n",
    "    axes=[energy_axis],\n",
    ")\n",
    "\n",
    "circle = CircleSkyRegion(\n",
    "    center=crab_pos, radius=0.3 * u.deg\n",
    ")\n",
    "data = geom.region_mask(regions=[circle], inside=False)\n",
    "exclusion_mask = ~geom.region_mask(regions=[circle])\n",
    "maker_fov = FoVBackgroundMaker(method=\"fit\", exclusion_mask=exclusion_mask)"
   ]
  },
  {
   "cell_type": "code",
   "execution_count": 9,
   "metadata": {
    "ExecuteTime": {
     "end_time": "2023-09-07T07:45:24.785748Z",
     "start_time": "2023-09-07T07:45:22.223773Z"
    }
   },
   "outputs": [],
   "source": [
    "maker = MapDatasetMaker(background_oversampling=2)\n",
    "maker_safe_mask = SafeMaskMaker(methods=['offset-max'], offset_max='1.5 deg')\n",
    "# providing the migra axis seems essential so that edisp is a EdispMap and no EdispKernelMap\n",
    "reference = MapDataset.create(geom=geom, energy_axis_true=energy_axis_true, migra_axis=migra_axis)  \n",
    "\n",
    "dataset = maker.run(reference, obs1)\n",
    "dataset = maker_safe_mask.run(dataset, obs1)\n",
    "dataset.mask_safe *= geom.energy_mask(energy_min=1*u.TeV)\n",
    "\n",
    "bkg_model = FoVBackgroundModel(dataset_name=dataset.name)\n",
    "dataset.models=bkg_model\n"
   ]
  },
  {
   "cell_type": "code",
   "execution_count": 10,
   "metadata": {
    "ExecuteTime": {
     "end_time": "2023-09-07T07:45:24.837364Z",
     "start_time": "2023-09-07T07:45:24.789174Z"
    }
   },
   "outputs": [],
   "source": [
    "model_gauss = SkyModel(\n",
    "#     spatial_model=GaussianSpatialModel(lon_0=\"184.557 deg\", lat_0=\"-5.784 deg\", sigma='0.016 deg', frame = 'galactic'),\n",
    "    spatial_model=PointSpatialModel(lon_0=\"184.557 deg\", lat_0=\"-5.784 deg\", frame = 'galactic'),\n",
    "    spectral_model=LogParabolaSpectralModel(amplitude='3.5e-11 cm-2 s-1 TeV-1', \n",
    "                                          reference='1 TeV', \n",
    "                                          alpha=1.8, \n",
    "                                          beta=0.4\n",
    "                                         ),\n",
    "    name='crab_model_gauss'\n",
    "    )\n",
    "dataset.models += model_gauss\n",
    "\n",
    "model_gauss2=model_gauss.copy()\n",
    "model_gauss.spatial_model.parameters.freeze_all()\n",
    "model_gauss2.spatial_model.parameters.freeze_all()"
   ]
  },
  {
   "cell_type": "code",
   "execution_count": 11,
   "metadata": {
    "ExecuteTime": {
     "end_time": "2023-09-07T07:45:26.081559Z",
     "start_time": "2023-09-07T07:45:25.876099Z"
    }
   },
   "outputs": [
    {
     "data": {
      "text/plain": [
       "<matplotlib.collections.PathCollection at 0x7f7a03a94670>"
      ]
     },
     "execution_count": 11,
     "metadata": {},
     "output_type": "execute_result"
    },
    {
     "data": {
      "image/png": "[encoded data removed]",
      "text/plain": [
       "<Figure size 640x480 with 1 Axes>"
      ]
     },
     "metadata": {},
     "output_type": "display_data"
    }
   ],
   "source": [
    "tmodel = LinearTemporalModel(alpha=1, beta=1/u.d, t_ref=53343.93*u.d)\n",
    "\n",
    "tmodel.plot(dataset.gti.time_intervals[0], time_format='mjd', color='red', n_points=200)\n",
    "plt.scatter(obs1.events.time.mjd, tmodel(obs1.events.time), s=2)\n"
   ]
  },
  {
   "cell_type": "code",
   "execution_count": 12,
   "metadata": {
    "ExecuteTime": {
     "end_time": "2023-09-07T07:45:35.726310Z",
     "start_time": "2023-09-07T07:45:35.709950Z"
    }
   },
   "outputs": [],
   "source": [
    "model_gauss.temporal_model=tmodel"
   ]
  },
  {
   "cell_type": "code",
   "execution_count": 63,
   "metadata": {
    "ExecuteTime": {
     "end_time": "2023-09-07T10:15:25.842675Z",
     "start_time": "2023-09-07T10:15:06.738411Z"
    }
   },
   "outputs": [
    {
     "name": "stderr",
     "output_type": "stream",
     "text": [
      "/home/hpc/caph/mppi086h/gammapy-unbinned-analysis/EventDataset/utils.py:330: GammapyDeprecationWarning: The apply_edisp function is deprecated and may be removed in a future version.\n",
      "        Use gammapy.datasets.apply_edisp instead.\n",
      "  acc_cube = psf_kernel.psf_kernel_map.quantity * mask2.apply_edisp(edisp_kernelT).data\n",
      "/home/hpc/caph/mppi086h/gammapy-unbinned-analysis/EventDataset/utils.py:330: GammapyDeprecationWarning: The apply_edisp function is deprecated and may be removed in a future version.\n",
      "        Use gammapy.datasets.apply_edisp instead.\n",
      "  acc_cube = psf_kernel.psf_kernel_map.quantity * mask2.apply_edisp(edisp_kernelT).data\n"
     ]
    }
   ],
   "source": [
    "# Set up a test instance of the unbinned Evaluator\n",
    "test=UnbinnedEvaluator(model_gauss,events=obs1.events, mask=dataset.mask_safe, spatialbs=0.02*u.deg, use_cache=False, gti=dataset.gti)\n",
    "test2=UnbinnedEvaluator(model_gauss2,events=obs1.events, mask=dataset.mask_safe, spatialbs=0.02*u.deg, use_cache=False, gti=dataset.gti)\n",
    "# test.mask = dataset.mask_safe\n",
    "\n",
    "# test._init_geom(exposure=dataset.exposure)\n",
    "### for a proper comparison set the default value for the psf oversampling\n",
    "### factor in 'update' to 1\n",
    "test.update(obs1.events,dataset.exposure,dataset.psf,dataset.edisp, dataset.mask_safe)\n",
    "test2.update(obs1.events,dataset.exposure,dataset.psf,dataset.edisp, dataset.mask_safe)"
   ]
  },
  {
   "cell_type": "code",
   "execution_count": 91,
   "metadata": {
    "ExecuteTime": {
     "end_time": "2023-09-07T10:30:00.708685Z",
     "start_time": "2023-09-07T10:30:00.515122Z"
    }
   },
   "outputs": [],
   "source": [
    "model_gauss.temporal_model.alpha.value = 2."
   ]
  },
  {
   "cell_type": "code",
   "execution_count": 92,
   "metadata": {
    "ExecuteTime": {
     "end_time": "2023-09-07T10:30:00.750894Z",
     "start_time": "2023-09-07T10:30:00.732104Z"
    }
   },
   "outputs": [
    {
     "data": {
      "text/latex": [
       "$[2.00136] \\; \\mathrm{}$"
      ],
      "text/plain": [
       "<Quantity [2.00135995]>"
      ]
     },
     "execution_count": 92,
     "metadata": {},
     "output_type": "execute_result"
    }
   ],
   "source": [
    "test.temporal_model.integral(test.gti.time_start, test.gti.time_stop)"
   ]
  },
  {
   "cell_type": "code",
   "execution_count": 93,
   "metadata": {
    "ExecuteTime": {
     "end_time": "2023-09-07T10:30:01.190319Z",
     "start_time": "2023-09-07T10:30:01.166485Z"
    }
   },
   "outputs": [
    {
     "name": "stdout",
     "output_type": "stream",
     "text": [
      "Map: 301.074810 total counts\n",
      "Spec: 150.435112 total counts\n"
     ]
    }
   ],
   "source": [
    "res2, tot2 = test2.compute_npred()\n",
    "res1, tot1 = test.compute_npred()\n",
    "print(f\"Map: {tot1:.6f} total counts\")\n",
    "print(f\"Spec: {tot2:.6f} total counts\")"
   ]
  },
  {
   "cell_type": "code",
   "execution_count": 99,
   "metadata": {
    "ExecuteTime": {
     "end_time": "2023-09-07T11:54:33.567879Z",
     "start_time": "2023-09-07T11:54:33.448769Z"
    }
   },
   "outputs": [
    {
     "name": "stdout",
     "output_type": "stream",
     "text": [
      "2.0014465682659752 2.0010291374528606\n"
     ]
    },
    {
     "data": {
      "image/png": "[encoded data removed]",
      "text/plain": [
       "<Figure size 640x480 with 1 Axes>"
      ]
     },
     "metadata": {},
     "output_type": "display_data"
    }
   ],
   "source": [
    "ratio_res = res1/res2\n",
    "plt.scatter(np.linspace(0,1,len(ratio_res)), ratio_res, s=4)\n",
    "plt.axhline(model_gauss.temporal_model.alpha.value, c='k', alpha=0.3)\n",
    "plt.axhline(np.mean(ratio_res), c='b')\n",
    "plt.axhline(np.median(ratio_res), c='b', ls='--')\n",
    "print(np.mean(ratio_res), np.median(ratio_res))"
   ]
  },
  {
   "cell_type": "code",
   "execution_count": null,
   "metadata": {},
   "outputs": [],
   "source": []
  },
  {
   "cell_type": "markdown",
   "metadata": {},
   "source": [
    "The problem is that once the model has a temporal model the evaluation and integra_geom methods require GTIs. The model value is then scaled with the np.sum(integral) over the temporal model, so a simple scalar which is not what we need.\n",
    "\n",
    "So we need to somehow split the model and the temporal model during evaluation but we also need to keep the model instance intact so it recieves the updated parameters correctly."
   ]
  },
  {
   "cell_type": "code",
   "execution_count": null,
   "metadata": {},
   "outputs": [],
   "source": []
  }
 ],
 "metadata": {
  "kernelspec": {
   "display_name": "Python [conda env:gammapy-1.1]",
   "language": "python",
   "name": "conda-env-gammapy-1.1-py"
  },
  "language_info": {
   "codemirror_mode": {
    "name": "ipython",
    "version": 3
   },
   "file_extension": ".py",
   "mimetype": "text/x-python",
   "name": "python",
   "nbconvert_exporter": "python",
   "pygments_lexer": "ipython3",
   "version": "3.9.16"
  }
 },
 "nbformat": 4,
 "nbformat_minor": 2
}
