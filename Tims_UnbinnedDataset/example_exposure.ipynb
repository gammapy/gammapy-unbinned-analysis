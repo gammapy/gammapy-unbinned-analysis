{
 "cells": [
  {
   "cell_type": "code",
   "execution_count": 1,
   "metadata": {},
   "outputs": [
    {
     "name": "stdout",
     "output_type": "stream",
     "text": [
      "1.0\n"
     ]
    }
   ],
   "source": [
    "import gammapy\n",
    "print(gammapy.__version__)\n",
    "\n",
    "import matplotlib.pyplot as plt\n",
    "import numpy as np\n",
    "import astropy.units as u\n",
    "from astropy.coordinates import SkyCoord\n",
    "from gammapy.data import DataStore, Observation\n",
    "from gammapy.datasets import MapDataset\n",
    "from gammapy.maps import MapAxis, WcsGeom, Map\n",
    "from gammapy.makers import MapDatasetMaker"
   ]
  },
  {
   "cell_type": "code",
   "execution_count": 2,
   "metadata": {},
   "outputs": [],
   "source": [
    "data_store = DataStore.from_dir(\"$GAMMAPY_DATA/hess-dl3-dr1\")\n",
    "obs_id = [23523] # just one observation \n",
    "obs1 = data_store.get_observations(obs_id)[0]"
   ]
  },
  {
   "cell_type": "code",
   "execution_count": 3,
   "metadata": {},
   "outputs": [],
   "source": [
    "crab_pos = SkyCoord(184.557, -5.784, unit='deg', frame='galactic') \n",
    "obs_pos=obs1.pointing_radec\n",
    "ebins = np.geomspace(0.5,100,100) # a fine binning in true energy\n",
    "energy_axis = MapAxis.from_edges(\n",
    "    ebins, unit=\"TeV\", name=\"energy\", interp=\"log\"  \n",
    ")\n",
    "energy_axis_true = MapAxis.from_edges(\n",
    "    ebins, unit=\"TeV\", name=\"energy_true\", interp=\"log\"  \n",
    ")\n",
    "migra_axis = MapAxis.from_bounds(\n",
    "    0.2, 5, nbin=160, node_type=\"edges\", name=\"migra\"\n",
    ")\n",
    "geom = WcsGeom.create(\n",
    "    skydir=obs_pos,\n",
    "    binsz=0.02,\n",
    "    width=(3.5, 3.5),\n",
    "    frame=\"icrs\",\n",
    "    proj=\"CAR\",\n",
    "    axes=[energy_axis],\n",
    ")"
   ]
  },
  {
   "cell_type": "code",
   "execution_count": 4,
   "metadata": {},
   "outputs": [
    {
     "name": "stdout",
     "output_type": "stream",
     "text": [
      "CPU times: user 1.14 s, sys: 238 ms, total: 1.37 s\n",
      "Wall time: 1.4 s\n"
     ]
    }
   ],
   "source": [
    "%%time\n",
    "maker = MapDatasetMaker(selection=['exposure'])\n",
    "reference = MapDataset.create(geom=geom, energy_axis_true=energy_axis_true, migra_axis=migra_axis)\n",
    "\n",
    "dataset = maker.run(reference, obs1)"
   ]
  },
  {
   "cell_type": "code",
   "execution_count": 19,
   "metadata": {},
   "outputs": [],
   "source": [
    "def make_exposure_factors(livetime, aeff, pointing, coords):\n",
    "    \"\"\"Get energy dispersion for a given event and true energy axis.\n",
    "\n",
    "        Parameters\n",
    "        ----------\n",
    "        livetime : `~astropy.units.quantity.Quantity`\n",
    "            livetime of the observation    \n",
    "        aeff : `~gammapy.irf.effective_area.EffectiveAreaTable2D`\n",
    "            effective area from the observaton\n",
    "        pointing : `~astropy.coordinates.SkyCoord`\n",
    "            Pointing position of the observation. Should be a single coordinates.\n",
    "        coords : `~gammapy.maps.coord.MapCoord`\n",
    "            coordinates on which the model will be evaluated. Needs true energy axis and skycoord.\n",
    "\n",
    "        Returns\n",
    "        -------\n",
    "        exposure : `~numpy.ndarray`\n",
    "            the exposure values for the unbinned evaluator.\n",
    "        \"\"\"\n",
    "    offsets = coords.skycoord.separation(pointing)\n",
    "    exposure = aeff.evaluate(offset=offsets, energy_true=coords[\"energy_true\"])\n",
    "    return (exposure * livetime).to(\"m2 s\")"
   ]
  },
  {
   "cell_type": "code",
   "execution_count": 37,
   "metadata": {},
   "outputs": [],
   "source": [
    "coords = dataset.exposure.geom.get_coord(sparse=True) # sparse is important for speed\n",
    "# we should make sure that we also give sparse coords"
   ]
  },
  {
   "cell_type": "code",
   "execution_count": 38,
   "metadata": {},
   "outputs": [],
   "source": [
    "exp_manual = make_exposure_factors(obs1.observation_live_time_duration, obs1.aeff, obs1.pointing_radec, coords)"
   ]
  },
  {
   "cell_type": "code",
   "execution_count": 39,
   "metadata": {},
   "outputs": [
    {
     "name": "stdout",
     "output_type": "stream",
     "text": [
      "371 ms ± 424 µs per loop (mean ± std. dev. of 7 runs, 1 loop each)\n",
      "for 3031875 values\n"
     ]
    }
   ],
   "source": [
    "# some timing\n",
    "%timeit make_exposure_factors(obs1.fixed_pointing_info.duration, obs1.aeff, obs1.pointing_radec, coords)\n",
    "print(f\"for {np.prod(exp_manual.shape)} values\")"
   ]
  },
  {
   "cell_type": "code",
   "execution_count": 40,
   "metadata": {},
   "outputs": [
    {
     "data": {
      "text/plain": [
       "True"
      ]
     },
     "execution_count": 40,
     "metadata": {},
     "output_type": "execute_result"
    }
   ],
   "source": [
    "np.all(exp_manual == dataset.exposure.quantity)"
   ]
  },
  {
   "cell_type": "code",
   "execution_count": null,
   "metadata": {},
   "outputs": [],
   "source": []
  }
 ],
 "metadata": {
  "kernelspec": {
   "display_name": "Python [conda env:gammapy-1.0]",
   "language": "python",
   "name": "conda-env-gammapy-1.0-py"
  },
  "language_info": {
   "codemirror_mode": {
    "name": "ipython",
    "version": 3
   },
   "file_extension": ".py",
   "mimetype": "text/x-python",
   "name": "python",
   "nbconvert_exporter": "python",
   "pygments_lexer": "ipython3",
   "version": "3.9.15"
  }
 },
 "nbformat": 4,
 "nbformat_minor": 2
}
